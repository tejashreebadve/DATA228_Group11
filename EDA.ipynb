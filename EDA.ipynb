{
 "cells": [
  {
   "cell_type": "code",
   "execution_count": 1,
   "id": "12e38d6f-d173-4ff0-a610-5dc129e10018",
   "metadata": {},
   "outputs": [],
   "source": [
    "from pyspark.sql import SparkSession\n",
    "from pyspark.sql.functions import *\n",
    "from pyspark.sql.types import *\n",
    "from pyspark.sql.functions import from_unixtime\n",
    "from pyspark.ml.recommendation import ALS\n",
    "from pyspark.ml.feature import StringIndexer, IndexToString\n",
    "import matplotlib.pyplot as plt\n",
    "import pandas as pd\n",
    "import seaborn as sns\n",
    "from scipy import stats\n",
    "from pyspark.sql.functions import col, sum as _sum"
   ]
  },
  {
   "cell_type": "markdown",
   "id": "09f01f19-a1ec-4c46-92ff-f2496a6b7a77",
   "metadata": {},
   "source": [
    "## Data Extraction from HDFS with PySpark"
   ]
  },
  {
   "cell_type": "markdown",
   "id": "da72071a-6017-4f21-bee3-26fb215e307b",
   "metadata": {},
   "source": [
    "from pyspark.sql import SparkSession\n",
    "\n",
    "spark = SparkSession.builder \\\n",
    "    .appName(\"SteamReviewsHDFS\") \\\n",
    "    .config(\"spark.hadoop.fs.defaultFS\", \"hdfs://localhost:9000\") \\\n",
    "    .getOrCreate()\n"
   ]
  },
  {
   "cell_type": "code",
   "execution_count": 3,
   "id": "8a7fe127-b78a-4ea6-bbb8-40c12b7f7372",
   "metadata": {},
   "outputs": [
    {
     "name": "stderr",
     "output_type": "stream",
     "text": [
      "Setting default log level to \"WARN\".\n",
      "To adjust logging level use sc.setLogLevel(newLevel). For SparkR, use setLogLevel(newLevel).\n",
      "25/04/28 13:05:19 WARN NativeCodeLoader: Unable to load native-hadoop library for your platform... using builtin-java classes where applicable\n",
      "25/04/28 13:05:20 WARN Utils: Service 'SparkUI' could not bind on port 4040. Attempting port 4041.\n",
      "25/04/28 13:05:20 WARN Utils: Service 'SparkUI' could not bind on port 4041. Attempting port 4042.\n"
     ]
    }
   ],
   "source": [
    "from pyspark.sql import SparkSession\n",
    "\n",
    "spark = SparkSession.builder \\\n",
    "    .appName(\"SteamReviewsHDFS\") \\\n",
    "    .config(\"spark.hadoop.fs.defaultFS\", \"hdfs://localhost:9000\") \\\n",
    "    .config(\"spark.driver.memory\", \"4g\") \\\n",
    "    .config(\"spark.executor.memory\", \"4g\") \\\n",
    "    .config(\"spark.sql.shuffle.partitions\", \"100\")\\\n",
    "    .config(\"spark.sql.execution.arrow.pyspark.enabled\", \"true\") \\\n",
    "    .getOrCreate()\n"
   ]
  },
  {
   "cell_type": "code",
   "execution_count": 5,
   "id": "d7765094-61dd-4f39-8f0e-f617abba2790",
   "metadata": {},
   "outputs": [
    {
     "name": "stderr",
     "output_type": "stream",
     "text": [
      "                                                                                \r"
     ]
    }
   ],
   "source": [
    "df = spark.read.csv(\"/user/tejashree/project/steam_reviews.csv\", header=True, inferSchema=True)\n"
   ]
  },
  {
   "cell_type": "code",
   "execution_count": 6,
   "id": "01a86ead-f3e1-4c06-9c66-5267db16c89c",
   "metadata": {},
   "outputs": [
    {
     "name": "stdout",
     "output_type": "stream",
     "text": [
      "+---+------+--------------------+---------+--------+----------------------------------+-----------------+-----------------+-----------+-------------+-----------+-------------------+-------------+--------------+-----------------+---------------------------+-----------------+----------------------+------------------+-----------------------+------------------------------+-------------------------+------------------+\n",
      "|_c0|app_id|            app_name|review_id|language|                            review|timestamp_created|timestamp_updated|recommended|votes_helpful|votes_funny|weighted_vote_score|comment_count|steam_purchase|received_for_free|written_during_early_access|   author.steamid|author.num_games_owned|author.num_reviews|author.playtime_forever|author.playtime_last_two_weeks|author.playtime_at_review|author.last_played|\n",
      "+---+------+--------------------+---------+--------+----------------------------------+-----------------+-----------------+-----------+-------------+-----------+-------------------+-------------+--------------+-----------------+---------------------------+-----------------+----------------------+------------------+-----------------------+------------------------------+-------------------------+------------------+\n",
      "|  0|292030|The Witcher 3: Wi...| 85185598|schinese|不玩此生遗憾，RPG游戏里的天花板...|       1611381629|       1611381629|       True|            0|          0|                0.0|            0|          True|            False|                      False|76561199095369542|                     6|                 2|                 1909.0|                        1448.0|                   1909.0|      1611343383.0|\n",
      "|  1|292030|The Witcher 3: Wi...| 85185250|schinese|       拔DIAO无情打桩机--杰洛特!!!|       1611381030|       1611381030|       True|            0|          0|                0.0|            0|          True|            False|                      False|76561198949504115|                    30|                10|                 2764.0|                        2743.0|                   2674.0|      1611386307.0|\n",
      "|  2|292030|The Witcher 3: Wi...| 85185111|schinese|                           巫师3NB|       1611380800|       1611380800|       True|            0|          0|                0.0|            0|          True|            False|                      False|76561199090098988|                     5|                 1|                 1061.0|                        1061.0|                   1060.0|      1611383777.0|\n",
      "|  3|292030|The Witcher 3: Wi...| 85184605| english|              One of the best R...|       1611379970|       1611379970|       True|            0|          0|                0.0|            0|          True|            False|                      False|76561199054755373|                     5|                 3|                 5587.0|                        3200.0|                   5524.0|      1611383744.0|\n",
      "|  4|292030|The Witcher 3: Wi...| 85184287|schinese|                              大作|       1611379427|       1611379427|       True|            0|          0|                0.0|            0|          True|            False|                      False|76561199028326951|                     7|                 4|                  217.0|                          42.0|                    217.0|      1610788249.0|\n",
      "+---+------+--------------------+---------+--------+----------------------------------+-----------------+-----------------+-----------+-------------+-----------+-------------------+-------------+--------------+-----------------+---------------------------+-----------------+----------------------+------------------+-----------------------+------------------------------+-------------------------+------------------+\n",
      "only showing top 5 rows\n",
      "\n"
     ]
    },
    {
     "name": "stderr",
     "output_type": "stream",
     "text": [
      "25/04/27 22:42:55 WARN CSVHeaderChecker: CSV header does not conform to the schema.\n",
      " Header: , app_id, app_name, review_id, language, review, timestamp_created, timestamp_updated, recommended, votes_helpful, votes_funny, weighted_vote_score, comment_count, steam_purchase, received_for_free, written_during_early_access, author.steamid, author.num_games_owned, author.num_reviews, author.playtime_forever, author.playtime_last_two_weeks, author.playtime_at_review, author.last_played\n",
      " Schema: _c0, app_id, app_name, review_id, language, review, timestamp_created, timestamp_updated, recommended, votes_helpful, votes_funny, weighted_vote_score, comment_count, steam_purchase, received_for_free, written_during_early_access, author.steamid, author.num_games_owned, author.num_reviews, author.playtime_forever, author.playtime_last_two_weeks, author.playtime_at_review, author.last_played\n",
      "Expected: _c0 but found: \n",
      "CSV file: hdfs://localhost:9000/user/tejashree/project/steam_reviews.csv\n"
     ]
    }
   ],
   "source": [
    "df.show(5)\n"
   ]
  },
  {
   "cell_type": "code",
   "execution_count": 7,
   "id": "b5e6f228-d293-41da-8315-99f705d2e9ca",
   "metadata": {},
   "outputs": [
    {
     "name": "stdout",
     "output_type": "stream",
     "text": [
      "root\n",
      " |-- _c0: string (nullable = true)\n",
      " |-- app_id: string (nullable = true)\n",
      " |-- app_name: string (nullable = true)\n",
      " |-- review_id: string (nullable = true)\n",
      " |-- language: string (nullable = true)\n",
      " |-- review: string (nullable = true)\n",
      " |-- timestamp_created: string (nullable = true)\n",
      " |-- timestamp_updated: string (nullable = true)\n",
      " |-- recommended: string (nullable = true)\n",
      " |-- votes_helpful: string (nullable = true)\n",
      " |-- votes_funny: string (nullable = true)\n",
      " |-- weighted_vote_score: string (nullable = true)\n",
      " |-- comment_count: string (nullable = true)\n",
      " |-- steam_purchase: string (nullable = true)\n",
      " |-- received_for_free: string (nullable = true)\n",
      " |-- written_during_early_access: string (nullable = true)\n",
      " |-- author.steamid: string (nullable = true)\n",
      " |-- author.num_games_owned: string (nullable = true)\n",
      " |-- author.num_reviews: string (nullable = true)\n",
      " |-- author.playtime_forever: string (nullable = true)\n",
      " |-- author.playtime_last_two_weeks: string (nullable = true)\n",
      " |-- author.playtime_at_review: string (nullable = true)\n",
      " |-- author.last_played: string (nullable = true)\n",
      "\n"
     ]
    }
   ],
   "source": [
    "df.printSchema()"
   ]
  },
  {
   "cell_type": "code",
   "execution_count": 8,
   "id": "80e5d40a-b766-4511-8f80-9c228bbe0911",
   "metadata": {},
   "outputs": [
    {
     "name": "stderr",
     "output_type": "stream",
     "text": [
      "                                                                                \r"
     ]
    },
    {
     "data": {
      "text/plain": [
       "40848659"
      ]
     },
     "execution_count": 8,
     "metadata": {},
     "output_type": "execute_result"
    }
   ],
   "source": [
    "df.count()"
   ]
  },
  {
   "cell_type": "markdown",
   "id": "a7b1ced3-a360-4de6-8071-bb9b7e89db0b",
   "metadata": {},
   "source": [
    "## Data Cleaning and Pre-Processing\n",
    "\n",
    "- Convert the column names into valid names - remove the dots and replace them with underscore.\n",
    "- Remove the NULL records from the data set \n",
    "- Convert the columns into appropriate data types. For e.g., app_id can be converted to IntegerType() and all the timestamp strings into timestamps."
   ]
  },
  {
   "cell_type": "code",
   "execution_count": 10,
   "id": "efa8321f-489f-4719-a9ad-5b5f9ae99354",
   "metadata": {},
   "outputs": [],
   "source": [
    "data_csv = df.withColumnRenamed(\"author.steamid\",\"author_steamid\"). \\\n",
    "withColumnRenamed(\"author.num_games_owned\",\"author_num_games_owned\").\\\n",
    "withColumnRenamed(\"author.num_reviews\", \"author_num_reviews\").\\\n",
    "withColumnRenamed(\"author.playtime_forever\",\"author_playtime_forever\").\\\n",
    "withColumnRenamed(\"author.playtime_at_review\",\"author_playtime_at_review\").\\\n",
    "withColumnRenamed(\"author.last_played\",\"author_last_played\").\\\n",
    "withColumnRenamed(\"author.playtime_last_two_weeks\", \"author_playtime_last_two_weeks\")"
   ]
  },
  {
   "cell_type": "code",
   "execution_count": 11,
   "id": "95ea6a2d-9a65-46fe-a12f-d9ecbc5a1dc3",
   "metadata": {},
   "outputs": [
    {
     "name": "stdout",
     "output_type": "stream",
     "text": [
      "root\n",
      " |-- _c0: string (nullable = true)\n",
      " |-- app_id: string (nullable = true)\n",
      " |-- app_name: string (nullable = true)\n",
      " |-- review_id: string (nullable = true)\n",
      " |-- language: string (nullable = true)\n",
      " |-- review: string (nullable = true)\n",
      " |-- timestamp_created: string (nullable = true)\n",
      " |-- timestamp_updated: string (nullable = true)\n",
      " |-- recommended: string (nullable = true)\n",
      " |-- votes_helpful: string (nullable = true)\n",
      " |-- votes_funny: string (nullable = true)\n",
      " |-- weighted_vote_score: string (nullable = true)\n",
      " |-- comment_count: string (nullable = true)\n",
      " |-- steam_purchase: string (nullable = true)\n",
      " |-- received_for_free: string (nullable = true)\n",
      " |-- written_during_early_access: string (nullable = true)\n",
      " |-- author_steamid: string (nullable = true)\n",
      " |-- author_num_games_owned: string (nullable = true)\n",
      " |-- author_num_reviews: string (nullable = true)\n",
      " |-- author_playtime_forever: string (nullable = true)\n",
      " |-- author_playtime_last_two_weeks: string (nullable = true)\n",
      " |-- author_playtime_at_review: string (nullable = true)\n",
      " |-- author_last_played: string (nullable = true)\n",
      "\n"
     ]
    }
   ],
   "source": [
    "data_csv.printSchema()"
   ]
  },
  {
   "cell_type": "markdown",
   "id": "fd7d8453-0b63-4647-9141-1984517e27b1",
   "metadata": {},
   "source": [
    "## Check NUll"
   ]
  },
  {
   "cell_type": "code",
   "execution_count": 13,
   "id": "c78293ed-5b42-471f-8383-a02a46b3b5ce",
   "metadata": {},
   "outputs": [],
   "source": [
    "columns_to_check = [c for c in data_csv.columns if c != '_c0']\n",
    "\n",
    "null_counts = data_csv.select([\n",
    "    _sum(col(c).isNull().cast(\"int\")).alias(c) for c in columns_to_check\n",
    "])"
   ]
  },
  {
   "cell_type": "code",
   "execution_count": 14,
   "id": "bd22f26a-e21e-4049-a40e-58e7d190e42c",
   "metadata": {},
   "outputs": [
    {
     "name": "stderr",
     "output_type": "stream",
     "text": [
      "[Stage 6:=====================================================>   (57 + 4) / 61]\r"
     ]
    },
    {
     "name": "stdout",
     "output_type": "stream",
     "text": [
      "                                       0\n",
      "app_id                          11335874\n",
      "app_name                        13077913\n",
      "review_id                       13975798\n",
      "language                        14498420\n",
      "review                          14860610\n",
      "timestamp_created               19928219\n",
      "timestamp_updated               20104213\n",
      "recommended                     20217490\n",
      "votes_helpful                   20296075\n",
      "votes_funny                     20350386\n",
      "weighted_vote_score             20389679\n",
      "comment_count                   20417234\n",
      "steam_purchase                  20437907\n",
      "received_for_free               20452713\n",
      "written_during_early_access     20464051\n",
      "author_steamid                  20476095\n",
      "author_num_games_owned          20480003\n",
      "author_num_reviews              22945129\n",
      "author_playtime_forever         23511575\n",
      "author_playtime_last_two_weeks  23759374\n",
      "author_playtime_at_review       23902511\n",
      "author_last_played              23951902\n"
     ]
    },
    {
     "name": "stderr",
     "output_type": "stream",
     "text": [
      "                                                                                \r"
     ]
    }
   ],
   "source": [
    "null_counts_pd = null_counts.toPandas()\n",
    "print(null_counts_pd.T)  # T = transpose\n"
   ]
  },
  {
   "cell_type": "markdown",
   "id": "5d654266-3ce2-4acb-988a-64f5707e48a4",
   "metadata": {},
   "source": [
    "## Handling missing values\n",
    "➡ Drop rows missing app_id, review_id, review, recommended (core fields)\n",
    "➡ Fill numeric columns like votes_helpful, votes_funny with 0\n",
    "➡ Ignore user info if missing (optional for dashboard)\n",
    "\n"
   ]
  },
  {
   "cell_type": "code",
   "execution_count": 16,
   "id": "d9371d61-c301-4bab-b8bb-a8c671227be4",
   "metadata": {},
   "outputs": [],
   "source": [
    "important_cols = [\"app_id\", \"review_id\", \"review\", \"recommended\"]\n",
    "numeric_fill_cols = [\"votes_helpful\", \"votes_funny\", \"comment_count\", \"weighted_vote_score\"]"
   ]
  },
  {
   "cell_type": "code",
   "execution_count": 17,
   "id": "d7463457-bfed-46ef-b67b-1d647cfd5487",
   "metadata": {},
   "outputs": [],
   "source": [
    "#Drop rows where any important column is NULL\n",
    "df_clean = data_csv.dropna(subset=important_cols)\n",
    "\n",
    "#Fill numeric columns (votes helpful, funny, comment_count) with 0 where NULL\n",
    "for col_name in numeric_fill_cols:\n",
    "    df_clean = df_clean.withColumn(col_name, coalesce(col_name, lit(0)))\n",
    "\n",
    "#fill steam_purchase, received_for_free to 'Unknown'\n",
    "df_clean = df_clean.fillna({\n",
    "    \"steam_purchase\": \"unknown\",\n",
    "    \"received_for_free\": \"unknown\"\n",
    "})"
   ]
  },
  {
   "cell_type": "markdown",
   "id": "52d24df9-acba-4f17-965b-9b31ca760177",
   "metadata": {},
   "source": [
    "### Normalize text"
   ]
  },
  {
   "cell_type": "code",
   "execution_count": 19,
   "id": "ebbcc981-109e-4c39-9001-f9e5df88d25e",
   "metadata": {},
   "outputs": [],
   "source": [
    "# 2. Normalize text:\n",
    "#    a. Remove HTML tags\n",
    "#    b. Remove emojis and non-text symbols\n",
    "#    c. Keep Unicode letters (all languages) and spaces\n",
    "df_clean = df_clean.withColumn(\n",
    "    \"cleaned_review\",\n",
    "    regexp_replace(\n",
    "        lower(col(\"review\")),\n",
    "        \"<[^>]*>\",  # Remove HTML\n",
    "        \"\"\n",
    "    )\n",
    ")\n",
    "df_clean = df_clean.withColumn(\n",
    "    \"cleaned_review\",\n",
    "    regexp_replace(\n",
    "        col(\"cleaned_review\"),\n",
    "        \"[^\\\\p{L}\\\\s]\",  # Keep Unicode letters and whitespace only\n",
    "        \"\"\n",
    "    )\n",
    ")\n",
    "df_clean = df_clean.withColumn(\"cleaned_review\", trim(col(\"cleaned_review\")))\n"
   ]
  },
  {
   "cell_type": "code",
   "execution_count": 20,
   "id": "4ab12a93-d77f-4d24-be62-614ec4bbec1d",
   "metadata": {},
   "outputs": [
    {
     "name": "stderr",
     "output_type": "stream",
     "text": [
      "25/04/27 22:43:15 WARN CSVHeaderChecker: CSV header does not conform to the schema.\n",
      " Header: , app_id, app_name, review_id, language, review, timestamp_created, timestamp_updated, recommended, votes_helpful, votes_funny, weighted_vote_score, comment_count, steam_purchase, received_for_free, written_during_early_access, author.steamid, author.num_games_owned, author.num_reviews, author.playtime_forever, author.playtime_last_two_weeks, author.playtime_at_review, author.last_played\n",
      " Schema: _c0, app_id, app_name, review_id, language, review, timestamp_created, timestamp_updated, recommended, votes_helpful, votes_funny, weighted_vote_score, comment_count, steam_purchase, received_for_free, written_during_early_access, author.steamid, author.num_games_owned, author.num_reviews, author.playtime_forever, author.playtime_last_two_weeks, author.playtime_at_review, author.last_played\n",
      "Expected: _c0 but found: \n",
      "CSV file: hdfs://localhost:9000/user/tejashree/project/steam_reviews.csv\n"
     ]
    },
    {
     "name": "stdout",
     "output_type": "stream",
     "text": [
      "  _c0  app_id                  app_name review_id  language  \\\n",
      "0   0  292030  The Witcher 3: Wild Hunt  85185598  schinese   \n",
      "1   1  292030  The Witcher 3: Wild Hunt  85185250  schinese   \n",
      "2   2  292030  The Witcher 3: Wild Hunt  85185111  schinese   \n",
      "3   3  292030  The Witcher 3: Wild Hunt  85184605   english   \n",
      "4   4  292030  The Witcher 3: Wild Hunt  85184287  schinese   \n",
      "5   5  292030  The Witcher 3: Wild Hunt  85184171   english   \n",
      "6   6  292030  The Witcher 3: Wild Hunt  85184064   english   \n",
      "7   8  292030  The Witcher 3: Wild Hunt  85183227  schinese   \n",
      "8   9  292030  The Witcher 3: Wild Hunt  85182785   spanish   \n",
      "9  10  292030  The Witcher 3: Wild Hunt  85182697  schinese   \n",
      "\n",
      "                                              review timestamp_created  \\\n",
      "0                            不玩此生遗憾，RPG游戏里的天花板，太吸引人了        1611381629   \n",
      "1                                 拔DIAO无情打桩机--杰洛特!!!        1611381030   \n",
      "2                                              巫师3NB        1611380800   \n",
      "3  One of the best RPG's of all time, worthy of a...        1611379970   \n",
      "4                                                 大作        1611379427   \n",
      "5             good story, good graphics. lots to do.        1611379264   \n",
      "6                                           dis gud,        1611379091   \n",
      "7                                   年度最佳的作品，没啥好夸的，神作        1611377703   \n",
      "8                                         great game        1611377005   \n",
      "9                                             神作！不bb        1611376831   \n",
      "\n",
      "  timestamp_updated recommended votes_helpful  ... received_for_free  \\\n",
      "0        1611381629        True             0  ...             False   \n",
      "1        1611381030        True             0  ...             False   \n",
      "2        1611380800        True             0  ...             False   \n",
      "3        1611379970        True             0  ...             False   \n",
      "4        1611379427        True             0  ...             False   \n",
      "5        1611379264        True             0  ...             False   \n",
      "6        1611379091        True             0  ...             False   \n",
      "7        1611377703        True             0  ...             False   \n",
      "8        1611377005        True             0  ...             False   \n",
      "9        1611376831        True             0  ...             False   \n",
      "\n",
      "  written_during_early_access     author_steamid author_num_games_owned  \\\n",
      "0                       False  76561199095369542                      6   \n",
      "1                       False  76561198949504115                     30   \n",
      "2                       False  76561199090098988                      5   \n",
      "3                       False  76561199054755373                      5   \n",
      "4                       False  76561199028326951                      7   \n",
      "5                       False  76561198170193529                     11   \n",
      "6                       False  76561198119302812                     27   \n",
      "7                       False  76561198130808993                    581   \n",
      "8                       False  76561198301724112                     38   \n",
      "9                       False  76561199089209577                     29   \n",
      "\n",
      "  author_num_reviews author_playtime_forever author_playtime_last_two_weeks  \\\n",
      "0                  2                  1909.0                         1448.0   \n",
      "1                 10                  2764.0                         2743.0   \n",
      "2                  1                  1061.0                         1061.0   \n",
      "3                  3                  5587.0                         3200.0   \n",
      "4                  4                   217.0                           42.0   \n",
      "5                  1                   823.0                          823.0   \n",
      "6                  2                  4192.0                         3398.0   \n",
      "7                 17                  6921.0                          222.0   \n",
      "8                  5                  2399.0                          333.0   \n",
      "9                  1                  5368.0                         1471.0   \n",
      "\n",
      "  author_playtime_at_review author_last_played  \\\n",
      "0                    1909.0       1611343383.0   \n",
      "1                    2674.0       1611386307.0   \n",
      "2                    1060.0       1611383777.0   \n",
      "3                    5524.0       1611383744.0   \n",
      "4                     217.0       1610788249.0   \n",
      "5                     823.0       1611379201.0   \n",
      "6                    4192.0       1611351734.0   \n",
      "7                    6921.0       1611317275.0   \n",
      "8                    2364.0       1611379080.0   \n",
      "9                    5368.0       1611371665.0   \n",
      "\n",
      "                                      cleaned_review  \n",
      "0                              不玩此生遗憾rpg游戏里的天花板太吸引人了  \n",
      "1                                      拔diao无情打桩机杰洛特  \n",
      "2                                               巫师nb  \n",
      "3  one of the best rpgs of all time worthy of any...  \n",
      "4                                                 大作  \n",
      "5                good story good graphics lots to do  \n",
      "6                                            dis gud  \n",
      "7                                     年度最佳的作品没啥好夸的神作  \n",
      "8                                         great game  \n",
      "9                                              神作不bb  \n",
      "\n",
      "[10 rows x 24 columns]\n"
     ]
    }
   ],
   "source": [
    "df_sample = df_clean.limit(10).toPandas()\n",
    "print(df_sample)"
   ]
  },
  {
   "cell_type": "code",
   "execution_count": 21,
   "id": "aa9f4d5d-60fa-45be-815e-3b79561e2fd3",
   "metadata": {},
   "outputs": [
    {
     "name": "stderr",
     "output_type": "stream",
     "text": [
      "                                                                                \r"
     ]
    },
    {
     "data": {
      "text/plain": [
       "20595477"
      ]
     },
     "execution_count": 21,
     "metadata": {},
     "output_type": "execute_result"
    }
   ],
   "source": [
    "df_clean.count()"
   ]
  },
  {
   "cell_type": "code",
   "execution_count": 22,
   "id": "c254f183-4150-4b7a-a12d-625a0a07338d",
   "metadata": {},
   "outputs": [
    {
     "name": "stdout",
     "output_type": "stream",
     "text": [
      "root\n",
      " |-- _c0: string (nullable = true)\n",
      " |-- app_id: string (nullable = true)\n",
      " |-- app_name: string (nullable = true)\n",
      " |-- review_id: string (nullable = true)\n",
      " |-- language: string (nullable = true)\n",
      " |-- review: string (nullable = true)\n",
      " |-- timestamp_created: string (nullable = true)\n",
      " |-- timestamp_updated: string (nullable = true)\n",
      " |-- recommended: string (nullable = true)\n",
      " |-- votes_helpful: string (nullable = false)\n",
      " |-- votes_funny: string (nullable = false)\n",
      " |-- weighted_vote_score: string (nullable = false)\n",
      " |-- comment_count: string (nullable = false)\n",
      " |-- steam_purchase: string (nullable = false)\n",
      " |-- received_for_free: string (nullable = false)\n",
      " |-- written_during_early_access: string (nullable = true)\n",
      " |-- author_steamid: string (nullable = true)\n",
      " |-- author_num_games_owned: string (nullable = true)\n",
      " |-- author_num_reviews: string (nullable = true)\n",
      " |-- author_playtime_forever: string (nullable = true)\n",
      " |-- author_playtime_last_two_weeks: string (nullable = true)\n",
      " |-- author_playtime_at_review: string (nullable = true)\n",
      " |-- author_last_played: string (nullable = true)\n",
      " |-- cleaned_review: string (nullable = true)\n",
      "\n"
     ]
    }
   ],
   "source": [
    "df_clean.printSchema()"
   ]
  },
  {
   "cell_type": "code",
   "execution_count": 23,
   "id": "56cea878-a0b9-4230-930e-62e8e4813c1d",
   "metadata": {},
   "outputs": [],
   "source": [
    "# Changing the data type of each columns into appropriate types\n",
    "df_clean = df_clean.withColumn(\"app_id\",df_clean[\"app_id\"].cast(IntegerType())).\\\n",
    "            withColumn(\"review_id\", df_clean[\"review_id\"].cast(LongType())).\\\n",
    "            withColumn(\"author_steamid\", df_clean[\"author_steamid\"].cast(LongType())).\\\n",
    "            withColumn(\"recommended\", df_clean[\"recommended\"].cast(BooleanType())).\\\n",
    "            withColumn(\"steam_purchase\", df_clean[\"steam_purchase\"].cast(BooleanType())).\\\n",
    "            withColumn(\"author_num_games_owned\", df_clean[\"author_num_games_owned\"].cast(IntegerType())).\\\n",
    "            withColumn(\"author_num_reviews\", df_clean[\"author_num_reviews\"].cast(IntegerType())).\\\n",
    "            withColumn(\"author_playtime_forever\", df_clean[\"author_playtime_forever\"].cast(FloatType())).\\\n",
    "            withColumn(\"author_playtime_at_review\", df_clean[\"author_playtime_at_review\"].cast(FloatType()))"
   ]
  },
  {
   "cell_type": "code",
   "execution_count": 24,
   "id": "31a7586f-7b29-4432-aae8-1c284e4ae792",
   "metadata": {},
   "outputs": [],
   "source": [
    "# Converting the time columns into timestamp data type\n",
    "df_clean = df_clean.withColumn(\"timestamp_created\", from_unixtime(\"timestamp_created\").cast(\"timestamp\")).\\\n",
    "            withColumn(\"author_last_played\", from_unixtime(df_clean[\"author_last_played\"]).cast(TimestampType())).\\\n",
    "            withColumn(\"timestamp_updated\", from_unixtime(df_clean[\"timestamp_updated\"]).cast(TimestampType()))"
   ]
  },
  {
   "cell_type": "code",
   "execution_count": 25,
   "id": "d0050923-af24-4711-b7a9-bacfa8db5fc3",
   "metadata": {},
   "outputs": [
    {
     "name": "stdout",
     "output_type": "stream",
     "text": [
      "root\n",
      " |-- _c0: string (nullable = true)\n",
      " |-- app_id: integer (nullable = true)\n",
      " |-- app_name: string (nullable = true)\n",
      " |-- review_id: long (nullable = true)\n",
      " |-- language: string (nullable = true)\n",
      " |-- review: string (nullable = true)\n",
      " |-- timestamp_created: timestamp (nullable = true)\n",
      " |-- timestamp_updated: timestamp (nullable = true)\n",
      " |-- recommended: boolean (nullable = true)\n",
      " |-- votes_helpful: string (nullable = false)\n",
      " |-- votes_funny: string (nullable = false)\n",
      " |-- weighted_vote_score: string (nullable = false)\n",
      " |-- comment_count: string (nullable = false)\n",
      " |-- steam_purchase: boolean (nullable = true)\n",
      " |-- received_for_free: string (nullable = false)\n",
      " |-- written_during_early_access: string (nullable = true)\n",
      " |-- author_steamid: long (nullable = true)\n",
      " |-- author_num_games_owned: integer (nullable = true)\n",
      " |-- author_num_reviews: integer (nullable = true)\n",
      " |-- author_playtime_forever: float (nullable = true)\n",
      " |-- author_playtime_last_two_weeks: string (nullable = true)\n",
      " |-- author_playtime_at_review: float (nullable = true)\n",
      " |-- author_last_played: timestamp (nullable = true)\n",
      " |-- cleaned_review: string (nullable = true)\n",
      "\n"
     ]
    }
   ],
   "source": [
    "df_clean.printSchema()"
   ]
  },
  {
   "cell_type": "code",
   "execution_count": 26,
   "id": "128c41f6-821b-4686-850a-a0d0719e1cd5",
   "metadata": {},
   "outputs": [
    {
     "name": "stderr",
     "output_type": "stream",
     "text": [
      "25/04/27 22:43:26 WARN CSVHeaderChecker: CSV header does not conform to the schema.\n",
      " Header: , app_id, app_name, review_id, language, review, timestamp_created, timestamp_updated, recommended, votes_helpful, votes_funny, weighted_vote_score, comment_count, steam_purchase, received_for_free, written_during_early_access, author.steamid, author.num_games_owned, author.num_reviews, author.playtime_forever, author.playtime_last_two_weeks, author.playtime_at_review, author.last_played\n",
      " Schema: _c0, app_id, app_name, review_id, language, review, timestamp_created, timestamp_updated, recommended, votes_helpful, votes_funny, weighted_vote_score, comment_count, steam_purchase, received_for_free, written_during_early_access, author.steamid, author.num_games_owned, author.num_reviews, author.playtime_forever, author.playtime_last_two_weeks, author.playtime_at_review, author.last_played\n",
      "Expected: _c0 but found: \n",
      "CSV file: hdfs://localhost:9000/user/tejashree/project/steam_reviews.csv\n"
     ]
    },
    {
     "name": "stdout",
     "output_type": "stream",
     "text": [
      "  _c0  app_id                  app_name  review_id  language  \\\n",
      "0   0  292030  The Witcher 3: Wild Hunt   85185598  schinese   \n",
      "1   1  292030  The Witcher 3: Wild Hunt   85185250  schinese   \n",
      "2   2  292030  The Witcher 3: Wild Hunt   85185111  schinese   \n",
      "3   3  292030  The Witcher 3: Wild Hunt   85184605   english   \n",
      "4   4  292030  The Witcher 3: Wild Hunt   85184287  schinese   \n",
      "5   5  292030  The Witcher 3: Wild Hunt   85184171   english   \n",
      "6   6  292030  The Witcher 3: Wild Hunt   85184064   english   \n",
      "7   8  292030  The Witcher 3: Wild Hunt   85183227  schinese   \n",
      "8   9  292030  The Witcher 3: Wild Hunt   85182785   spanish   \n",
      "9  10  292030  The Witcher 3: Wild Hunt   85182697  schinese   \n",
      "\n",
      "                                              review   timestamp_created  \\\n",
      "0                            不玩此生遗憾，RPG游戏里的天花板，太吸引人了 2021-01-22 22:00:29   \n",
      "1                                 拔DIAO无情打桩机--杰洛特!!! 2021-01-22 21:50:30   \n",
      "2                                              巫师3NB 2021-01-22 21:46:40   \n",
      "3  One of the best RPG's of all time, worthy of a... 2021-01-22 21:32:50   \n",
      "4                                                 大作 2021-01-22 21:23:47   \n",
      "5             good story, good graphics. lots to do. 2021-01-22 21:21:04   \n",
      "6                                           dis gud, 2021-01-22 21:18:11   \n",
      "7                                   年度最佳的作品，没啥好夸的，神作 2021-01-22 20:55:03   \n",
      "8                                         great game 2021-01-22 20:43:25   \n",
      "9                                             神作！不bb 2021-01-22 20:40:31   \n",
      "\n",
      "    timestamp_updated  recommended votes_helpful  ... received_for_free  \\\n",
      "0 2021-01-22 22:00:29         True             0  ...             False   \n",
      "1 2021-01-22 21:50:30         True             0  ...             False   \n",
      "2 2021-01-22 21:46:40         True             0  ...             False   \n",
      "3 2021-01-22 21:32:50         True             0  ...             False   \n",
      "4 2021-01-22 21:23:47         True             0  ...             False   \n",
      "5 2021-01-22 21:21:04         True             0  ...             False   \n",
      "6 2021-01-22 21:18:11         True             0  ...             False   \n",
      "7 2021-01-22 20:55:03         True             0  ...             False   \n",
      "8 2021-01-22 20:43:25         True             0  ...             False   \n",
      "9 2021-01-22 20:40:31         True             0  ...             False   \n",
      "\n",
      "  written_during_early_access     author_steamid  author_num_games_owned  \\\n",
      "0                       False  76561199095369542                       6   \n",
      "1                       False  76561198949504115                      30   \n",
      "2                       False  76561199090098988                       5   \n",
      "3                       False  76561199054755373                       5   \n",
      "4                       False  76561199028326951                       7   \n",
      "5                       False  76561198170193529                      11   \n",
      "6                       False  76561198119302812                      27   \n",
      "7                       False  76561198130808993                     581   \n",
      "8                       False  76561198301724112                      38   \n",
      "9                       False  76561199089209577                      29   \n",
      "\n",
      "  author_num_reviews author_playtime_forever  author_playtime_last_two_weeks  \\\n",
      "0                  2                  1909.0                          1448.0   \n",
      "1                 10                  2764.0                          2743.0   \n",
      "2                  1                  1061.0                          1061.0   \n",
      "3                  3                  5587.0                          3200.0   \n",
      "4                  4                   217.0                            42.0   \n",
      "5                  1                   823.0                           823.0   \n",
      "6                  2                  4192.0                          3398.0   \n",
      "7                 17                  6921.0                           222.0   \n",
      "8                  5                  2399.0                           333.0   \n",
      "9                  1                  5368.0                          1471.0   \n",
      "\n",
      "   author_playtime_at_review  author_last_played  \\\n",
      "0                     1909.0 2021-01-22 11:23:03   \n",
      "1                     2674.0 2021-01-22 23:18:27   \n",
      "2                     1060.0 2021-01-22 22:36:17   \n",
      "3                     5524.0 2021-01-22 22:35:44   \n",
      "4                      217.0 2021-01-16 01:10:49   \n",
      "5                      823.0 2021-01-22 21:20:01   \n",
      "6                     4192.0 2021-01-22 13:42:14   \n",
      "7                     6921.0 2021-01-22 04:07:55   \n",
      "8                     2364.0 2021-01-22 21:18:00   \n",
      "9                     5368.0 2021-01-22 19:14:25   \n",
      "\n",
      "                                      cleaned_review  \n",
      "0                              不玩此生遗憾rpg游戏里的天花板太吸引人了  \n",
      "1                                      拔diao无情打桩机杰洛特  \n",
      "2                                               巫师nb  \n",
      "3  one of the best rpgs of all time worthy of any...  \n",
      "4                                                 大作  \n",
      "5                good story good graphics lots to do  \n",
      "6                                            dis gud  \n",
      "7                                     年度最佳的作品没啥好夸的神作  \n",
      "8                                         great game  \n",
      "9                                              神作不bb  \n",
      "\n",
      "[10 rows x 24 columns]\n"
     ]
    }
   ],
   "source": [
    "df_sample2 = df_clean.limit(10).toPandas()\n",
    "print(df_sample2)"
   ]
  },
  {
   "cell_type": "markdown",
   "id": "3cbc5bc7-0103-494b-9607-703da10adba9",
   "metadata": {},
   "source": [
    "## Save the cleaned data to HDFS in Parquet format "
   ]
  },
  {
   "cell_type": "code",
   "execution_count": 28,
   "id": "d77bdc20-65be-49d8-9572-8af54c520cbe",
   "metadata": {},
   "outputs": [
    {
     "name": "stderr",
     "output_type": "stream",
     "text": [
      "25/04/27 22:43:27 WARN CSVHeaderChecker: CSV header does not conform to the schema.\n",
      " Header: , app_id, app_name, review_id, language, review, timestamp_created, timestamp_updated, recommended, votes_helpful, votes_funny, weighted_vote_score, comment_count, steam_purchase, received_for_free, written_during_early_access, author.steamid, author.num_games_owned, author.num_reviews, author.playtime_forever, author.playtime_last_two_weeks, author.playtime_at_review, author.last_played\n",
      " Schema: _c0, app_id, app_name, review_id, language, review, timestamp_created, timestamp_updated, recommended, votes_helpful, votes_funny, weighted_vote_score, comment_count, steam_purchase, received_for_free, written_during_early_access, author.steamid, author.num_games_owned, author.num_reviews, author.playtime_forever, author.playtime_last_two_weeks, author.playtime_at_review, author.last_played\n",
      "Expected: _c0 but found: \n",
      "CSV file: hdfs://localhost:9000/user/tejashree/project/steam_reviews.csv\n",
      "                                                                                \r"
     ]
    }
   ],
   "source": [
    "#df_clean.write.mode(\"overwrite\").parquet(\"/user/tejashree/project/cleaned_steam_reviews.parquet\")"
   ]
  },
  {
   "cell_type": "markdown",
   "id": "add45212-ae91-4bca-9f44-3559aacd14fc",
   "metadata": {},
   "source": [
    "## # Changing the data type of each columns into appropriate types"
   ]
  },
  {
   "cell_type": "code",
   "execution_count": null,
   "id": "0cca55f4-9e47-4d34-8792-32fd2d6b801c",
   "metadata": {},
   "outputs": [],
   "source": []
  },
  {
   "cell_type": "markdown",
   "id": "081969c7-d4d4-4087-9f19-ea841e72f4f6",
   "metadata": {},
   "source": [
    "### Data Preprocessing and grouping"
   ]
  },
  {
   "cell_type": "code",
   "execution_count": 31,
   "id": "dfa0ba2f-8be3-46e0-92d5-9a9280084840",
   "metadata": {},
   "outputs": [],
   "source": [
    "# We form a list of columns to be included in different smaller data frames\n",
    "col_demo = [\"app_id\", \"app_name\", \"review_id\", \"language\", \"author_steamid\", \"timestamp_created\" ,\"author_playtime_forever\",\"recommended\"]\n",
    "col_author = [\"steam_purchase\", 'author_steamid', \"author_num_games_owned\", \"author_num_reviews\", \"author_playtime_forever\", \"author_playtime_at_review\", \"author_last_played\",\"recommended\"]\n",
    "col_time = [ \"app_id\", \"app_name\", \"timestamp_created\", \"timestamp_updated\", 'author_playtime_at_review', \"recommended\"]\n",
    "col_rev = [ \"app_id\", \"app_name\", \"language\", \"recommended\"]\n",
    "col_rec = [\"app_id\", \"app_name\", \"recommended\"] # checking recommendation % for a specific game"
   ]
  },
  {
   "cell_type": "code",
   "execution_count": 32,
   "id": "e36a8c5e-3d71-48ce-a569-0097119e0cb9",
   "metadata": {},
   "outputs": [],
   "source": [
    "data_demo = df_clean.select(*col_demo)"
   ]
  },
  {
   "cell_type": "code",
   "execution_count": 33,
   "id": "fc5fead0-085f-4fb0-bba3-f9f6ba42dde4",
   "metadata": {},
   "outputs": [
    {
     "name": "stdout",
     "output_type": "stream",
     "text": [
      "+----------+--------------------+---------+--------+-----------------+-------------------+-----------------------+-----------+\n",
      "|    app_id|            app_name|review_id|language|   author_steamid|  timestamp_created|author_playtime_forever|recommended|\n",
      "+----------+--------------------+---------+--------+-----------------+-------------------+-----------------------+-----------+\n",
      "|    292030|The Witcher 3: Wi...| 85185598|schinese|76561199095369542|2021-01-22 22:00:29|                 1909.0|       true|\n",
      "|    292030|The Witcher 3: Wi...| 85185250|schinese|76561198949504115|2021-01-22 21:50:30|                 2764.0|       true|\n",
      "|    292030|The Witcher 3: Wi...| 85185111|schinese|76561199090098988|2021-01-22 21:46:40|                 1061.0|       true|\n",
      "|    292030|The Witcher 3: Wi...| 85184605| english|76561199054755373|2021-01-22 21:32:50|                 5587.0|       true|\n",
      "|    292030|The Witcher 3: Wi...| 85184287|schinese|76561199028326951|2021-01-22 21:23:47|                  217.0|       true|\n",
      "|    292030|The Witcher 3: Wi...| 85184171| english|76561198170193529|2021-01-22 21:21:04|                  823.0|       true|\n",
      "|    292030|The Witcher 3: Wi...| 85184064| english|76561198119302812|2021-01-22 21:18:11|                 4192.0|       true|\n",
      "|    292030|The Witcher 3: Wi...| 85183227|schinese|76561198130808993|2021-01-22 20:55:03|                 6921.0|       true|\n",
      "|    292030|The Witcher 3: Wi...| 85182785| spanish|76561198301724112|2021-01-22 20:43:25|                 2399.0|       true|\n",
      "|    292030|The Witcher 3: Wi...| 85182697|schinese|76561199089209577|2021-01-22 20:40:31|                 5368.0|       true|\n",
      "|    292030|The Witcher 3: Wi...| 85182372| russian|76561198257031328|2021-01-22 20:31:21|                  508.0|       true|\n",
      "|1611375772|          1611375772|     NULL|       0|             6598|1969-12-31 16:00:00|                   NULL|       true|\n",
      "|    292030|The Witcher 3: Wi...| 85181146| russian|76561197987104694|2021-01-22 19:57:18|                 7310.0|       true|\n",
      "|    292030|The Witcher 3: Wi...| 85181114| koreana|76561199120263118|2021-01-22 19:56:35|                 3285.0|       true|\n",
      "|    292030|The Witcher 3: Wi...| 85180815|   latam|76561198301696591|2021-01-22 19:48:28|                 3586.0|       true|\n",
      "|    292030|The Witcher 3: Wi...| 85180734|schinese|76561198985671330|2021-01-22 19:46:33|                 5483.0|       true|\n",
      "|    292030|The Witcher 3: Wi...| 85180438|schinese|76561198149550625|2021-01-22 19:38:07|                 5442.0|       true|\n",
      "|    292030|The Witcher 3: Wi...| 85180436| english|76561198065591528|2021-01-22 19:38:06|                23329.0|       true|\n",
      "|    292030|The Witcher 3: Wi...| 85179968|schinese|76561198249585974|2021-01-22 19:24:46|                 2153.0|       true|\n",
      "|    292030|The Witcher 3: Wi...| 85179753| english|76561198996835044|2021-01-22 19:19:38|                 8557.0|       true|\n",
      "+----------+--------------------+---------+--------+-----------------+-------------------+-----------------------+-----------+\n",
      "only showing top 20 rows\n",
      "\n"
     ]
    }
   ],
   "source": [
    "data_demo.show()"
   ]
  },
  {
   "cell_type": "code",
   "execution_count": 34,
   "id": "feb6b685-b73f-4ad6-b91a-9bf8544f838d",
   "metadata": {},
   "outputs": [
    {
     "name": "stdout",
     "output_type": "stream",
     "text": [
      "+--------------+-----------------+----------------------+------------------+-----------------------+-------------------------+-------------------+-----------+\n",
      "|steam_purchase|   author_steamid|author_num_games_owned|author_num_reviews|author_playtime_forever|author_playtime_at_review| author_last_played|recommended|\n",
      "+--------------+-----------------+----------------------+------------------+-----------------------+-------------------------+-------------------+-----------+\n",
      "|          true|76561199095369542|                     6|                 2|                 1909.0|                   1909.0|2021-01-22 11:23:03|       true|\n",
      "|          true|76561198949504115|                    30|                10|                 2764.0|                   2674.0|2021-01-22 23:18:27|       true|\n",
      "|          true|76561199090098988|                     5|                 1|                 1061.0|                   1060.0|2021-01-22 22:36:17|       true|\n",
      "|          true|76561199054755373|                     5|                 3|                 5587.0|                   5524.0|2021-01-22 22:35:44|       true|\n",
      "|          true|76561199028326951|                     7|                 4|                  217.0|                    217.0|2021-01-16 01:10:49|       true|\n",
      "|          true|76561198170193529|                    11|                 1|                  823.0|                    823.0|2021-01-22 21:20:01|       true|\n",
      "|          true|76561198119302812|                    27|                 2|                 4192.0|                   4192.0|2021-01-22 13:42:14|       true|\n",
      "|          true|76561198130808993|                   581|                17|                 6921.0|                   6921.0|2021-01-22 04:07:55|       true|\n",
      "|          true|76561198301724112|                    38|                 5|                 2399.0|                   2364.0|2021-01-22 21:18:00|       true|\n",
      "|         false|76561199089209577|                    29|                 1|                 5368.0|                   5368.0|2021-01-22 19:14:25|       true|\n",
      "|          true|76561198257031328|                    11|                 2|                  508.0|                    348.0|2021-01-22 23:22:48|       true|\n",
      "|          true|             6598|            1610715923|              NULL|                   NULL|                     NULL|               NULL|       true|\n",
      "|          true|76561197987104694|                   501|                23|                 7310.0|                   7310.0|2018-05-05 14:09:09|       true|\n",
      "|          true|76561199120263118|                     1|                 1|                 3285.0|                   3205.0|2021-01-22 23:10:40|       true|\n",
      "|          true|76561198301696591|                     5|                 1|                 3586.0|                   3586.0|2020-12-30 21:02:58|       true|\n",
      "|          true|76561198985671330|                     9|                 1|                 5483.0|                   5483.0|2021-01-22 19:06:43|       true|\n",
      "|         false|76561198149550625|                    66|                 7|                 5442.0|                   5396.0|2021-01-22 23:24:06|       true|\n",
      "|          true|76561198065591528|                    33|                 1|                23329.0|                  23329.0|2021-01-21 00:50:11|       true|\n",
      "|         false|76561198249585974|                    31|                 5|                 2153.0|                   2153.0|2021-01-22 06:23:06|       true|\n",
      "|          true|76561198996835044|                   131|                 2|                 8557.0|                   8557.0|2021-01-22 19:02:47|       true|\n",
      "+--------------+-----------------+----------------------+------------------+-----------------------+-------------------------+-------------------+-----------+\n",
      "only showing top 20 rows\n",
      "\n"
     ]
    }
   ],
   "source": [
    "data_author = df_clean.select(*col_author)\n",
    "data_author.show()"
   ]
  },
  {
   "cell_type": "code",
   "execution_count": 35,
   "id": "5225e5bb-8e21-49a2-ae51-848815e03e43",
   "metadata": {},
   "outputs": [
    {
     "name": "stdout",
     "output_type": "stream",
     "text": [
      "+----------+--------------------+-------------------+-------------------+-------------------------+-----------+\n",
      "|    app_id|            app_name|  timestamp_created|  timestamp_updated|author_playtime_at_review|recommended|\n",
      "+----------+--------------------+-------------------+-------------------+-------------------------+-----------+\n",
      "|    292030|The Witcher 3: Wi...|2021-01-22 22:00:29|2021-01-22 22:00:29|                   1909.0|       true|\n",
      "|    292030|The Witcher 3: Wi...|2021-01-22 21:50:30|2021-01-22 21:50:30|                   2674.0|       true|\n",
      "|    292030|The Witcher 3: Wi...|2021-01-22 21:46:40|2021-01-22 21:46:40|                   1060.0|       true|\n",
      "|    292030|The Witcher 3: Wi...|2021-01-22 21:32:50|2021-01-22 21:32:50|                   5524.0|       true|\n",
      "|    292030|The Witcher 3: Wi...|2021-01-22 21:23:47|2021-01-22 21:23:47|                    217.0|       true|\n",
      "|    292030|The Witcher 3: Wi...|2021-01-22 21:21:04|2021-01-22 21:21:04|                    823.0|       true|\n",
      "|    292030|The Witcher 3: Wi...|2021-01-22 21:18:11|2021-01-22 21:18:11|                   4192.0|       true|\n",
      "|    292030|The Witcher 3: Wi...|2021-01-22 20:55:03|2021-01-22 20:55:03|                   6921.0|       true|\n",
      "|    292030|The Witcher 3: Wi...|2021-01-22 20:43:25|2021-01-22 20:43:25|                   2364.0|       true|\n",
      "|    292030|The Witcher 3: Wi...|2021-01-22 20:40:31|2021-01-22 20:40:31|                   5368.0|       true|\n",
      "|    292030|The Witcher 3: Wi...|2021-01-22 20:31:21|2021-01-22 20:31:21|                    348.0|       true|\n",
      "|1611375772|          1611375772|1969-12-31 16:00:00|1969-12-31 16:00:00|                     NULL|       true|\n",
      "|    292030|The Witcher 3: Wi...|2021-01-22 19:57:18|2021-01-22 19:58:29|                   7310.0|       true|\n",
      "|    292030|The Witcher 3: Wi...|2021-01-22 19:56:35|2021-01-22 19:56:35|                   3205.0|       true|\n",
      "|    292030|The Witcher 3: Wi...|2021-01-22 19:48:28|2021-01-22 19:48:28|                   3586.0|       true|\n",
      "|    292030|The Witcher 3: Wi...|2021-01-22 19:46:33|2021-01-22 19:46:33|                   5483.0|       true|\n",
      "|    292030|The Witcher 3: Wi...|2021-01-22 19:38:07|2021-01-22 19:38:07|                   5396.0|       true|\n",
      "|    292030|The Witcher 3: Wi...|2021-01-22 19:38:06|2021-01-22 19:38:06|                  23329.0|       true|\n",
      "|    292030|The Witcher 3: Wi...|2021-01-22 19:24:46|2021-01-22 19:24:46|                   2153.0|       true|\n",
      "|    292030|The Witcher 3: Wi...|2021-01-22 19:19:38|2021-01-22 19:19:38|                   8557.0|       true|\n",
      "+----------+--------------------+-------------------+-------------------+-------------------------+-----------+\n",
      "only showing top 20 rows\n",
      "\n"
     ]
    }
   ],
   "source": [
    "data_time = df_clean.select(*col_time)\n",
    "data_time.show()"
   ]
  },
  {
   "cell_type": "code",
   "execution_count": 36,
   "id": "b639065e-c96d-43b8-891f-c91912d6789b",
   "metadata": {},
   "outputs": [
    {
     "name": "stdout",
     "output_type": "stream",
     "text": [
      "+----------+--------------------+--------+-----------+\n",
      "|    app_id|            app_name|language|recommended|\n",
      "+----------+--------------------+--------+-----------+\n",
      "|    292030|The Witcher 3: Wi...|schinese|       true|\n",
      "|    292030|The Witcher 3: Wi...|schinese|       true|\n",
      "|    292030|The Witcher 3: Wi...|schinese|       true|\n",
      "|    292030|The Witcher 3: Wi...| english|       true|\n",
      "|    292030|The Witcher 3: Wi...|schinese|       true|\n",
      "|    292030|The Witcher 3: Wi...| english|       true|\n",
      "|    292030|The Witcher 3: Wi...| english|       true|\n",
      "|    292030|The Witcher 3: Wi...|schinese|       true|\n",
      "|    292030|The Witcher 3: Wi...| spanish|       true|\n",
      "|    292030|The Witcher 3: Wi...|schinese|       true|\n",
      "|    292030|The Witcher 3: Wi...| russian|       true|\n",
      "|1611375772|          1611375772|       0|       true|\n",
      "|    292030|The Witcher 3: Wi...| russian|       true|\n",
      "|    292030|The Witcher 3: Wi...| koreana|       true|\n",
      "|    292030|The Witcher 3: Wi...|   latam|       true|\n",
      "|    292030|The Witcher 3: Wi...|schinese|       true|\n",
      "|    292030|The Witcher 3: Wi...|schinese|       true|\n",
      "|    292030|The Witcher 3: Wi...| english|       true|\n",
      "|    292030|The Witcher 3: Wi...|schinese|       true|\n",
      "|    292030|The Witcher 3: Wi...| english|       true|\n",
      "+----------+--------------------+--------+-----------+\n",
      "only showing top 20 rows\n",
      "\n"
     ]
    }
   ],
   "source": [
    "data_rev = df_clean.select(*col_rev)\n",
    "data_rev.show()"
   ]
  },
  {
   "cell_type": "code",
   "execution_count": 37,
   "id": "04b73949-2d71-4c81-ab25-9a5fb3c6a927",
   "metadata": {},
   "outputs": [
    {
     "name": "stdout",
     "output_type": "stream",
     "text": [
      "+----------+--------------------+-----------+\n",
      "|    app_id|            app_name|recommended|\n",
      "+----------+--------------------+-----------+\n",
      "|    292030|The Witcher 3: Wi...|       true|\n",
      "|    292030|The Witcher 3: Wi...|       true|\n",
      "|    292030|The Witcher 3: Wi...|       true|\n",
      "|    292030|The Witcher 3: Wi...|       true|\n",
      "|    292030|The Witcher 3: Wi...|       true|\n",
      "|    292030|The Witcher 3: Wi...|       true|\n",
      "|    292030|The Witcher 3: Wi...|       true|\n",
      "|    292030|The Witcher 3: Wi...|       true|\n",
      "|    292030|The Witcher 3: Wi...|       true|\n",
      "|    292030|The Witcher 3: Wi...|       true|\n",
      "|    292030|The Witcher 3: Wi...|       true|\n",
      "|1611375772|          1611375772|       true|\n",
      "|    292030|The Witcher 3: Wi...|       true|\n",
      "|    292030|The Witcher 3: Wi...|       true|\n",
      "|    292030|The Witcher 3: Wi...|       true|\n",
      "|    292030|The Witcher 3: Wi...|       true|\n",
      "|    292030|The Witcher 3: Wi...|       true|\n",
      "|    292030|The Witcher 3: Wi...|       true|\n",
      "|    292030|The Witcher 3: Wi...|       true|\n",
      "|    292030|The Witcher 3: Wi...|       true|\n",
      "+----------+--------------------+-----------+\n",
      "only showing top 20 rows\n",
      "\n"
     ]
    }
   ],
   "source": [
    "data_rec = df_clean.select(*col_rec)\n",
    "data_rec.show()"
   ]
  },
  {
   "cell_type": "code",
   "execution_count": 38,
   "id": "e86009f9-cee1-4f41-bbe2-a7b23ef68e95",
   "metadata": {},
   "outputs": [
    {
     "name": "stdout",
     "output_type": "stream",
     "text": [
      "Parquet read successful. Number of rows: 20595477\n"
     ]
    }
   ],
   "source": [
    "# Try to read the parquet back\n",
    "try:\n",
    "    test_df = spark.read.parquet(\"/user/tejashree/project/cleaned_steam_reviews.parquet\")\n",
    "    print(\"Parquet read successful. Number of rows:\", test_df.count())\n",
    "except Exception as e:\n",
    "    print(\"Error reading parquet:\", str(e))\n"
   ]
  },
  {
   "cell_type": "markdown",
   "id": "dbbb17f5-f544-4356-af6c-beb0a639582e",
   "metadata": {},
   "source": [
    "### filter data for analysis langauga = english"
   ]
  },
  {
   "cell_type": "code",
   "execution_count": 5,
   "id": "ea04f725-41cf-485d-8ba4-547289c34048",
   "metadata": {},
   "outputs": [],
   "source": [
    "df_cleaned_parquet = spark.read.parquet(\"/user/tejashree/project/cleaned_steam_reviews.parquet\")\n"
   ]
  },
  {
   "cell_type": "code",
   "execution_count": 7,
   "id": "c4b173bc-781f-429e-90bd-1189854f4c12",
   "metadata": {},
   "outputs": [],
   "source": [
    "english_df = df_cleaned_parquet.filter(df_cleaned_parquet.language == \"english\")\n"
   ]
  },
  {
   "cell_type": "code",
   "execution_count": 9,
   "id": "fcd68fb5-5341-4e45-836a-73317b893090",
   "metadata": {},
   "outputs": [
    {
     "name": "stderr",
     "output_type": "stream",
     "text": [
      "                                                                                \r"
     ]
    }
   ],
   "source": [
    "english_df.write.mode(\"overwrite\").parquet(\"/user/tejashree/project/steam_review_english.parquet\")\n"
   ]
  },
  {
   "cell_type": "code",
   "execution_count": 11,
   "id": "c09e4df2-9d94-4289-9d0b-2a3ef2c872ac",
   "metadata": {},
   "outputs": [
    {
     "name": "stdout",
     "output_type": "stream",
     "text": [
      "Parquet read successful. Number of rows: 7327298\n"
     ]
    }
   ],
   "source": [
    "try:\n",
    "    test_df = spark.read.parquet(\"/user/tejashree/project/steam_review_english.parquet\")\n",
    "    print(\"Parquet read successful. Number of rows:\", test_df.count())\n",
    "except Exception as e:\n",
    "    print(\"Error reading parquet:\", str(e))\n"
   ]
  },
  {
   "cell_type": "code",
   "execution_count": 13,
   "id": "8fe466d5-8724-4738-8199-7cf768b0fbad",
   "metadata": {},
   "outputs": [],
   "source": [
    "spark.stop()"
   ]
  },
  {
   "cell_type": "code",
   "execution_count": null,
   "id": "820f3da8-3b75-4b5d-a67e-31827e8fd0fc",
   "metadata": {},
   "outputs": [],
   "source": []
  }
 ],
 "metadata": {
  "kernelspec": {
   "display_name": "Python 3 (ipykernel)",
   "language": "python",
   "name": "python3"
  },
  "language_info": {
   "codemirror_mode": {
    "name": "ipython",
    "version": 3
   },
   "file_extension": ".py",
   "mimetype": "text/x-python",
   "name": "python",
   "nbconvert_exporter": "python",
   "pygments_lexer": "ipython3",
   "version": "3.12.4"
  }
 },
 "nbformat": 4,
 "nbformat_minor": 5
}
