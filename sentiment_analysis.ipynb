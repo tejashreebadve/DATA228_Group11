{
 "cells": [
  {
   "cell_type": "code",
   "execution_count": 38,
   "id": "fb69a6e5-e24b-41b0-a7e6-527a5aa6fa15",
   "metadata": {},
   "outputs": [],
   "source": [
    "from pyspark.sql import SparkSession\n",
    "from pyspark.sql.functions import *\n",
    "from pyspark.sql.types import *\n",
    "from pyspark.sql.functions import from_unixtime\n",
    "from pyspark.ml.recommendation import ALS\n",
    "from pyspark.ml.feature import StringIndexer, IndexToString\n",
    "import matplotlib.pyplot as plt\n",
    "import pandas as pd\n",
    "import seaborn as sns\n",
    "from scipy import stats\n",
    "from pyspark.sql.functions import col, sum as _sum\n",
    "from pyspark.ml import Pipeline\n",
    "\n",
    "from pyspark.ml.feature import Tokenizer, NGram, HashingTF, IDF, VectorAssembler\n",
    "from pyspark.ml.classification import LogisticRegression\n",
    "from pyspark.ml.evaluation import BinaryClassificationEvaluator\n",
    "from pyspark.sql.functions import length, when, col\n"
   ]
  },
  {
   "cell_type": "code",
   "execution_count": 3,
   "id": "b751ccf1-a995-48c5-95c5-269a92516825",
   "metadata": {},
   "outputs": [
    {
     "name": "stderr",
     "output_type": "stream",
     "text": [
      "Setting default log level to \"WARN\".\n",
      "To adjust logging level use sc.setLogLevel(newLevel). For SparkR, use setLogLevel(newLevel).\n",
      "25/04/28 13:10:34 WARN NativeCodeLoader: Unable to load native-hadoop library for your platform... using builtin-java classes where applicable\n",
      "25/04/28 13:10:35 WARN Utils: Service 'SparkUI' could not bind on port 4040. Attempting port 4041.\n",
      "25/04/28 13:10:35 WARN Utils: Service 'SparkUI' could not bind on port 4041. Attempting port 4042.\n",
      "25/04/28 13:10:35 WARN Utils: Service 'SparkUI' could not bind on port 4042. Attempting port 4043.\n"
     ]
    }
   ],
   "source": [
    "from pyspark.sql import SparkSession\n",
    "\n",
    "spark = SparkSession.builder \\\n",
    "    .appName(\"SteamReviewsHDFS\") \\\n",
    "    .config(\"spark.hadoop.fs.defaultFS\", \"hdfs://localhost:9000\") \\\n",
    "    .config(\"spark.driver.memory\", \"4g\") \\\n",
    "    .config(\"spark.executor.memory\", \"4g\") \\\n",
    "    .config(\"spark.sql.shuffle.partitions\", \"100\")\\\n",
    "    .config(\"spark.sql.execution.arrow.pyspark.enabled\", \"true\") \\\n",
    "    .getOrCreate()"
   ]
  },
  {
   "cell_type": "code",
   "execution_count": 5,
   "id": "bdd1c13a-cb3d-4c9f-9acc-10171bb996d2",
   "metadata": {},
   "outputs": [],
   "source": [
    "english_df = spark.read.parquet(\"/user/tejashree/project/steam_review_english.parquet\")\n"
   ]
  },
  {
   "cell_type": "code",
   "execution_count": 11,
   "id": "43abb9d1-d230-4380-b24e-1c769acdce57",
   "metadata": {},
   "outputs": [
    {
     "name": "stdout",
     "output_type": "stream",
     "text": [
      "+-------+------+------------+---------+--------+---------------------------------------------------------------------------------------------------------------------------------------------------------------------------------------------------------------------------+-------------------+-------------------+-----------+-------------+-----------+-------------------+-------------+--------------+-----------------+---------------------------+-----------------+----------------------+------------------+-----------------------+------------------------------+-------------------------+-------------------+------------------------------------------------------------------------------------------------------------------------------------------------------------------------------------------------------------------+\n",
      "|_c0    |app_id|app_name    |review_id|language|review                                                                                                                                                                                                                     |timestamp_created  |timestamp_updated  |recommended|votes_helpful|votes_funny|weighted_vote_score|comment_count|steam_purchase|received_for_free|written_during_early_access|author_steamid   |author_num_games_owned|author_num_reviews|author_playtime_forever|author_playtime_last_two_weeks|author_playtime_at_review|author_last_played |cleaned_review                                                                                                                                                                                                    |\n",
      "+-------+------+------------+---------+--------+---------------------------------------------------------------------------------------------------------------------------------------------------------------------------------------------------------------------------+-------------------+-------------------+-----------+-------------+-----------+-------------------+-------------+--------------+-----------------+---------------------------+-----------------+----------------------+------------------+-----------------------+------------------------------+-------------------------+-------------------+------------------------------------------------------------------------------------------------------------------------------------------------------------------------------------------------------------------+\n",
      "|8460788|739630|Phasmophobia|77662932 |english |good game                                                                                                                                                                                                                  |2020-10-16 11:58:32|2020-10-16 11:58:32|true       |0            |0          |0.0                |0            |true          |False            |True                       |76561198323316679|10                    |2                 |1731.0                 |0.0                           |448.0                    |2020-11-30 11:15:01|good game                                                                                                                                                                                                         |\n",
      "|8460789|739630|Phasmophobia|77662911 |english |Simple, straight forward, spooky af. You have a building, you have some tools, and you have a ghost to find. The ambience is scary, and the detective/puzzle aspect is enough to force you through that door over and over.|2020-10-16 11:58:11|2020-10-16 11:58:11|true       |0            |0          |0.0                |0            |true          |False            |True                       |76561198086828947|33                    |1                 |6569.0                 |0.0                           |658.0                    |2021-01-02 23:20:49|simple straight forward spooky af you have a building you have some tools and you have a ghost to find the ambience is scary and the detectivepuzzle aspect is enough to force you through that door over and over|\n",
      "|8460793|739630|Phasmophobia|77662862 |english |Was genuinely scared while playing this.                                                                                                                                                                                   |2020-10-16 11:57:08|2020-10-16 11:57:08|true       |0            |0          |0.0                |0            |true          |False            |True                       |76561198063281176|150                   |5                 |936.0                  |0.0                           |145.0                    |2020-12-24 19:22:01|was genuinely scared while playing this                                                                                                                                                                           |\n",
      "|8460797|739630|Phasmophobia|77662817 |english |Fantastic game and very very fun                                                                                                                                                                                           |2020-10-16 11:56:24|2020-10-16 11:56:24|true       |0            |0          |0.0                |0            |true          |False            |True                       |76561198163292709|14                    |1                 |1449.0                 |0.0                           |749.0                    |2020-12-05 19:37:11|fantastic game and very very fun                                                                                                                                                                                  |\n",
      "|8460799|739630|Phasmophobia|77662718 |english |Game is tight. Game be spoop. Hope we get some more cool stuff soon!                                                                                                                                                       |2020-10-16 11:54:35|2020-10-16 11:54:35|true       |2            |0          |0.52173912525177   |0            |true          |False            |True                       |76561198010858124|484                   |5                 |4813.0                 |75.0                          |1412.0                   |2021-01-17 08:41:25|game is tight game be spoop hope we get some more cool stuff soon                                                                                                                                                 |\n",
      "+-------+------+------------+---------+--------+---------------------------------------------------------------------------------------------------------------------------------------------------------------------------------------------------------------------------+-------------------+-------------------+-----------+-------------+-----------+-------------------+-------------+--------------+-----------------+---------------------------+-----------------+----------------------+------------------+-----------------------+------------------------------+-------------------------+-------------------+------------------------------------------------------------------------------------------------------------------------------------------------------------------------------------------------------------------+\n",
      "only showing top 5 rows\n",
      "\n",
      "root\n",
      " |-- _c0: string (nullable = true)\n",
      " |-- app_id: integer (nullable = true)\n",
      " |-- app_name: string (nullable = true)\n",
      " |-- review_id: long (nullable = true)\n",
      " |-- language: string (nullable = true)\n",
      " |-- review: string (nullable = true)\n",
      " |-- timestamp_created: timestamp (nullable = true)\n",
      " |-- timestamp_updated: timestamp (nullable = true)\n",
      " |-- recommended: boolean (nullable = true)\n",
      " |-- votes_helpful: string (nullable = true)\n",
      " |-- votes_funny: string (nullable = true)\n",
      " |-- weighted_vote_score: string (nullable = true)\n",
      " |-- comment_count: string (nullable = true)\n",
      " |-- steam_purchase: boolean (nullable = true)\n",
      " |-- received_for_free: string (nullable = true)\n",
      " |-- written_during_early_access: string (nullable = true)\n",
      " |-- author_steamid: long (nullable = true)\n",
      " |-- author_num_games_owned: integer (nullable = true)\n",
      " |-- author_num_reviews: integer (nullable = true)\n",
      " |-- author_playtime_forever: float (nullable = true)\n",
      " |-- author_playtime_last_two_weeks: string (nullable = true)\n",
      " |-- author_playtime_at_review: float (nullable = true)\n",
      " |-- author_last_played: timestamp (nullable = true)\n",
      " |-- cleaned_review: string (nullable = true)\n",
      "\n"
     ]
    }
   ],
   "source": [
    "english_df.show(5, truncate=False)\n",
    "english_df.printSchema()\n"
   ]
  },
  {
   "cell_type": "markdown",
   "id": "29f6f94c-ea2a-4552-b52a-d70f5047fcec",
   "metadata": {},
   "source": [
    "### Remove very short reviews"
   ]
  },
  {
   "cell_type": "code",
   "execution_count": 18,
   "id": "10c313be-654a-4b23-b586-6d4f15d7a282",
   "metadata": {},
   "outputs": [],
   "source": [
    "from pyspark.sql.functions import length\n",
    "\n",
    "english_df = english_df.filter(length(\"cleaned_review\") > 5)\n"
   ]
  },
  {
   "cell_type": "code",
   "execution_count": 22,
   "id": "1f2f57c6-9a64-4ee7-832e-109315dfb2f6",
   "metadata": {},
   "outputs": [],
   "source": [
    "\n",
    "# 2. Fix label: convert boolean to numeric\n",
    "english_df = english_df.withColumn(\n",
    "    \"label\",\n",
    "    when(col(\"recommended\") == True, 1.0).otherwise(0.0)\n",
    ")\n",
    "\n"
   ]
  },
  {
   "cell_type": "code",
   "execution_count": 24,
   "id": "7e3dffad-9de6-424a-84bd-7f7eeac64997",
   "metadata": {},
   "outputs": [],
   "source": [
    "# 3. Tokenizer\n",
    "tokenizer = Tokenizer(inputCol=\"cleaned_review\", outputCol=\"words\")\n",
    "\n",
    "# 4. Feature Extraction: TF-IDF\n",
    "hashingTF = HashingTF(inputCol=\"words\", outputCol=\"rawFeatures\", numFeatures=10000)\n",
    "idf = IDF(inputCol=\"rawFeatures\", outputCol=\"features\")\n",
    "\n",
    "# 5. Logistic Regression Model\n",
    "lr = LogisticRegression(featuresCol=\"features\", labelCol=\"label\")\n",
    "\n",
    "# 6. Build Pipeline\n",
    "pipeline = Pipeline(stages=[tokenizer, hashingTF, idf, lr])\n"
   ]
  },
  {
   "cell_type": "code",
   "execution_count": 26,
   "id": "58a52893-4f54-4245-b243-c0d7cd968035",
   "metadata": {},
   "outputs": [
    {
     "name": "stderr",
     "output_type": "stream",
     "text": [
      "25/04/28 13:30:33 WARN InstanceBuilder: Failed to load implementation from:dev.ludovic.netlib.blas.JNIBLAS\n",
      "                                                                                \r"
     ]
    },
    {
     "name": "stdout",
     "output_type": "stream",
     "text": [
      "✅ ROC-AUC Score: 0.8973\n"
     ]
    },
    {
     "name": "stderr",
     "output_type": "stream",
     "text": [
      "[Stage 224:>                                                        (0 + 1) / 1]\r"
     ]
    },
    {
     "name": "stdout",
     "output_type": "stream",
     "text": [
      "+--------------------------------------------------------------------------------------------------------------------------------------------------------------------------------------------------------------------------------------------------------------------------------------------------------------------------------------------------------------------------------------------------------------------------------------------------------------------------------------------------------------------------------------------------------------------------------------------------------------------------------------------------------------------------------------------------------------------------------------------------------------------------------------------------+-----+----------+------------------------------------------+\n",
      "|cleaned_review                                                                                                                                                                                                                                                                                                                                                                                                                                                                                                                                                                                                                                                                                                                                                                                    |label|prediction|probability                               |\n",
      "+--------------------------------------------------------------------------------------------------------------------------------------------------------------------------------------------------------------------------------------------------------------------------------------------------------------------------------------------------------------------------------------------------------------------------------------------------------------------------------------------------------------------------------------------------------------------------------------------------------------------------------------------------------------------------------------------------------------------------------------------------------------------------------------------------+-----+----------+------------------------------------------+\n",
      "|divinity is honestly one of the best games i have came to play since the witcher  every single quest feels like it has purpose to it i really enjoy the combat even if it can be a little cheap with the stuns sometimes and the story is amazing the devs seem to really care about making a good game and honestly the only bad reviews ive seen so far have been people raging about how to minmax their characters besides that this game should have extreamly posative reviews                                                                                                                                                                                                                                                                                                              |1.0  |1.0       |[0.009708061251970667,0.9902919387480293] |\n",
      "|you have to play it for yourself its a damn near perfect game and a true hidden gem in this lootbox infected gamesindustry if you have any interest in isometric tactical rpgs you have to play this                                                                                                                                                                                                                                                                                                                                                                                                                                                                                                                                                                                              |1.0  |1.0       |[0.009350962522403491,0.9906490374775965] |\n",
      "|i cant stop playing first game like this i have ever played and its amazing one of the most addicting games ive played in a while havent finished my first playthrough yet and already looking forward to my second                                                                                                                                                                                                                                                                                                                                                                                                                                                                                                                                                                               |1.0  |1.0       |[5.89342287186579E-4,0.9994106577128135]  |\n",
      "|another great entry in the crpg genre i would argue that if youve never tried the genre this should be your first stop                                                                                                                                                                                                                                                                                                                                                                                                                                                                                                                                                                                                                                                                            |1.0  |1.0       |[0.03446368412277077,0.9655363158772292]  |\n",
      "|not a good game attempted to get a refund but who are we kidding it takes longer than two hours just to create a character and finish the tutorialwhich two hours is apparently steams one size fits all unit of measurement for all games                                                                                                                                                                                                                                                                                                                                                                                                                                                                                                                                                        |0.0  |0.0       |[0.9201414263549119,0.07985857364508808]  |\n",
      "|the best of the best hands down thovery fun  enjoy                                                                                                                                                                                                                                                                                                                                                                                                                                                                                                                                                                                                                                                                                                                                                |1.0  |1.0       |[0.012119477124358182,0.9878805228756418] |\n",
      "|so many nights staying up until well past  am playing this game for  hours straight                                                                                                                                                                                                                                                                                                                                                                                                                                                                                                                                                                                                                                                                                                               |1.0  |1.0       |[0.11974899846130176,0.8802510015386983]  |\n",
      "|honestly this game brought me back to fantasy rpg the sheer number of choices you make is amazing you can either make your character an assasin who pickpocket every npc you walk across giving you a lot of money in return or become a blood thirsty monster who kills anyone who crosses your path or play by the rules and earn money and gear by other means the content in this game is great i mean i am over  hours in and still in tutorial map the voice acting is great and the npcs are diverse and interesting which really makes you feel immersed in the game lastly the game is very challenging in classic mode but very rewarding when you overcome your obstacles cant wait to get out of the tutorial map and explore the mysterious lands filled with creatures of all kind d|1.0  |1.0       |[3.5831506547383626E-4,0.9996416849345262]|\n",
      "|one of the best role playing games of all time                                                                                                                                                                                                                                                                                                                                                                                                                                                                                                                                                                                                                                                                                                                                                    |1.0  |1.0       |[0.05836220483178349,0.9416377951682166]  |\n",
      "|so much content                                                                                                                                                                                                                                                                                                                                                                                                                                                                                                                                                                                                                                                                                                                                                                                   |1.0  |1.0       |[0.0851633246269346,0.9148366753730655]   |\n",
      "+--------------------------------------------------------------------------------------------------------------------------------------------------------------------------------------------------------------------------------------------------------------------------------------------------------------------------------------------------------------------------------------------------------------------------------------------------------------------------------------------------------------------------------------------------------------------------------------------------------------------------------------------------------------------------------------------------------------------------------------------------------------------------------------------------+-----+----------+------------------------------------------+\n",
      "only showing top 10 rows\n",
      "\n"
     ]
    },
    {
     "name": "stderr",
     "output_type": "stream",
     "text": [
      "                                                                                \r"
     ]
    }
   ],
   "source": [
    "\n",
    "# 7. Split Data\n",
    "train_data, test_data = english_df.randomSplit([0.8, 0.2], seed=42)\n",
    "\n",
    "# 8. Train Model\n",
    "model = pipeline.fit(train_data)\n",
    "\n",
    "# 9. Predictions\n",
    "predictions = model.transform(test_data)\n",
    "\n",
    "# 10. Evaluation\n",
    "evaluator = BinaryClassificationEvaluator(\n",
    "    labelCol=\"label\", rawPredictionCol=\"rawPrediction\", metricName=\"areaUnderROC\"\n",
    ")\n",
    "\n",
    "roc_auc = evaluator.evaluate(predictions)\n",
    "print(f\"✅ ROC-AUC Score: {roc_auc:.4f}\")\n",
    "\n",
    "# 11. View some predictions\n",
    "predictions.select(\"cleaned_review\", \"label\", \"prediction\", \"probability\").show(10, truncate=False)\n"
   ]
  },
  {
   "cell_type": "code",
   "execution_count": 28,
   "id": "d8fa52dd-a040-4414-b8d8-df9cb3100326",
   "metadata": {},
   "outputs": [],
   "source": [
    "model.save(\"/user/tejashree/project/sentiment_model\")\n"
   ]
  },
  {
   "cell_type": "code",
   "execution_count": 30,
   "id": "262a8ab5-7dc7-4d92-afcc-af188c8d1b0f",
   "metadata": {},
   "outputs": [],
   "source": [
    "from pyspark.ml.pipeline import PipelineModel\n",
    "\n",
    "model = PipelineModel.load(\"/user/tejashree/project/sentiment_model\")\n"
   ]
  },
  {
   "cell_type": "code",
   "execution_count": 32,
   "id": "5d8f9323-0841-4148-8e14-84e97836e8c9",
   "metadata": {},
   "outputs": [],
   "source": [
    "from pyspark.sql import Row\n",
    "\n",
    "# Example review\n",
    "new_review_text = \"not so happy with the game I've  played!\"\n",
    "\n",
    "# Create a single-row DataFrame\n",
    "new_review_df = spark.createDataFrame([Row(cleaned_review=new_review_text)])\n"
   ]
  },
  {
   "cell_type": "code",
   "execution_count": 34,
   "id": "2031dc2b-4f05-4399-a1d5-0fcfae06c15d",
   "metadata": {},
   "outputs": [
    {
     "name": "stdout",
     "output_type": "stream",
     "text": [
      "+----------------------------------------+----------+----------------------------------------+\n",
      "|cleaned_review                          |prediction|probability                             |\n",
      "+----------------------------------------+----------+----------------------------------------+\n",
      "|not so happy with the game I've  played!|1.0       |[0.08431177295831398,0.9156882270416861]|\n",
      "+----------------------------------------+----------+----------------------------------------+\n",
      "\n"
     ]
    }
   ],
   "source": [
    "# Predict sentiment\n",
    "prediction_result = model.transform(new_review_df)\n",
    "\n",
    "# Show the prediction\n",
    "prediction_result.select(\"cleaned_review\", \"prediction\", \"probability\").show(truncate=False)\n"
   ]
  },
  {
   "cell_type": "code",
   "execution_count": 40,
   "id": "101c658c-3a07-4fc4-a319-628460042a61",
   "metadata": {},
   "outputs": [
    {
     "name": "stderr",
     "output_type": "stream",
     "text": [
      "25/04/28 17:18:24 WARN DAGScheduler: Broadcasting large task binary with size 1328.3 KiB\n",
      "25/04/28 17:19:01 WARN DAGScheduler: Broadcasting large task binary with size 1329.3 KiB\n",
      "25/04/28 17:19:02 WARN DAGScheduler: Broadcasting large task binary with size 1674.4 KiB\n",
      "25/04/28 17:19:44 WARN DAGScheduler: Broadcasting large task binary with size 1675.6 KiB\n",
      "25/04/28 17:19:44 WARN DAGScheduler: Broadcasting large task binary with size 1675.0 KiB\n",
      "25/04/28 17:20:02 WARN MemoryStore: Not enough space to cache rdd_587_5 in memory! (computed 113.1 MiB so far)\n",
      "25/04/28 17:20:02 WARN BlockManager: Persisting block rdd_587_5 to disk instead.\n",
      "25/04/28 17:20:03 WARN MemoryStore: Not enough space to cache rdd_587_1 in memory! (computed 113.1 MiB so far)\n",
      "25/04/28 17:20:03 WARN BlockManager: Persisting block rdd_587_1 to disk instead.\n",
      "25/04/28 17:20:03 WARN MemoryStore: Not enough space to cache rdd_587_0 in memory! (computed 113.1 MiB so far)\n",
      "25/04/28 17:20:03 WARN BlockManager: Persisting block rdd_587_0 to disk instead.\n",
      "25/04/28 17:20:03 WARN MemoryStore: Not enough space to cache rdd_587_6 in memory! (computed 113.1 MiB so far)\n",
      "25/04/28 17:20:03 WARN BlockManager: Persisting block rdd_587_6 to disk instead.\n",
      "25/04/28 17:20:21 WARN MemoryStore: Not enough space to cache rdd_587_6 in memory! (computed 177.1 MiB so far)\n",
      "25/04/28 17:20:28 WARN MemoryStore: Not enough space to cache rdd_587_10 in memory! (computed 113.1 MiB so far)\n",
      "25/04/28 17:20:28 WARN BlockManager: Persisting block rdd_587_10 to disk instead.\n",
      "25/04/28 17:20:28 WARN MemoryStore: Not enough space to cache rdd_587_11 in memory! (computed 113.1 MiB so far)\n",
      "25/04/28 17:20:28 WARN BlockManager: Persisting block rdd_587_11 to disk instead.\n",
      "25/04/28 17:20:36 WARN DAGScheduler: Broadcasting large task binary with size 1676.2 KiB\n",
      "25/04/28 17:20:36 WARN DAGScheduler: Broadcasting large task binary with size 1675.0 KiB\n",
      "25/04/28 17:20:36 WARN DAGScheduler: Broadcasting large task binary with size 1676.2 KiB\n",
      "25/04/28 17:20:36 WARN DAGScheduler: Broadcasting large task binary with size 1675.0 KiB\n",
      "25/04/28 17:20:37 WARN DAGScheduler: Broadcasting large task binary with size 1676.2 KiB\n",
      "25/04/28 17:20:37 WARN DAGScheduler: Broadcasting large task binary with size 1675.0 KiB\n",
      "25/04/28 17:20:37 WARN DAGScheduler: Broadcasting large task binary with size 1676.2 KiB\n",
      "25/04/28 17:20:37 WARN DAGScheduler: Broadcasting large task binary with size 1675.0 KiB\n",
      "25/04/28 17:20:37 WARN DAGScheduler: Broadcasting large task binary with size 1676.2 KiB\n",
      "25/04/28 17:20:37 WARN DAGScheduler: Broadcasting large task binary with size 1675.0 KiB\n",
      "25/04/28 17:20:38 WARN DAGScheduler: Broadcasting large task binary with size 1676.2 KiB\n",
      "25/04/28 17:20:38 WARN DAGScheduler: Broadcasting large task binary with size 1675.0 KiB\n",
      "25/04/28 17:20:38 WARN DAGScheduler: Broadcasting large task binary with size 1676.2 KiB\n",
      "25/04/28 17:20:38 WARN DAGScheduler: Broadcasting large task binary with size 1675.0 KiB\n",
      "25/04/28 17:20:38 WARN DAGScheduler: Broadcasting large task binary with size 1676.2 KiB\n",
      "25/04/28 17:20:39 WARN DAGScheduler: Broadcasting large task binary with size 1675.0 KiB\n",
      "25/04/28 17:20:39 WARN DAGScheduler: Broadcasting large task binary with size 1676.2 KiB\n",
      "25/04/28 17:20:39 WARN DAGScheduler: Broadcasting large task binary with size 1675.0 KiB\n",
      "25/04/28 17:20:39 WARN DAGScheduler: Broadcasting large task binary with size 1676.2 KiB\n",
      "25/04/28 17:20:39 WARN DAGScheduler: Broadcasting large task binary with size 1675.0 KiB\n",
      "25/04/28 17:20:39 WARN DAGScheduler: Broadcasting large task binary with size 1676.2 KiB\n",
      "25/04/28 17:20:40 WARN DAGScheduler: Broadcasting large task binary with size 1675.0 KiB\n",
      "25/04/28 17:20:40 WARN DAGScheduler: Broadcasting large task binary with size 1676.2 KiB\n",
      "25/04/28 17:20:40 WARN DAGScheduler: Broadcasting large task binary with size 1675.0 KiB\n",
      "25/04/28 17:20:40 WARN DAGScheduler: Broadcasting large task binary with size 1676.2 KiB\n",
      "25/04/28 17:20:40 WARN DAGScheduler: Broadcasting large task binary with size 1675.0 KiB\n",
      "25/04/28 17:20:41 WARN DAGScheduler: Broadcasting large task binary with size 1676.2 KiB\n",
      "25/04/28 17:20:41 WARN DAGScheduler: Broadcasting large task binary with size 1675.0 KiB\n",
      "25/04/28 17:20:41 WARN DAGScheduler: Broadcasting large task binary with size 1676.2 KiB\n",
      "25/04/28 17:20:41 WARN DAGScheduler: Broadcasting large task binary with size 1675.0 KiB\n",
      "25/04/28 17:20:41 WARN DAGScheduler: Broadcasting large task binary with size 1676.2 KiB\n",
      "25/04/28 17:20:41 WARN DAGScheduler: Broadcasting large task binary with size 1675.0 KiB\n",
      "25/04/28 17:20:42 WARN DAGScheduler: Broadcasting large task binary with size 1676.2 KiB\n",
      "25/04/28 17:20:42 WARN DAGScheduler: Broadcasting large task binary with size 1675.0 KiB\n",
      "25/04/28 17:20:42 WARN DAGScheduler: Broadcasting large task binary with size 1676.2 KiB\n",
      "25/04/28 17:20:42 WARN DAGScheduler: Broadcasting large task binary with size 1675.0 KiB\n",
      "25/04/28 17:20:42 WARN DAGScheduler: Broadcasting large task binary with size 1676.2 KiB\n",
      "25/04/28 17:20:42 WARN DAGScheduler: Broadcasting large task binary with size 1675.0 KiB\n",
      "25/04/28 17:20:43 WARN DAGScheduler: Broadcasting large task binary with size 1676.2 KiB\n",
      "25/04/28 17:20:43 WARN DAGScheduler: Broadcasting large task binary with size 1675.0 KiB\n",
      "25/04/28 17:20:43 WARN DAGScheduler: Broadcasting large task binary with size 1676.2 KiB\n",
      "25/04/28 17:20:43 WARN DAGScheduler: Broadcasting large task binary with size 1675.0 KiB\n",
      "25/04/28 17:20:43 WARN DAGScheduler: Broadcasting large task binary with size 1676.2 KiB\n",
      "25/04/28 17:20:43 WARN DAGScheduler: Broadcasting large task binary with size 1675.0 KiB\n",
      "25/04/28 17:20:44 WARN DAGScheduler: Broadcasting large task binary with size 1676.2 KiB\n",
      "25/04/28 17:20:44 WARN DAGScheduler: Broadcasting large task binary with size 1675.0 KiB\n",
      "25/04/28 17:20:44 WARN DAGScheduler: Broadcasting large task binary with size 1676.2 KiB\n",
      "25/04/28 17:20:44 WARN DAGScheduler: Broadcasting large task binary with size 1675.0 KiB\n",
      "25/04/28 17:20:44 WARN DAGScheduler: Broadcasting large task binary with size 1676.2 KiB\n",
      "25/04/28 17:20:44 WARN DAGScheduler: Broadcasting large task binary with size 1675.0 KiB\n",
      "25/04/28 17:20:45 WARN DAGScheduler: Broadcasting large task binary with size 1676.2 KiB\n",
      "25/04/28 17:20:45 WARN DAGScheduler: Broadcasting large task binary with size 1675.0 KiB\n",
      "25/04/28 17:20:45 WARN DAGScheduler: Broadcasting large task binary with size 1676.2 KiB\n",
      "25/04/28 17:20:45 WARN DAGScheduler: Broadcasting large task binary with size 1675.0 KiB\n",
      "25/04/28 17:20:45 WARN DAGScheduler: Broadcasting large task binary with size 1676.2 KiB\n",
      "25/04/28 17:20:45 WARN DAGScheduler: Broadcasting large task binary with size 1675.0 KiB\n",
      "25/04/28 17:20:45 WARN DAGScheduler: Broadcasting large task binary with size 1676.2 KiB\n",
      "25/04/28 17:20:45 WARN DAGScheduler: Broadcasting large task binary with size 1675.0 KiB\n",
      "25/04/28 17:20:46 WARN DAGScheduler: Broadcasting large task binary with size 1676.2 KiB\n",
      "25/04/28 17:20:46 WARN DAGScheduler: Broadcasting large task binary with size 1675.0 KiB\n",
      "25/04/28 17:20:46 WARN DAGScheduler: Broadcasting large task binary with size 1676.2 KiB\n",
      "25/04/28 17:20:46 WARN DAGScheduler: Broadcasting large task binary with size 1675.0 KiB\n",
      "25/04/28 17:20:46 WARN DAGScheduler: Broadcasting large task binary with size 1676.2 KiB\n",
      "25/04/28 17:20:46 WARN DAGScheduler: Broadcasting large task binary with size 1675.0 KiB\n",
      "25/04/28 17:20:47 WARN DAGScheduler: Broadcasting large task binary with size 1676.2 KiB\n",
      "25/04/28 17:20:47 WARN DAGScheduler: Broadcasting large task binary with size 1675.0 KiB\n",
      "25/04/28 17:20:47 WARN DAGScheduler: Broadcasting large task binary with size 1676.2 KiB\n",
      "25/04/28 17:20:47 WARN DAGScheduler: Broadcasting large task binary with size 1675.0 KiB\n",
      "25/04/28 17:20:47 WARN DAGScheduler: Broadcasting large task binary with size 1676.2 KiB\n",
      "25/04/28 17:20:47 WARN DAGScheduler: Broadcasting large task binary with size 1675.0 KiB\n",
      "25/04/28 17:20:48 WARN DAGScheduler: Broadcasting large task binary with size 1676.2 KiB\n",
      "25/04/28 17:20:48 WARN DAGScheduler: Broadcasting large task binary with size 1675.0 KiB\n",
      "25/04/28 17:20:48 WARN DAGScheduler: Broadcasting large task binary with size 1676.2 KiB\n",
      "25/04/28 17:20:48 WARN DAGScheduler: Broadcasting large task binary with size 1675.0 KiB\n",
      "25/04/28 17:20:48 WARN DAGScheduler: Broadcasting large task binary with size 1676.2 KiB\n",
      "25/04/28 17:20:48 WARN DAGScheduler: Broadcasting large task binary with size 1675.0 KiB\n",
      "25/04/28 17:20:49 WARN DAGScheduler: Broadcasting large task binary with size 1676.2 KiB\n",
      "25/04/28 17:20:49 WARN DAGScheduler: Broadcasting large task binary with size 1675.0 KiB\n",
      "25/04/28 17:20:49 WARN DAGScheduler: Broadcasting large task binary with size 1676.2 KiB\n",
      "25/04/28 17:20:49 WARN DAGScheduler: Broadcasting large task binary with size 1675.0 KiB\n",
      "25/04/28 17:20:49 WARN DAGScheduler: Broadcasting large task binary with size 1676.2 KiB\n",
      "25/04/28 17:20:49 WARN DAGScheduler: Broadcasting large task binary with size 1675.0 KiB\n",
      "25/04/28 17:20:50 WARN DAGScheduler: Broadcasting large task binary with size 1676.2 KiB\n",
      "25/04/28 17:20:50 WARN DAGScheduler: Broadcasting large task binary with size 1675.0 KiB\n",
      "25/04/28 17:20:50 WARN DAGScheduler: Broadcasting large task binary with size 1676.2 KiB\n",
      "25/04/28 17:20:50 WARN DAGScheduler: Broadcasting large task binary with size 1675.0 KiB\n",
      "25/04/28 17:20:50 WARN DAGScheduler: Broadcasting large task binary with size 1676.2 KiB\n",
      "25/04/28 17:20:50 WARN DAGScheduler: Broadcasting large task binary with size 1675.0 KiB\n",
      "25/04/28 17:20:51 WARN DAGScheduler: Broadcasting large task binary with size 1676.2 KiB\n",
      "25/04/28 17:20:51 WARN DAGScheduler: Broadcasting large task binary with size 1675.0 KiB\n",
      "25/04/28 17:20:51 WARN DAGScheduler: Broadcasting large task binary with size 1676.2 KiB\n",
      "25/04/28 17:20:51 WARN DAGScheduler: Broadcasting large task binary with size 1675.0 KiB\n",
      "25/04/28 17:20:51 WARN DAGScheduler: Broadcasting large task binary with size 1676.2 KiB\n",
      "25/04/28 17:20:51 WARN DAGScheduler: Broadcasting large task binary with size 1675.0 KiB\n",
      "25/04/28 17:20:52 WARN DAGScheduler: Broadcasting large task binary with size 1676.2 KiB\n",
      "25/04/28 17:20:52 WARN DAGScheduler: Broadcasting large task binary with size 1675.0 KiB\n",
      "25/04/28 17:20:52 WARN DAGScheduler: Broadcasting large task binary with size 1676.2 KiB\n",
      "25/04/28 17:20:52 WARN DAGScheduler: Broadcasting large task binary with size 1675.0 KiB\n",
      "25/04/28 17:20:52 WARN DAGScheduler: Broadcasting large task binary with size 1676.2 KiB\n",
      "25/04/28 17:20:52 WARN DAGScheduler: Broadcasting large task binary with size 1675.0 KiB\n",
      "25/04/28 17:20:52 WARN DAGScheduler: Broadcasting large task binary with size 1676.2 KiB\n",
      "25/04/28 17:20:52 WARN DAGScheduler: Broadcasting large task binary with size 1675.0 KiB\n",
      "25/04/28 17:20:53 WARN DAGScheduler: Broadcasting large task binary with size 1676.2 KiB\n",
      "25/04/28 17:20:53 WARN DAGScheduler: Broadcasting large task binary with size 1675.0 KiB\n",
      "25/04/28 17:20:53 WARN DAGScheduler: Broadcasting large task binary with size 1676.2 KiB\n",
      "25/04/28 17:20:53 WARN DAGScheduler: Broadcasting large task binary with size 1675.0 KiB\n",
      "25/04/28 17:20:53 WARN DAGScheduler: Broadcasting large task binary with size 1676.2 KiB\n",
      "25/04/28 17:20:53 WARN DAGScheduler: Broadcasting large task binary with size 1675.0 KiB\n",
      "25/04/28 17:20:54 WARN DAGScheduler: Broadcasting large task binary with size 1676.2 KiB\n",
      "25/04/28 17:20:54 WARN DAGScheduler: Broadcasting large task binary with size 1675.0 KiB\n",
      "25/04/28 17:20:54 WARN DAGScheduler: Broadcasting large task binary with size 1676.2 KiB\n",
      "25/04/28 17:20:54 WARN DAGScheduler: Broadcasting large task binary with size 1675.0 KiB\n",
      "25/04/28 17:20:54 WARN DAGScheduler: Broadcasting large task binary with size 1676.2 KiB\n",
      "25/04/28 17:20:54 WARN DAGScheduler: Broadcasting large task binary with size 1675.0 KiB\n",
      "25/04/28 17:20:55 WARN DAGScheduler: Broadcasting large task binary with size 1676.2 KiB\n",
      "25/04/28 17:20:55 WARN DAGScheduler: Broadcasting large task binary with size 1675.0 KiB\n",
      "25/04/28 17:20:55 WARN DAGScheduler: Broadcasting large task binary with size 1676.2 KiB\n",
      "25/04/28 17:20:55 WARN DAGScheduler: Broadcasting large task binary with size 1675.0 KiB\n",
      "25/04/28 17:20:55 WARN DAGScheduler: Broadcasting large task binary with size 1676.2 KiB\n",
      "25/04/28 17:20:56 WARN DAGScheduler: Broadcasting large task binary with size 1675.0 KiB\n",
      "25/04/28 17:20:56 WARN DAGScheduler: Broadcasting large task binary with size 1676.2 KiB\n",
      "25/04/28 17:20:56 WARN DAGScheduler: Broadcasting large task binary with size 1675.0 KiB\n",
      "25/04/28 17:20:56 WARN DAGScheduler: Broadcasting large task binary with size 1676.2 KiB\n",
      "25/04/28 17:20:56 WARN DAGScheduler: Broadcasting large task binary with size 1675.0 KiB\n",
      "25/04/28 17:20:56 WARN DAGScheduler: Broadcasting large task binary with size 1676.2 KiB\n",
      "25/04/28 17:20:56 WARN DAGScheduler: Broadcasting large task binary with size 1675.0 KiB\n",
      "25/04/28 17:20:57 WARN DAGScheduler: Broadcasting large task binary with size 1676.2 KiB\n",
      "25/04/28 17:20:57 WARN DAGScheduler: Broadcasting large task binary with size 1675.0 KiB\n",
      "25/04/28 17:20:57 WARN DAGScheduler: Broadcasting large task binary with size 1676.2 KiB\n",
      "25/04/28 17:20:57 WARN DAGScheduler: Broadcasting large task binary with size 1675.0 KiB\n",
      "25/04/28 17:20:57 WARN DAGScheduler: Broadcasting large task binary with size 1676.2 KiB\n",
      "25/04/28 17:20:57 WARN DAGScheduler: Broadcasting large task binary with size 1675.0 KiB\n",
      "25/04/28 17:20:58 WARN DAGScheduler: Broadcasting large task binary with size 1676.2 KiB\n",
      "25/04/28 17:20:58 WARN DAGScheduler: Broadcasting large task binary with size 1675.0 KiB\n",
      "25/04/28 17:20:58 WARN DAGScheduler: Broadcasting large task binary with size 1676.2 KiB\n",
      "25/04/28 17:20:58 WARN DAGScheduler: Broadcasting large task binary with size 1675.0 KiB\n",
      "25/04/28 17:20:58 WARN DAGScheduler: Broadcasting large task binary with size 1676.2 KiB\n",
      "25/04/28 17:20:58 WARN DAGScheduler: Broadcasting large task binary with size 1675.0 KiB\n",
      "25/04/28 17:20:59 WARN DAGScheduler: Broadcasting large task binary with size 1676.2 KiB\n",
      "25/04/28 17:20:59 WARN DAGScheduler: Broadcasting large task binary with size 1675.0 KiB\n",
      "25/04/28 17:20:59 WARN DAGScheduler: Broadcasting large task binary with size 1676.2 KiB\n",
      "25/04/28 17:20:59 WARN DAGScheduler: Broadcasting large task binary with size 1675.0 KiB\n",
      "25/04/28 17:20:59 WARN DAGScheduler: Broadcasting large task binary with size 1676.2 KiB\n",
      "25/04/28 17:20:59 WARN DAGScheduler: Broadcasting large task binary with size 1675.0 KiB\n",
      "25/04/28 17:21:00 WARN DAGScheduler: Broadcasting large task binary with size 1676.2 KiB\n",
      "25/04/28 17:21:00 WARN DAGScheduler: Broadcasting large task binary with size 1675.0 KiB\n",
      "25/04/28 17:21:00 WARN DAGScheduler: Broadcasting large task binary with size 1676.2 KiB\n",
      "25/04/28 17:21:00 WARN DAGScheduler: Broadcasting large task binary with size 1675.0 KiB\n",
      "25/04/28 17:21:00 WARN DAGScheduler: Broadcasting large task binary with size 1676.2 KiB\n",
      "25/04/28 17:21:00 WARN DAGScheduler: Broadcasting large task binary with size 1675.0 KiB\n",
      "25/04/28 17:21:01 WARN DAGScheduler: Broadcasting large task binary with size 1676.2 KiB\n",
      "25/04/28 17:21:01 WARN DAGScheduler: Broadcasting large task binary with size 1675.0 KiB\n",
      "25/04/28 17:21:01 WARN DAGScheduler: Broadcasting large task binary with size 1676.2 KiB\n",
      "25/04/28 17:21:01 WARN DAGScheduler: Broadcasting large task binary with size 1675.0 KiB\n",
      "25/04/28 17:21:01 WARN DAGScheduler: Broadcasting large task binary with size 1676.2 KiB\n",
      "25/04/28 17:21:01 WARN DAGScheduler: Broadcasting large task binary with size 1675.0 KiB\n",
      "25/04/28 17:21:02 WARN DAGScheduler: Broadcasting large task binary with size 1676.2 KiB\n",
      "25/04/28 17:21:02 WARN DAGScheduler: Broadcasting large task binary with size 1675.0 KiB\n",
      "25/04/28 17:21:02 WARN DAGScheduler: Broadcasting large task binary with size 1676.2 KiB\n",
      "25/04/28 17:21:02 WARN DAGScheduler: Broadcasting large task binary with size 1675.0 KiB\n",
      "25/04/28 17:21:02 WARN DAGScheduler: Broadcasting large task binary with size 1676.2 KiB\n",
      "25/04/28 17:21:02 WARN DAGScheduler: Broadcasting large task binary with size 1675.0 KiB\n",
      "25/04/28 17:21:03 WARN DAGScheduler: Broadcasting large task binary with size 1676.2 KiB\n",
      "25/04/28 17:21:03 WARN DAGScheduler: Broadcasting large task binary with size 1675.0 KiB\n",
      "25/04/28 17:21:03 WARN DAGScheduler: Broadcasting large task binary with size 1676.2 KiB\n",
      "25/04/28 17:21:03 WARN DAGScheduler: Broadcasting large task binary with size 1675.0 KiB\n",
      "25/04/28 17:21:03 WARN DAGScheduler: Broadcasting large task binary with size 1676.2 KiB\n",
      "25/04/28 17:21:03 WARN DAGScheduler: Broadcasting large task binary with size 1675.0 KiB\n",
      "25/04/28 17:21:04 WARN DAGScheduler: Broadcasting large task binary with size 1676.2 KiB\n",
      "25/04/28 17:21:04 WARN DAGScheduler: Broadcasting large task binary with size 1675.0 KiB\n",
      "25/04/28 17:21:04 WARN DAGScheduler: Broadcasting large task binary with size 1676.2 KiB\n",
      "25/04/28 17:21:04 WARN DAGScheduler: Broadcasting large task binary with size 1675.0 KiB\n",
      "25/04/28 17:21:04 WARN DAGScheduler: Broadcasting large task binary with size 1676.2 KiB\n",
      "25/04/28 17:21:04 WARN DAGScheduler: Broadcasting large task binary with size 1675.0 KiB\n",
      "25/04/28 17:21:05 WARN DAGScheduler: Broadcasting large task binary with size 1676.2 KiB\n",
      "25/04/28 17:21:05 WARN DAGScheduler: Broadcasting large task binary with size 1675.0 KiB\n",
      "25/04/28 17:21:05 WARN DAGScheduler: Broadcasting large task binary with size 1676.2 KiB\n",
      "25/04/28 17:21:05 WARN DAGScheduler: Broadcasting large task binary with size 1675.0 KiB\n",
      "25/04/28 17:21:05 WARN DAGScheduler: Broadcasting large task binary with size 1676.2 KiB\n",
      "25/04/28 17:21:05 WARN DAGScheduler: Broadcasting large task binary with size 1675.0 KiB\n",
      "25/04/28 17:21:06 WARN DAGScheduler: Broadcasting large task binary with size 1676.2 KiB\n",
      "25/04/28 17:21:06 WARN DAGScheduler: Broadcasting large task binary with size 1675.0 KiB\n",
      "25/04/28 17:21:06 WARN DAGScheduler: Broadcasting large task binary with size 1676.2 KiB\n",
      "25/04/28 17:21:06 WARN DAGScheduler: Broadcasting large task binary with size 1675.0 KiB\n",
      "25/04/28 17:21:06 WARN DAGScheduler: Broadcasting large task binary with size 1676.2 KiB\n",
      "25/04/28 17:21:06 WARN DAGScheduler: Broadcasting large task binary with size 1675.0 KiB\n",
      "25/04/28 17:21:07 WARN DAGScheduler: Broadcasting large task binary with size 1676.2 KiB\n",
      "25/04/28 17:21:07 WARN DAGScheduler: Broadcasting large task binary with size 1675.0 KiB\n",
      "25/04/28 17:21:07 WARN DAGScheduler: Broadcasting large task binary with size 1676.2 KiB\n",
      "25/04/28 17:21:07 WARN DAGScheduler: Broadcasting large task binary with size 1675.0 KiB\n",
      "25/04/28 17:21:07 WARN DAGScheduler: Broadcasting large task binary with size 1676.2 KiB\n",
      "25/04/28 17:21:07 WARN DAGScheduler: Broadcasting large task binary with size 1675.0 KiB\n",
      "25/04/28 17:21:08 WARN DAGScheduler: Broadcasting large task binary with size 1676.2 KiB\n",
      "25/04/28 17:21:08 WARN DAGScheduler: Broadcasting large task binary with size 1675.0 KiB\n",
      "25/04/28 17:21:08 WARN DAGScheduler: Broadcasting large task binary with size 1676.2 KiB\n",
      "25/04/28 17:21:08 WARN DAGScheduler: Broadcasting large task binary with size 1675.0 KiB\n",
      "25/04/28 17:21:08 WARN DAGScheduler: Broadcasting large task binary with size 1676.2 KiB\n",
      "25/04/28 17:21:08 WARN DAGScheduler: Broadcasting large task binary with size 1675.0 KiB\n",
      "25/04/28 17:21:09 WARN DAGScheduler: Broadcasting large task binary with size 1676.2 KiB\n",
      "25/04/28 17:21:09 WARN DAGScheduler: Broadcasting large task binary with size 1675.0 KiB\n",
      "25/04/28 17:21:09 WARN DAGScheduler: Broadcasting large task binary with size 1676.2 KiB\n",
      "25/04/28 17:21:09 WARN DAGScheduler: Broadcasting large task binary with size 1675.0 KiB\n",
      "25/04/28 17:21:09 WARN DAGScheduler: Broadcasting large task binary with size 1676.2 KiB\n",
      "25/04/28 17:21:09 WARN DAGScheduler: Broadcasting large task binary with size 1675.0 KiB\n",
      "25/04/28 17:21:10 WARN DAGScheduler: Broadcasting large task binary with size 1676.2 KiB\n",
      "25/04/28 17:21:10 WARN DAGScheduler: Broadcasting large task binary with size 1818.2 KiB\n",
      "                                                                                \r"
     ]
    },
    {
     "name": "stdout",
     "output_type": "stream",
     "text": [
      "✅ ROC-AUC Score after Bigrams: 0.9131\n"
     ]
    },
    {
     "name": "stderr",
     "output_type": "stream",
     "text": [
      "25/04/28 17:21:30 WARN DAGScheduler: Broadcasting large task binary with size 1822.5 KiB\n",
      "[Stage 474:>                                                        (0 + 1) / 1]\r"
     ]
    },
    {
     "name": "stdout",
     "output_type": "stream",
     "text": [
      "+--------------------------------------------------------------------------------------------------------------------------------------------------------------------------------------------------------------------------------------------------------------------------------------------------------------------------------------------------------------------------------------------------------------------------------------------------------------------------------------------------------------------------------------------------------------------------------------------------------------------------------------------------------------------------------------------------------------------------------------------------------------------------------------------------+-----+----------+------------------------------------------+\n",
      "|cleaned_review                                                                                                                                                                                                                                                                                                                                                                                                                                                                                                                                                                                                                                                                                                                                                                                    |label|prediction|probability                               |\n",
      "+--------------------------------------------------------------------------------------------------------------------------------------------------------------------------------------------------------------------------------------------------------------------------------------------------------------------------------------------------------------------------------------------------------------------------------------------------------------------------------------------------------------------------------------------------------------------------------------------------------------------------------------------------------------------------------------------------------------------------------------------------------------------------------------------------+-----+----------+------------------------------------------+\n",
      "|divinity is honestly one of the best games i have came to play since the witcher  every single quest feels like it has purpose to it i really enjoy the combat even if it can be a little cheap with the stuns sometimes and the story is amazing the devs seem to really care about making a good game and honestly the only bad reviews ive seen so far have been people raging about how to minmax their characters besides that this game should have extreamly posative reviews                                                                                                                                                                                                                                                                                                              |1.0  |1.0       |[0.0043346330637351145,0.9956653669362648]|\n",
      "|you have to play it for yourself its a damn near perfect game and a true hidden gem in this lootbox infected gamesindustry if you have any interest in isometric tactical rpgs you have to play this                                                                                                                                                                                                                                                                                                                                                                                                                                                                                                                                                                                              |1.0  |1.0       |[0.00944756904352821,0.9905524309564718]  |\n",
      "|i cant stop playing first game like this i have ever played and its amazing one of the most addicting games ive played in a while havent finished my first playthrough yet and already looking forward to my second                                                                                                                                                                                                                                                                                                                                                                                                                                                                                                                                                                               |1.0  |1.0       |[4.568916394557362E-5,0.9999543108360545] |\n",
      "|another great entry in the crpg genre i would argue that if youve never tried the genre this should be your first stop                                                                                                                                                                                                                                                                                                                                                                                                                                                                                                                                                                                                                                                                            |1.0  |1.0       |[0.07115241935778215,0.9288475806422178]  |\n",
      "|not a good game attempted to get a refund but who are we kidding it takes longer than two hours just to create a character and finish the tutorialwhich two hours is apparently steams one size fits all unit of measurement for all games                                                                                                                                                                                                                                                                                                                                                                                                                                                                                                                                                        |0.0  |0.0       |[0.7606256442216311,0.23937435577836885]  |\n",
      "|the best of the best hands down thovery fun  enjoy                                                                                                                                                                                                                                                                                                                                                                                                                                                                                                                                                                                                                                                                                                                                                |1.0  |1.0       |[0.002932101901727431,0.9970678980982726] |\n",
      "|so many nights staying up until well past  am playing this game for  hours straight                                                                                                                                                                                                                                                                                                                                                                                                                                                                                                                                                                                                                                                                                                               |1.0  |1.0       |[0.10614735816725535,0.8938526418327446]  |\n",
      "|honestly this game brought me back to fantasy rpg the sheer number of choices you make is amazing you can either make your character an assasin who pickpocket every npc you walk across giving you a lot of money in return or become a blood thirsty monster who kills anyone who crosses your path or play by the rules and earn money and gear by other means the content in this game is great i mean i am over  hours in and still in tutorial map the voice acting is great and the npcs are diverse and interesting which really makes you feel immersed in the game lastly the game is very challenging in classic mode but very rewarding when you overcome your obstacles cant wait to get out of the tutorial map and explore the mysterious lands filled with creatures of all kind d|1.0  |1.0       |[3.6960197091631217E-6,0.9999963039802908]|\n",
      "|one of the best role playing games of all time                                                                                                                                                                                                                                                                                                                                                                                                                                                                                                                                                                                                                                                                                                                                                    |1.0  |1.0       |[0.03009657177079107,0.9699034282292089]  |\n",
      "|so much content                                                                                                                                                                                                                                                                                                                                                                                                                                                                                                                                                                                                                                                                                                                                                                                   |1.0  |1.0       |[0.08155807717246573,0.9184419228275342]  |\n",
      "+--------------------------------------------------------------------------------------------------------------------------------------------------------------------------------------------------------------------------------------------------------------------------------------------------------------------------------------------------------------------------------------------------------------------------------------------------------------------------------------------------------------------------------------------------------------------------------------------------------------------------------------------------------------------------------------------------------------------------------------------------------------------------------------------------+-----+----------+------------------------------------------+\n",
      "only showing top 10 rows\n",
      "\n"
     ]
    },
    {
     "name": "stderr",
     "output_type": "stream",
     "text": [
      "                                                                                \r"
     ]
    }
   ],
   "source": [
    "\n",
    "# 3. Tokenizer: Split cleaned review text into words\n",
    "tokenizer = Tokenizer(inputCol=\"cleaned_review\", outputCol=\"words\")\n",
    "\n",
    "# 4. Create Bigrams (n-grams of size 2)\n",
    "bigram = NGram(n=2, inputCol=\"words\", outputCol=\"bigrams\")\n",
    "\n",
    "# 5. HashingTF for unigrams\n",
    "hashingTF_unigrams = HashingTF(inputCol=\"words\", outputCol=\"unigramFeatures\", numFeatures=10000)\n",
    "\n",
    "# 6. HashingTF for bigrams\n",
    "hashingTF_bigrams = HashingTF(inputCol=\"bigrams\", outputCol=\"bigramFeatures\", numFeatures=10000)\n",
    "\n",
    "# 7. Combine unigram and bigram features\n",
    "assembler = VectorAssembler(\n",
    "    inputCols=[\"unigramFeatures\", \"bigramFeatures\"],\n",
    "    outputCol=\"rawFeatures\"\n",
    ")\n",
    "\n",
    "# 8. IDF to down-weight frequent words\n",
    "idf = IDF(inputCol=\"rawFeatures\", outputCol=\"features\")\n",
    "\n",
    "# 9. Logistic Regression Model\n",
    "lr = LogisticRegression(featuresCol=\"features\", labelCol=\"label\")\n",
    "\n",
    "# 10. Build Pipeline\n",
    "pipeline = Pipeline(stages=[\n",
    "    tokenizer,\n",
    "    bigram,\n",
    "    hashingTF_unigrams,\n",
    "    hashingTF_bigrams,\n",
    "    assembler,\n",
    "    idf,\n",
    "    lr\n",
    "])\n",
    "\n",
    "# 11. Split data\n",
    "train_data, test_data = english_df.randomSplit([0.8, 0.2], seed=42)\n",
    "\n",
    "# 12. Train Model\n",
    "model = pipeline.fit(train_data)\n",
    "\n",
    "# 13. Predictions\n",
    "predictions = model.transform(test_data)\n",
    "\n",
    "# 14. Evaluation\n",
    "evaluator = BinaryClassificationEvaluator(\n",
    "    labelCol=\"label\", rawPredictionCol=\"rawPrediction\", metricName=\"areaUnderROC\"\n",
    ")\n",
    "\n",
    "roc_auc = evaluator.evaluate(predictions)\n",
    "print(f\"✅ ROC-AUC Score after Bigrams: {roc_auc:.4f}\")\n",
    "\n",
    "# 15. View some predictions\n",
    "predictions.select(\"cleaned_review\", \"label\", \"prediction\", \"probability\").show(10, truncate=False)\n"
   ]
  },
  {
   "cell_type": "code",
   "execution_count": 42,
   "id": "4a5191c3-27fc-40bc-96f0-54994a67e429",
   "metadata": {},
   "outputs": [
    {
     "name": "stderr",
     "output_type": "stream",
     "text": [
      "                                                                                \r"
     ]
    }
   ],
   "source": [
    "model.save(\"/user/tejashree/project/sentiment_model_with_bigrams\")\n"
   ]
  },
  {
   "cell_type": "code",
   "execution_count": 48,
   "id": "86f21345-3cc7-4634-b326-3a7acd17877f",
   "metadata": {},
   "outputs": [
    {
     "name": "stdout",
     "output_type": "stream",
     "text": [
      "+--------------------------------------+----------+----------------------------------------+\n",
      "|cleaned_review                        |prediction|probability                             |\n",
      "+--------------------------------------+----------+----------------------------------------+\n",
      "|not  happy with the game I've  played!|1.0       |[0.10846962727216483,0.8915303727278352]|\n",
      "+--------------------------------------+----------+----------------------------------------+\n",
      "\n"
     ]
    }
   ],
   "source": [
    "from pyspark.ml.pipeline import PipelineModel\n",
    "\n",
    "model = PipelineModel.load(\"/user/tejashree/project/sentiment_model_with_bigrams\")\n",
    "from pyspark.sql import Row\n",
    "\n",
    "# Example review\n",
    "new_review_text = \"not  happy with the game I've  played!\"\n",
    "\n",
    "# Create a single-row DataFrame\n",
    "new_review_df = spark.createDataFrame([Row(cleaned_review=new_review_text)])\n",
    "# Predict sentiment\n",
    "prediction_result = model.transform(new_review_df)\n",
    "\n",
    "# Show the prediction\n",
    "prediction_result.select(\"cleaned_review\", \"prediction\", \"probability\").show(truncate=False)\n"
   ]
  },
  {
   "cell_type": "code",
   "execution_count": 50,
   "id": "7a2ac837-f5d2-4919-988b-9307b0a3a1d8",
   "metadata": {},
   "outputs": [],
   "source": [
    "from pyspark.sql import Row\n",
    "from pyspark.ml.pipeline import PipelineModel\n",
    "\n",
    "# 1. Load your trained model (only once)\n",
    "model = PipelineModel.load(\"/user/tejashree/project/sentiment_model_with_bigrams\")\n",
    "\n",
    "# 2. Define the prediction function\n",
    "def predict_review(text):\n",
    "    # Create a Spark DataFrame from input text\n",
    "    new_review_df = spark.createDataFrame([Row(cleaned_review=text)])\n",
    "    \n",
    "    # Use the model to predict\n",
    "    prediction_result = model.transform(new_review_df)\n",
    "    \n",
    "    # Extract prediction and probability\n",
    "    row = prediction_result.select(\"prediction\", \"probability\").head()\n",
    "    \n",
    "    prediction = int(row.prediction)  # 0 or 1\n",
    "    probability_positive = row.probability[1]  # Probability of being positive\n",
    "    probability_negative = row.probability[0]  # Probability of being negative\n",
    "    \n",
    "    # Print result\n",
    "    sentiment = \"Positive\" if prediction == 1 else \"Negative\"\n",
    "    print(f\"✅ Review Sentiment: {sentiment}\")\n",
    "    print(f\"📈 Confidence Score: {probability_positive*100:.2f}% (Positive)\")\n",
    "    print(f\"📉 Confidence Score: {probability_negative*100:.2f}% (Negative)\")\n",
    "    \n",
    "    return sentiment, probability_positive\n",
    "\n"
   ]
  },
  {
   "cell_type": "code",
   "execution_count": 66,
   "id": "aeab0414-5246-423d-819e-6db361e33603",
   "metadata": {},
   "outputs": [
    {
     "name": "stdout",
     "output_type": "stream",
     "text": [
      "✅ Review Sentiment: Positive\n",
      "📈 Confidence Score: 87.31% (Positive)\n",
      "📉 Confidence Score: 12.69% (Negative)\n"
     ]
    },
    {
     "data": {
      "text/plain": [
       "('Positive', 0.8730798504328429)"
      ]
     },
     "execution_count": 66,
     "metadata": {},
     "output_type": "execute_result"
    }
   ],
   "source": [
    "predict_review(\"it wasnt good.\")"
   ]
  },
  {
   "cell_type": "code",
   "execution_count": 64,
   "id": "aa3e7859-327e-4e3f-93ac-cacca492cfda",
   "metadata": {},
   "outputs": [
    {
     "name": "stdout",
     "output_type": "stream",
     "text": [
      "Collecting transformers\n",
      "  Downloading transformers-4.51.3-py3-none-any.whl.metadata (38 kB)\n",
      "Requirement already satisfied: filelock in /opt/anaconda3/lib/python3.12/site-packages (from transformers) (3.13.1)\n",
      "Collecting huggingface-hub<1.0,>=0.30.0 (from transformers)\n",
      "  Downloading huggingface_hub-0.30.2-py3-none-any.whl.metadata (13 kB)\n",
      "Requirement already satisfied: numpy>=1.17 in /opt/anaconda3/lib/python3.12/site-packages (from transformers) (1.26.4)\n",
      "Requirement already satisfied: packaging>=20.0 in /opt/anaconda3/lib/python3.12/site-packages (from transformers) (23.2)\n",
      "Requirement already satisfied: pyyaml>=5.1 in /opt/anaconda3/lib/python3.12/site-packages (from transformers) (6.0.1)\n",
      "Requirement already satisfied: regex!=2019.12.17 in /opt/anaconda3/lib/python3.12/site-packages (from transformers) (2023.10.3)\n",
      "Requirement already satisfied: requests in /opt/anaconda3/lib/python3.12/site-packages (from transformers) (2.32.2)\n",
      "Collecting tokenizers<0.22,>=0.21 (from transformers)\n",
      "  Downloading tokenizers-0.21.1-cp39-abi3-macosx_11_0_arm64.whl.metadata (6.8 kB)\n",
      "Collecting safetensors>=0.4.3 (from transformers)\n",
      "  Downloading safetensors-0.5.3-cp38-abi3-macosx_11_0_arm64.whl.metadata (3.8 kB)\n",
      "Requirement already satisfied: tqdm>=4.27 in /opt/anaconda3/lib/python3.12/site-packages (from transformers) (4.66.4)\n",
      "Requirement already satisfied: fsspec>=2023.5.0 in /opt/anaconda3/lib/python3.12/site-packages (from huggingface-hub<1.0,>=0.30.0->transformers) (2024.3.1)\n",
      "Requirement already satisfied: typing-extensions>=3.7.4.3 in /opt/anaconda3/lib/python3.12/site-packages (from huggingface-hub<1.0,>=0.30.0->transformers) (4.11.0)\n",
      "Requirement already satisfied: charset-normalizer<4,>=2 in /opt/anaconda3/lib/python3.12/site-packages (from requests->transformers) (2.0.4)\n",
      "Requirement already satisfied: idna<4,>=2.5 in /opt/anaconda3/lib/python3.12/site-packages (from requests->transformers) (2.10)\n",
      "Requirement already satisfied: urllib3<3,>=1.21.1 in /opt/anaconda3/lib/python3.12/site-packages (from requests->transformers) (2.2.2)\n",
      "Requirement already satisfied: certifi>=2017.4.17 in /opt/anaconda3/lib/python3.12/site-packages (from requests->transformers) (2024.7.4)\n",
      "Downloading transformers-4.51.3-py3-none-any.whl (10.4 MB)\n",
      "\u001b[2K   \u001b[90m━━━━━━━━━━━━━━━━━━━━━━━━━━━━━━━━━━━━━━━━\u001b[0m \u001b[32m10.4/10.4 MB\u001b[0m \u001b[31m67.0 MB/s\u001b[0m eta \u001b[36m0:00:00\u001b[0m00:01\u001b[0m0:01\u001b[0m\n",
      "\u001b[?25hDownloading huggingface_hub-0.30.2-py3-none-any.whl (481 kB)\n",
      "\u001b[2K   \u001b[90m━━━━━━━━━━━━━━━━━━━━━━━━━━━━━━━━━━━━━━━━\u001b[0m \u001b[32m481.4/481.4 kB\u001b[0m \u001b[31m40.0 MB/s\u001b[0m eta \u001b[36m0:00:00\u001b[0m\n",
      "\u001b[?25hDownloading safetensors-0.5.3-cp38-abi3-macosx_11_0_arm64.whl (418 kB)\n",
      "\u001b[2K   \u001b[90m━━━━━━━━━━━━━━━━━━━━━━━━━━━━━━━━━━━━━━━━\u001b[0m \u001b[32m418.4/418.4 kB\u001b[0m \u001b[31m44.9 MB/s\u001b[0m eta \u001b[36m0:00:00\u001b[0m\n",
      "\u001b[?25hDownloading tokenizers-0.21.1-cp39-abi3-macosx_11_0_arm64.whl (2.7 MB)\n",
      "\u001b[2K   \u001b[90m━━━━━━━━━━━━━━━━━━━━━━━━━━━━━━━━━━━━━━━━\u001b[0m \u001b[32m2.7/2.7 MB\u001b[0m \u001b[31m57.0 MB/s\u001b[0m eta \u001b[36m0:00:00\u001b[0m00:01\u001b[0m\n",
      "\u001b[?25hInstalling collected packages: safetensors, huggingface-hub, tokenizers, transformers\n",
      "Successfully installed huggingface-hub-0.30.2 safetensors-0.5.3 tokenizers-0.21.1 transformers-4.51.3\n",
      "Collecting torch\n",
      "  Downloading torch-2.7.0-cp312-none-macosx_11_0_arm64.whl.metadata (29 kB)\n",
      "Requirement already satisfied: filelock in /opt/anaconda3/lib/python3.12/site-packages (from torch) (3.13.1)\n",
      "Requirement already satisfied: typing-extensions>=4.10.0 in /opt/anaconda3/lib/python3.12/site-packages (from torch) (4.11.0)\n",
      "Requirement already satisfied: setuptools in /opt/anaconda3/lib/python3.12/site-packages (from torch) (69.5.1)\n",
      "Collecting sympy>=1.13.3 (from torch)\n",
      "  Downloading sympy-1.14.0-py3-none-any.whl.metadata (12 kB)\n",
      "Requirement already satisfied: networkx in /opt/anaconda3/lib/python3.12/site-packages (from torch) (3.2.1)\n",
      "Requirement already satisfied: jinja2 in /opt/anaconda3/lib/python3.12/site-packages (from torch) (3.1.4)\n",
      "Requirement already satisfied: fsspec in /opt/anaconda3/lib/python3.12/site-packages (from torch) (2024.3.1)\n",
      "Requirement already satisfied: mpmath<1.4,>=1.1.0 in /opt/anaconda3/lib/python3.12/site-packages (from sympy>=1.13.3->torch) (1.3.0)\n",
      "Requirement already satisfied: MarkupSafe>=2.0 in /opt/anaconda3/lib/python3.12/site-packages (from jinja2->torch) (2.1.3)\n",
      "Downloading torch-2.7.0-cp312-none-macosx_11_0_arm64.whl (68.6 MB)\n",
      "\u001b[2K   \u001b[90m━━━━━━━━━━━━━━━━━━━━━━━━━━━━━━━━━━━━━━━━\u001b[0m \u001b[32m68.6/68.6 MB\u001b[0m \u001b[31m65.0 MB/s\u001b[0m eta \u001b[36m0:00:00\u001b[0m00:01\u001b[0m00:01\u001b[0m\n",
      "\u001b[?25hDownloading sympy-1.14.0-py3-none-any.whl (6.3 MB)\n",
      "\u001b[2K   \u001b[90m━━━━━━━━━━━━━━━━━━━━━━━━━━━━━━━━━━━━━━━━\u001b[0m \u001b[32m6.3/6.3 MB\u001b[0m \u001b[31m72.8 MB/s\u001b[0m eta \u001b[36m0:00:00\u001b[0m00:01\u001b[0m:00:01\u001b[0m\n",
      "\u001b[?25hInstalling collected packages: sympy, torch\n",
      "  Attempting uninstall: sympy\n",
      "    Found existing installation: sympy 1.12\n",
      "    Uninstalling sympy-1.12:\n",
      "      Successfully uninstalled sympy-1.12\n",
      "Successfully installed sympy-1.14.0 torch-2.7.0\n"
     ]
    }
   ],
   "source": [
    "!pip install transformers\n",
    "!pip install torch\n"
   ]
  },
  {
   "cell_type": "code",
   "execution_count": null,
   "id": "279c5891-cd83-4c84-85ed-7decc18f701d",
   "metadata": {},
   "outputs": [],
   "source": []
  }
 ],
 "metadata": {
  "kernelspec": {
   "display_name": "Python 3 (ipykernel)",
   "language": "python",
   "name": "python3"
  },
  "language_info": {
   "codemirror_mode": {
    "name": "ipython",
    "version": 3
   },
   "file_extension": ".py",
   "mimetype": "text/x-python",
   "name": "python",
   "nbconvert_exporter": "python",
   "pygments_lexer": "ipython3",
   "version": "3.12.4"
  }
 },
 "nbformat": 4,
 "nbformat_minor": 5
}
