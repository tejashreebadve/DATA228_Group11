{
 "cells": [
  {
   "cell_type": "code",
   "execution_count": 1,
   "id": "da962ba2-830e-4ad7-ab20-a94d60f46818",
   "metadata": {},
   "outputs": [],
   "source": [
    "from pyspark.sql import SparkSession\n",
    "from pyspark.sql.functions import *\n",
    "from pyspark.sql.types import *\n",
    "from pyspark.sql.functions import from_unixtime\n",
    "from pyspark.ml.recommendation import ALS\n",
    "from pyspark.ml.feature import StringIndexer, IndexToString\n",
    "import matplotlib.pyplot as plt\n",
    "import pandas as pd\n",
    "import seaborn as sns\n",
    "from scipy import stats\n",
    "from pyspark.sql.functions import col, sum as _sum\n",
    "from pyspark.sql import SparkSession\n",
    "from pyspark.sql.functions import udf\n",
    "from pyspark.sql.types import StringType"
   ]
  },
  {
   "cell_type": "code",
   "execution_count": 2,
   "id": "80dd6559-55ad-4f48-9aa3-6653c49d68df",
   "metadata": {},
   "outputs": [
    {
     "name": "stderr",
     "output_type": "stream",
     "text": [
      "Setting default log level to \"WARN\".\n",
      "To adjust logging level use sc.setLogLevel(newLevel). For SparkR, use setLogLevel(newLevel).\n",
      "25/05/09 18:45:08 WARN NativeCodeLoader: Unable to load native-hadoop library for your platform... using builtin-java classes where applicable\n",
      "25/05/09 18:45:08 WARN Utils: Service 'SparkUI' could not bind on port 4040. Attempting port 4041.\n",
      "25/05/09 18:45:08 WARN Utils: Service 'SparkUI' could not bind on port 4041. Attempting port 4042.\n"
     ]
    }
   ],
   "source": [
    "from pyspark.sql import SparkSession\n",
    "\n",
    "spark = SparkSession.builder \\\n",
    "    .appName(\"SteamReviewsHDFStransalte\") \\\n",
    "    .config(\"spark.hadoop.fs.defaultFS\", \"hdfs://localhost:9000\") \\\n",
    "    .config(\"spark.driver.memory\", \"4g\") \\\n",
    "    .config(\"spark.executor.memory\", \"4g\") \\\n",
    "    .config(\"spark.sql.shuffle.partitions\", \"100\")\\\n",
    "    .config(\"spark.sql.execution.arrow.pyspark.enabled\", \"true\") \\\n",
    "    .getOrCreate()\n"
   ]
  },
  {
   "cell_type": "code",
   "execution_count": 3,
   "id": "0e12871a-95bd-4040-9b03-d1413881c4a3",
   "metadata": {},
   "outputs": [],
   "source": [
    "\n",
    "df = spark.read.parquet(\"/user/tejashree/project/outputs/steam_sentiment_final_batched.parquet\") \n",
    "\n",
    "# Add numeric sentiment for easier aggregation\n",
    "df = df.withColumn(\"is_positive\", when(col(\"sentiment_label\") == \"POSITIVE\", 1).otherwise(0))\n",
    "df = df.withColumn(\"is_negative\", when(col(\"sentiment_label\") == \"NEGATIVE\", 1).otherwise(0))"
   ]
  },
  {
   "cell_type": "code",
   "execution_count": 4,
   "id": "7b63f4c7-fd68-4554-b0ad-78d3d47127bb",
   "metadata": {},
   "outputs": [],
   "source": [
    "\n",
    "# Group by app_id and app_name\n",
    "summary = df.groupBy(\"app_id\", \"app_name\").agg(\n",
    "    avg(\"sentiment_score\").alias(\"avg_sentiment_score\"),\n",
    "    count(\"*\").alias(\"total_reviews\"),\n",
    "    count(when(col(\"is_positive\") == 1, True)).alias(\"positive_reviews\"),\n",
    "    count(when(col(\"is_negative\") == 1, True)).alias(\"negative_reviews\")\n",
    ")\n",
    "\n",
    "# Calculate percentages\n",
    "summary = summary.withColumn(\"percent_positive\", (col(\"positive_reviews\") / col(\"total_reviews\")) * 100)\n",
    "summary = summary.withColumn(\"percent_negative\", (col(\"negative_reviews\") / col(\"total_reviews\")) * 100)\n"
   ]
  },
  {
   "cell_type": "code",
   "execution_count": 5,
   "id": "6b22cbd5-47bd-4823-aed5-94718dda0cd5",
   "metadata": {},
   "outputs": [
    {
     "name": "stderr",
     "output_type": "stream",
     "text": [
      "                                                                                \r"
     ]
    },
    {
     "name": "stdout",
     "output_type": "stream",
     "text": [
      "+------+--------------------------+-------------------+-------------+----------------+----------------+------------------+------------------+\n",
      "|app_id|app_name                  |avg_sentiment_score|total_reviews|positive_reviews|negative_reviews|percent_positive  |percent_negative  |\n",
      "+------+--------------------------+-------------------+-------------+----------------+----------------+------------------+------------------+\n",
      "|8930  |Sid Meier's Civilization V|0.9680371623198893 |104090       |73808           |30282           |70.90786819098857 |29.092131809011434|\n",
      "|4000  |Garry's Mod               |0.9697753596000136 |331060       |240874          |90186           |72.75841237237964 |27.241587627620373|\n",
      "|420   |Half-Life 2: Episode Two  |0.9628003750171743 |11453        |7029            |4424            |61.372566139876014|38.627433860123986|\n",
      "|381210|Dead by Daylight          |0.9681665309390616 |143772       |89856           |53916           |62.49895668141223 |37.50104331858776 |\n",
      "|2870  |X Rebirth                 |0.9766059942881343 |4102         |1196            |2906            |29.156509019990253|70.84349098000975 |\n",
      "+------+--------------------------+-------------------+-------------+----------------+----------------+------------------+------------------+\n",
      "only showing top 5 rows\n",
      "\n"
     ]
    }
   ],
   "source": [
    "summary.show(5, truncate=False)"
   ]
  },
  {
   "cell_type": "code",
   "execution_count": 6,
   "id": "20eaa1e5-0e80-4a56-842f-9b2186f42679",
   "metadata": {},
   "outputs": [
    {
     "name": "stdout",
     "output_type": "stream",
     "text": [
      "+-------+--------+-------------------+-------------+----------------+----------------+-----------------+------------------+\n",
      "|app_id |app_name|avg_sentiment_score|total_reviews|positive_reviews|negative_reviews|percent_positive |percent_negative  |\n",
      "+-------+--------+-------------------+-------------+----------------+----------------+-----------------+------------------+\n",
      "|1145360|Hades   |0.976708369881619  |65629        |54337           |11292           |82.79419159213153|17.205808407868474|\n",
      "+-------+--------+-------------------+-------------+----------------+----------------+-----------------+------------------+\n",
      "\n"
     ]
    }
   ],
   "source": [
    "summary.filter(col(\"app_name\") == \"Hades\").show(5, truncate=False)\n"
   ]
  },
  {
   "cell_type": "code",
   "execution_count": 7,
   "id": "14c3b5be-4d9d-491a-b026-2ee1f4513339",
   "metadata": {},
   "outputs": [
    {
     "name": "stdout",
     "output_type": "stream",
     "text": [
      "✅ Sentiment summary saved to /user/tejashree/project/data/processed/steam_sentiment_summary.parquet\n"
     ]
    }
   ],
   "source": [
    "# Save summary table\n",
    "summary.write.mode(\"overwrite\").parquet(\"/user/tejashree/project/data/processed/steam_sentiment_summary.parquet\")\n",
    "\n",
    "print(\"✅ Sentiment summary saved to /user/tejashree/project/data/processed/steam_sentiment_summary.parquet\")"
   ]
  }
 ],
 "metadata": {
  "kernelspec": {
   "display_name": "Python 3 (ipykernel)",
   "language": "python",
   "name": "python3"
  },
  "language_info": {
   "codemirror_mode": {
    "name": "ipython",
    "version": 3
   },
   "file_extension": ".py",
   "mimetype": "text/x-python",
   "name": "python",
   "nbconvert_exporter": "python",
   "pygments_lexer": "ipython3",
   "version": "3.12.4"
  }
 },
 "nbformat": 4,
 "nbformat_minor": 5
}
