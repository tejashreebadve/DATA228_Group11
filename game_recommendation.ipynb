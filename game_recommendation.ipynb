{
 "cells": [
  {
   "cell_type": "markdown",
   "id": "162a5612-fc5f-4dd8-99d2-40e5d8ac4f3e",
   "metadata": {},
   "source": [
    "### Implementation steps\n",
    "Load cleaned Steam reviews data from HDFS into Spark.\n",
    "\n",
    "Focus only on selected important columns (app_id, app_name, author_steamid, etc.).\n",
    "\n",
    "Remove outliers from author_playtime_forever.\n",
    "\n",
    "Filter serious users (long playtime, valid Steam IDs).\n",
    "\n",
    "Map user IDs and game IDs to small integer indices.\n",
    "\n",
    "Train an ALS recommendation model (Collaborative Filtering).\n",
    "\n",
    "Recommend games for games (item-item recommendations).\n",
    "\n"
   ]
  },
  {
   "cell_type": "markdown",
   "id": "3d30e027-ea34-4768-94ba-a3c5bd421d5c",
   "metadata": {},
   "source": [
    "Your Goal\tStatus\n",
    "Find serious players who played more than one game\n",
    "Filter by high playtime (above average)\n",
    "Focus on real valid users (Steam IDs)\t\n",
    "Map users and games to integer indices (for ALS)\t\n",
    "Recommend 5 games that serious players are likely to like\n"
   ]
  },
  {
   "cell_type": "code",
   "execution_count": 3,
   "id": "14b0b19c-8709-4947-a813-255645ddf431",
   "metadata": {},
   "outputs": [],
   "source": [
    "from pyspark.sql import SparkSession\n",
    "from pyspark.sql.functions import *\n",
    "from pyspark.sql.types import *\n",
    "from pyspark.sql.functions import from_unixtime\n",
    "from pyspark.ml.recommendation import ALS\n",
    "from pyspark.ml.feature import StringIndexer, IndexToString\n",
    "import matplotlib.pyplot as plt\n",
    "import pandas as pd\n",
    "import seaborn as sns\n",
    "from scipy import stats\n",
    "from pyspark.sql.functions import col, sum as _sum\n",
    "from pyspark.sql.functions import col"
   ]
  },
  {
   "cell_type": "code",
   "execution_count": 4,
   "id": "81c09174-e198-4cef-a139-4d2864b6ecfa",
   "metadata": {},
   "outputs": [
    {
     "name": "stderr",
     "output_type": "stream",
     "text": [
      "Setting default log level to \"WARN\".\n",
      "To adjust logging level use sc.setLogLevel(newLevel). For SparkR, use setLogLevel(newLevel).\n",
      "25/04/30 12:42:35 WARN NativeCodeLoader: Unable to load native-hadoop library for your platform... using builtin-java classes where applicable\n",
      "25/04/30 12:42:35 WARN Utils: Service 'SparkUI' could not bind on port 4040. Attempting port 4041.\n",
      "25/04/30 12:42:35 WARN Utils: Service 'SparkUI' could not bind on port 4041. Attempting port 4042.\n",
      "25/04/30 12:42:35 WARN Utils: Service 'SparkUI' could not bind on port 4042. Attempting port 4043.\n"
     ]
    }
   ],
   "source": [
    "from pyspark.sql import SparkSession\n",
    "\n",
    "spark = SparkSession.builder \\\n",
    "    .appName(\"SteamReviewsHDFS\") \\\n",
    "    .config(\"spark.hadoop.fs.defaultFS\", \"hdfs://localhost:9000\") \\\n",
    "    .config(\"spark.driver.memory\", \"4g\") \\\n",
    "    .config(\"spark.executor.memory\", \"4g\") \\\n",
    "    .config(\"spark.sql.shuffle.partitions\", \"100\")\\\n",
    "    .config(\"spark.sql.execution.arrow.pyspark.enabled\", \"true\") \\\n",
    "    .getOrCreate()\n"
   ]
  },
  {
   "cell_type": "code",
   "execution_count": 5,
   "id": "f481c580-94d9-475c-b82c-0f8cd59932b1",
   "metadata": {},
   "outputs": [],
   "source": [
    "df = spark.read.parquet(\"/user/tejashree/project/data/processed/cleaned_steam_reviews.parquet\")"
   ]
  },
  {
   "cell_type": "markdown",
   "id": "b29df4df-a09c-4f20-930b-ec8488ada45c",
   "metadata": {},
   "source": [
    "#### Are there any pairs of games that are played by the same players, i.e., if player A plays game X, then there is a good chance they play game Y also? Analyze any pattern\n",
    "\n",
    "- Using the `data_rec` data frame, we can extract the review authors who have given reviews for more than one game.\n",
    "- We will use the `author_playtime_forever` column to filter the gamers with a play time more than average so as to decrease the amassing of games by a single author.\n",
    "- We will consider five games that are common among these reviewers and recommend them to other players who would fall in the same category."
   ]
  },
  {
   "cell_type": "markdown",
   "id": "c6567ce6-18ec-48ac-a6f1-7e2dc4b179bf",
   "metadata": {},
   "source": [
    "Using the data_rec DataFrame, we first identify review authors who have reviewed more than one game. To ensure that these are serious players (and not users who just briefly tried a game), we filter based on the author_playtime_forever column — keeping only those who have spent more than the average playtime across all users. Then, for these active players, we analyze the games they have commonly played and recommended. Based on this behavior, we recommend five games that are frequently associated with such serious players to other users who exhibit similar engagement patterns."
   ]
  },
  {
   "cell_type": "code",
   "execution_count": 8,
   "id": "16b83627-ad84-446c-84f5-76781f54d92e",
   "metadata": {},
   "outputs": [],
   "source": [
    "col_rec = [\"app_id\", \"app_name\", \"review_id\", \"language\", \"author_steamid\", \"timestamp_created\" ,\"author_playtime_forever\",\"recommended\"]"
   ]
  },
  {
   "cell_type": "code",
   "execution_count": 9,
   "id": "bffbbf5a-2fb4-4d10-87e3-84629d550d28",
   "metadata": {},
   "outputs": [],
   "source": [
    "data_rec = df.select(*col_rec)"
   ]
  },
  {
   "cell_type": "markdown",
   "id": "ae788433-a2d6-4d5c-a206-54769c2594ba",
   "metadata": {},
   "source": [
    "### Remove app_names with total game count less than 500"
   ]
  },
  {
   "cell_type": "code",
   "execution_count": 11,
   "id": "9c5e20d4-76fa-4bca-b0eb-067d10795d16",
   "metadata": {},
   "outputs": [
    {
     "name": "stderr",
     "output_type": "stream",
     "text": [
      "                                                                                \r"
     ]
    },
    {
     "data": {
      "text/html": [
       "<div>\n",
       "<style scoped>\n",
       "    .dataframe tbody tr th:only-of-type {\n",
       "        vertical-align: middle;\n",
       "    }\n",
       "\n",
       "    .dataframe tbody tr th {\n",
       "        vertical-align: top;\n",
       "    }\n",
       "\n",
       "    .dataframe thead th {\n",
       "        text-align: right;\n",
       "    }\n",
       "</style>\n",
       "<table border=\"1\" class=\"dataframe\">\n",
       "  <thead>\n",
       "    <tr style=\"text-align: right;\">\n",
       "      <th></th>\n",
       "      <th>app_name</th>\n",
       "      <th>count</th>\n",
       "    </tr>\n",
       "  </thead>\n",
       "  <tbody>\n",
       "    <tr>\n",
       "      <th>0</th>\n",
       "      <td>DRAGON QUEST HEROES™ II</td>\n",
       "      <td>319</td>\n",
       "    </tr>\n",
       "    <tr>\n",
       "      <th>1</th>\n",
       "      <td>phone number</td>\n",
       "      <td>183</td>\n",
       "    </tr>\n",
       "    <tr>\n",
       "      <th>2</th>\n",
       "      <td>Neon Hardcorps</td>\n",
       "      <td>151</td>\n",
       "    </tr>\n",
       "    <tr>\n",
       "      <th>3</th>\n",
       "      <td>however</td>\n",
       "      <td>140</td>\n",
       "    </tr>\n",
       "    <tr>\n",
       "      <th>4</th>\n",
       "      <td>though.\"</td>\n",
       "      <td>139</td>\n",
       "    </tr>\n",
       "    <tr>\n",
       "      <th>...</th>\n",
       "      <td>...</td>\n",
       "      <td>...</td>\n",
       "    </tr>\n",
       "    <tr>\n",
       "      <th>360599</th>\n",
       "      <td>их нельзя сравнивать</td>\n",
       "      <td>1</td>\n",
       "    </tr>\n",
       "    <tr>\n",
       "      <th>360600</th>\n",
       "      <td>I do wonder why there is no jumping</td>\n",
       "      <td>1</td>\n",
       "    </tr>\n",
       "    <tr>\n",
       "      <th>360601</th>\n",
       "      <td>even that top down baldurs gate clone on the ...</td>\n",
       "      <td>1</td>\n",
       "    </tr>\n",
       "    <tr>\n",
       "      <th>360602</th>\n",
       "      <td>it's no \"\"game-of-the-generation\"\". Still a s...</td>\n",
       "      <td>1</td>\n",
       "    </tr>\n",
       "    <tr>\n",
       "      <th>360603</th>\n",
       "      <td>rich background and lore</td>\n",
       "      <td>1</td>\n",
       "    </tr>\n",
       "  </tbody>\n",
       "</table>\n",
       "<p>360604 rows × 2 columns</p>\n",
       "</div>"
      ],
      "text/plain": [
       "                                                 app_name  count\n",
       "0                                 DRAGON QUEST HEROES™ II    319\n",
       "1                                            phone number    183\n",
       "2                                          Neon Hardcorps    151\n",
       "3                                                 however    140\n",
       "4                                                though.\"    139\n",
       "...                                                   ...    ...\n",
       "360599                               их нельзя сравнивать      1\n",
       "360600                I do wonder why there is no jumping      1\n",
       "360601   even that top down baldurs gate clone on the ...      1\n",
       "360602   it's no \"\"game-of-the-generation\"\". Still a s...      1\n",
       "360603                           rich background and lore      1\n",
       "\n",
       "[360604 rows x 2 columns]"
      ]
     },
     "execution_count": 11,
     "metadata": {},
     "output_type": "execute_result"
    }
   ],
   "source": [
    "\n",
    "# Group by app name and count\n",
    "app_names = data_rec.groupBy(\"app_name\").count()\n",
    "\n",
    "# Filter where count is less than 500\n",
    "apps_less_than_100 = app_names.filter(col(\"count\") <400)\n",
    "\n",
    "# Sort ascendingly by count\n",
    "apps_sorted = apps_less_than_100.orderBy(col(\"count\").desc())\n",
    "\n",
    "# Convert to pandas\n",
    "apps_sorted_pd = apps_sorted.toPandas()\n",
    "\n",
    "apps_sorted_pd\n"
   ]
  },
  {
   "cell_type": "code",
   "execution_count": 12,
   "id": "dcb4c83a-09d0-427a-a965-85e0dce00b4f",
   "metadata": {},
   "outputs": [],
   "source": [
    "# Group by app_name and count\n",
    "app_names = df.groupBy(\"app_name\").count()\n",
    "\n",
    "# Find app names with 500 or more reviews\n",
    "apps_more_than_500 = app_names.filter(col(\"count\") >= 200)\n",
    "\n",
    "# Join back to the original dataframe to keep only popular apps\n",
    "data_rec = data_rec.join(apps_more_than_500, on=\"app_name\", how=\"inner\")\n"
   ]
  },
  {
   "cell_type": "code",
   "execution_count": 13,
   "id": "c7360422-8c72-4c27-b83c-a0b3d551c360",
   "metadata": {},
   "outputs": [
    {
     "name": "stderr",
     "output_type": "stream",
     "text": [
      "                                                                                \r"
     ]
    },
    {
     "name": "stdout",
     "output_type": "stream",
     "text": [
      "+----------------------+------+---------+--------+-----------------+-------------------+-----------------------+-----------+-----+\n",
      "|app_name              |app_id|review_id|language|author_steamid   |timestamp_created  |author_playtime_forever|recommended|count|\n",
      "+----------------------+------+---------+--------+-----------------+-------------------+-----------------------+-----------+-----+\n",
      "|Counter-Strike: Source|240   |59980286 |russian |76561198020760734|2019-12-16 14:32:25|2254858.0              |true       |99385|\n",
      "+----------------------+------+---------+--------+-----------------+-------------------+-----------------------+-----------+-----+\n",
      "\n"
     ]
    }
   ],
   "source": [
    "from pyspark.sql.functions import col\n",
    "\n",
    "data_rec.filter(col(\"author_steamid\") == 76561198020760734).show(truncate=False)\n"
   ]
  },
  {
   "cell_type": "code",
   "execution_count": 14,
   "id": "cabebab3-7b4b-49c4-ac2c-45db6f34bb10",
   "metadata": {},
   "outputs": [
    {
     "name": "stderr",
     "output_type": "stream",
     "text": [
      "                                                                                \r"
     ]
    }
   ],
   "source": [
    "def remove_outliers(df, column):\n",
    "    q1, q3 = df.approxQuantile(column, [0.25, 0.75], 0.01)\n",
    "    iqr = q3 - q1\n",
    "    lower_limit = q1 - 2 * iqr\n",
    "    upper_limit = q3 + 2 * iqr\n",
    "    return df.filter((col(column) >= lower_limit) & (col(column) <= upper_limit))\n",
    "data_rec = remove_outliers(data_rec, \"author_playtime_forever\")\n",
    "mean_playtime = data_rec.agg(mean(\"author_playtime_forever\").alias(\"Mean\")).collect()[0][\"Mean\"]"
   ]
  },
  {
   "cell_type": "code",
   "execution_count": 15,
   "id": "c0d9aa3b-f286-4662-9010-b2374aaef4ec",
   "metadata": {},
   "outputs": [
    {
     "data": {
      "text/plain": [
       "2.065846578414234"
      ]
     },
     "execution_count": 15,
     "metadata": {},
     "output_type": "execute_result"
    }
   ],
   "source": [
    "mean_playtime/3600 # average play time in hours"
   ]
  },
  {
   "cell_type": "markdown",
   "id": "754f37f6-d3f4-4c86-a1e7-f5f957f56d47",
   "metadata": {},
   "source": [
    "This code filters the dataset to retain only serious users who have played each game for at least five times the average playtime, groups them by their Steam ID, keeps only those users who have reviewed more than one such game, ensures the user IDs are valid by checking they are above a specific threshold (76560000000000000), and finally orders these users by the number of games they have seriously engaged with in descending order."
   ]
  },
  {
   "cell_type": "code",
   "execution_count": 17,
   "id": "77f59c89-7a5f-4687-9812-bcf70778e03c",
   "metadata": {},
   "outputs": [
    {
     "name": "stderr",
     "output_type": "stream",
     "text": [
      "[Stage 36:===============================>                        (17 + 8) / 30]\r"
     ]
    },
    {
     "name": "stdout",
     "output_type": "stream",
     "text": [
      "+-----------------+-----+\n",
      "|   author_steamid|count|\n",
      "+-----------------+-----+\n",
      "|76561199003745475|    9|\n",
      "|76561198303461537|    6|\n",
      "|76561198847533327|    5|\n",
      "|76561198107639116|    5|\n",
      "|76561198008966571|    4|\n",
      "|76561198053974624|    4|\n",
      "|76561198262809392|    4|\n",
      "|76561198368118101|    4|\n",
      "|76561198119696900|    4|\n",
      "|76561198056543838|    3|\n",
      "|76561198196563587|    3|\n",
      "|76561198909989107|    3|\n",
      "|76561198092228575|    3|\n",
      "|76561198028209057|    3|\n",
      "|76561198034267568|    3|\n",
      "|76561198024476303|    3|\n",
      "|76561198168867327|    3|\n",
      "|76561198126942964|    3|\n",
      "|76561198897905512|    3|\n",
      "|76561198009290759|    3|\n",
      "+-----------------+-----+\n",
      "only showing top 20 rows\n",
      "\n"
     ]
    },
    {
     "name": "stderr",
     "output_type": "stream",
     "text": [
      "                                                                                \r"
     ]
    }
   ],
   "source": [
    "pair_games = data_rec.filter(col(\"author_playtime_forever\")>=5*mean_playtime).groupBy(\"author_steamid\").count()\n",
    "pair_games = pair_games.filter((pair_games[\"count\"]>1)&(pair_games[\"author_steamid\"]>=76560000000000000)).orderBy(pair_games[\"count\"].desc())\n",
    "pair_games.show()"
   ]
  },
  {
   "cell_type": "code",
   "execution_count": 18,
   "id": "a76e5991-b87c-48aa-aad4-9bc54fe67527",
   "metadata": {},
   "outputs": [
    {
     "name": "stderr",
     "output_type": "stream",
     "text": [
      "                                                                                \r"
     ]
    },
    {
     "data": {
      "text/plain": [
       "2305"
      ]
     },
     "execution_count": 18,
     "metadata": {},
     "output_type": "execute_result"
    }
   ],
   "source": [
    "pair_games.count()"
   ]
  },
  {
   "cell_type": "code",
   "execution_count": 19,
   "id": "c445a953-d1b1-4d12-9b31-827e1a3c1ab4",
   "metadata": {},
   "outputs": [
    {
     "name": "stdout",
     "output_type": "stream",
     "text": [
      "+-----------------+------+-------------------+-----------+\n",
      "|   author_steamid|app_id|           app_name|recommended|\n",
      "+-----------------+------+-------------------+-----------+\n",
      "|76561198850036944|253230|      A Hat in Time|       true|\n",
      "|76561198109827334|253230|      A Hat in Time|       true|\n",
      "|76561198137741861|253230|      A Hat in Time|       true|\n",
      "|76561198431146240|253230|      A Hat in Time|       true|\n",
      "|76561198391788773|253230|      A Hat in Time|       true|\n",
      "|76561198338554087|253230|      A Hat in Time|       true|\n",
      "|76561198964615267|253230|      A Hat in Time|       true|\n",
      "|76561198804909831|253230|      A Hat in Time|       true|\n",
      "|76561198800765514|253230|      A Hat in Time|       true|\n",
      "|76561198156421975|253230|      A Hat in Time|       true|\n",
      "|76561198845653713|253230|      A Hat in Time|       true|\n",
      "|76561198268649264|253230|      A Hat in Time|       true|\n",
      "|76561198125315612|253230|      A Hat in Time|       true|\n",
      "|76561198178496474|253230|      A Hat in Time|       true|\n",
      "|76561198083441571|238460|BattleBlock Theater|       true|\n",
      "|76561198073138911|238460|BattleBlock Theater|       true|\n",
      "|76561198369413032|238460|BattleBlock Theater|       true|\n",
      "|76561198119300719|238460|BattleBlock Theater|       true|\n",
      "|76561198303461537|238460|BattleBlock Theater|       true|\n",
      "|76561198866448670|238460|BattleBlock Theater|       true|\n",
      "+-----------------+------+-------------------+-----------+\n",
      "only showing top 20 rows\n",
      "\n"
     ]
    },
    {
     "name": "stderr",
     "output_type": "stream",
     "text": [
      "                                                                                \r"
     ]
    }
   ],
   "source": [
    "new_pair_games = data_rec.filter(col(\"author_playtime_forever\")>=5*mean_playtime)\n",
    "new_pair_games = new_pair_games.filter(new_pair_games[\"author_steamid\"]>=76560000000000000).select(\"author_steamid\",\"app_id\", \"app_name\",\"recommended\")\n",
    "new_pair_games.show()"
   ]
  },
  {
   "cell_type": "code",
   "execution_count": 20,
   "id": "15996704-b7c6-4d2e-9616-76106350a30e",
   "metadata": {},
   "outputs": [
    {
     "name": "stderr",
     "output_type": "stream",
     "text": [
      "                                                                                \r"
     ]
    },
    {
     "data": {
      "text/plain": [
       "248751"
      ]
     },
     "execution_count": 20,
     "metadata": {},
     "output_type": "execute_result"
    }
   ],
   "source": [
    "new_pair_games.count()"
   ]
  },
  {
   "cell_type": "code",
   "execution_count": 21,
   "id": "9b234c65-d03d-4ec3-87f8-6b43058f6759",
   "metadata": {},
   "outputs": [
    {
     "name": "stderr",
     "output_type": "stream",
     "text": [
      "                                                                                \r"
     ]
    }
   ],
   "source": [
    "# Convert author_steamid and app_id to indices\n",
    "author_indexer = StringIndexer(inputCol=\"author_steamid\", outputCol=\"author_index\").fit(new_pair_games)\n",
    "app_indexer = StringIndexer(inputCol=\"app_name\", outputCol=\"app_index\").fit(new_pair_games)\n",
    "new_pair_games = new_pair_games.withColumn(\"Rating\", when(col(\"recommended\") == True, 5).otherwise(1))"
   ]
  },
  {
   "cell_type": "code",
   "execution_count": 22,
   "id": "73a42d4b-b1f4-4394-beb8-790835071787",
   "metadata": {},
   "outputs": [
    {
     "name": "stderr",
     "output_type": "stream",
     "text": [
      "[Stage 91:=======================================>                (21 + 8) / 30]\r"
     ]
    },
    {
     "name": "stdout",
     "output_type": "stream",
     "text": [
      "+-----------------+------+-------------------+-----------+------+---------+------------+\n",
      "|   author_steamid|app_id|           app_name|recommended|Rating|app_index|author_index|\n",
      "+-----------------+------+-------------------+-----------+------+---------+------------+\n",
      "|76561198850036944|253230|      A Hat in Time|       true|     5|    152.0|    225956.0|\n",
      "|76561198109827334|253230|      A Hat in Time|       true|     5|    152.0|     80848.0|\n",
      "|76561198137741861|253230|      A Hat in Time|       true|     5|    152.0|     98703.0|\n",
      "|76561198431146240|253230|      A Hat in Time|       true|     5|    152.0|    205883.0|\n",
      "|76561198391788773|253230|      A Hat in Time|       true|     5|    152.0|    191628.0|\n",
      "|76561198338554087|253230|      A Hat in Time|       true|     5|    152.0|    173018.0|\n",
      "|76561198964615267|253230|      A Hat in Time|       true|     5|    152.0|    236330.0|\n",
      "|76561198804909831|253230|      A Hat in Time|       true|     5|    152.0|    215750.0|\n",
      "|76561198800765514|253230|      A Hat in Time|       true|     5|    152.0|    214671.0|\n",
      "|76561198156421975|253230|      A Hat in Time|       true|     5|    152.0|    109749.0|\n",
      "|76561198845653713|253230|      A Hat in Time|       true|     5|    152.0|    225039.0|\n",
      "|76561198268649264|253230|      A Hat in Time|       true|     5|    152.0|    146964.0|\n",
      "|76561198125315612|253230|      A Hat in Time|       true|     5|    152.0|     91259.0|\n",
      "|76561198178496474|253230|      A Hat in Time|       true|     5|    152.0|    119895.0|\n",
      "|76561198083441571|238460|BattleBlock Theater|       true|     5|    164.0|     63886.0|\n",
      "|76561198073138911|238460|BattleBlock Theater|       true|     5|    164.0|     56494.0|\n",
      "|76561198369413032|238460|BattleBlock Theater|       true|     5|    164.0|    184769.0|\n",
      "|76561198119300719|238460|BattleBlock Theater|       true|     5|    164.0|     86630.0|\n",
      "|76561198303461537|238460|BattleBlock Theater|       true|     5|    164.0|         1.0|\n",
      "|76561198866448670|238460|BattleBlock Theater|       true|     5|    164.0|    228971.0|\n",
      "+-----------------+------+-------------------+-----------+------+---------+------------+\n",
      "only showing top 20 rows\n",
      "\n"
     ]
    },
    {
     "name": "stderr",
     "output_type": "stream",
     "text": [
      "25/04/30 12:42:58 WARN DAGScheduler: Broadcasting large task binary with size 10.3 MiB\n",
      "                                                                                \r"
     ]
    }
   ],
   "source": [
    "new_pair = author_indexer.transform(app_indexer.transform(new_pair_games))\n",
    "new_pair.show()"
   ]
  },
  {
   "cell_type": "code",
   "execution_count": 23,
   "id": "9b8d488c-628b-400f-a9c2-49e17679f8bd",
   "metadata": {},
   "outputs": [
    {
     "name": "stderr",
     "output_type": "stream",
     "text": [
      "                                                                                \r"
     ]
    },
    {
     "data": {
      "text/plain": [
       "260"
      ]
     },
     "execution_count": 23,
     "metadata": {},
     "output_type": "execute_result"
    }
   ],
   "source": [
    "games = new_pair.select(\"app_index\",\"app_name\").distinct().orderBy(\"app_index\")\n",
    "games.count()"
   ]
  },
  {
   "cell_type": "code",
   "execution_count": 24,
   "id": "bc95865c-e3f2-4b28-b0f2-a8d3c810c1bb",
   "metadata": {},
   "outputs": [
    {
     "name": "stderr",
     "output_type": "stream",
     "text": [
      "25/04/30 12:43:01 WARN DAGScheduler: Broadcasting large task binary with size 10.3 MiB\n",
      "25/04/30 12:43:01 WARN DAGScheduler: Broadcasting large task binary with size 10.3 MiB\n",
      "25/04/30 12:43:02 WARN DAGScheduler: Broadcasting large task binary with size 10.3 MiB\n",
      "25/04/30 12:43:02 WARN DAGScheduler: Broadcasting large task binary with size 10.3 MiB\n",
      "25/04/30 12:43:03 WARN DAGScheduler: Broadcasting large task binary with size 10.3 MiB\n",
      "25/04/30 12:43:03 WARN DAGScheduler: Broadcasting large task binary with size 10.3 MiB\n",
      "25/04/30 12:43:04 WARN DAGScheduler: Broadcasting large task binary with size 10.3 MiB\n",
      "25/04/30 12:43:04 WARN InstanceBuilder: Failed to load implementation from:dev.ludovic.netlib.blas.JNIBLAS\n",
      "25/04/30 12:43:04 WARN DAGScheduler: Broadcasting large task binary with size 10.3 MiB\n",
      "25/04/30 12:43:05 WARN InstanceBuilder: Failed to load implementation from:dev.ludovic.netlib.lapack.JNILAPACK\n",
      "25/04/30 12:43:05 WARN DAGScheduler: Broadcasting large task binary with size 10.3 MiB\n",
      "25/04/30 12:43:05 WARN DAGScheduler: Broadcasting large task binary with size 10.3 MiB\n",
      "25/04/30 12:43:06 WARN DAGScheduler: Broadcasting large task binary with size 10.3 MiB\n",
      "25/04/30 12:43:06 WARN DAGScheduler: Broadcasting large task binary with size 10.3 MiB\n",
      "25/04/30 12:43:06 WARN DAGScheduler: Broadcasting large task binary with size 10.3 MiB\n",
      "25/04/30 12:43:07 WARN DAGScheduler: Broadcasting large task binary with size 10.3 MiB\n",
      "25/04/30 12:43:07 WARN DAGScheduler: Broadcasting large task binary with size 10.3 MiB\n",
      "25/04/30 12:43:08 WARN DAGScheduler: Broadcasting large task binary with size 10.3 MiB\n",
      "25/04/30 12:43:08 WARN DAGScheduler: Broadcasting large task binary with size 10.3 MiB\n",
      "25/04/30 12:43:09 WARN DAGScheduler: Broadcasting large task binary with size 10.3 MiB\n",
      "25/04/30 12:43:09 WARN DAGScheduler: Broadcasting large task binary with size 10.3 MiB\n",
      "25/04/30 12:43:09 WARN DAGScheduler: Broadcasting large task binary with size 10.3 MiB\n",
      "25/04/30 12:43:10 WARN DAGScheduler: Broadcasting large task binary with size 10.3 MiB\n",
      "25/04/30 12:43:10 WARN DAGScheduler: Broadcasting large task binary with size 10.3 MiB\n",
      "25/04/30 12:43:10 WARN DAGScheduler: Broadcasting large task binary with size 10.3 MiB\n",
      "25/04/30 12:43:11 WARN DAGScheduler: Broadcasting large task binary with size 10.3 MiB\n",
      "25/04/30 12:43:11 WARN DAGScheduler: Broadcasting large task binary with size 10.3 MiB\n",
      "25/04/30 12:43:11 WARN DAGScheduler: Broadcasting large task binary with size 10.3 MiB\n",
      "25/04/30 12:43:12 WARN DAGScheduler: Broadcasting large task binary with size 10.3 MiB\n",
      "25/04/30 12:43:12 WARN DAGScheduler: Broadcasting large task binary with size 10.3 MiB\n",
      "25/04/30 12:43:13 WARN DAGScheduler: Broadcasting large task binary with size 10.4 MiB\n",
      "[Stage 197:====================================================> (97 + 3) / 100]\r"
     ]
    },
    {
     "name": "stdout",
     "output_type": "stream",
     "text": [
      "+------------+----------------------------------------------------------------------------------------+\n",
      "|author_index|recommendations                                                                         |\n",
      "+------------+----------------------------------------------------------------------------------------+\n",
      "|4           |[{136, 6.8023324}, {175, 6.188595}, {168, 5.801366}, {213, 5.7765493}, {191, 5.6294155}]|\n",
      "|7           |[{212, 8.088351}, {2, 7.104186}, {197, 7.102503}, {62, 6.396319}, {233, 6.301838}]      |\n",
      "|8           |[{30, 7.4820223}, {225, 7.073592}, {26, 7.022451}, {186, 6.9353147}, {46, 6.861062}]    |\n",
      "|23          |[{140, 5.5344667}, {57, 5.4243507}, {29, 5.2698107}, {68, 5.109564}, {16, 4.9924684}]   |\n",
      "|31          |[{73, 5.0006347}, {66, 4.989454}, {186, 3.8505864}, {124, 3.471138}, {190, 3.361213}]   |\n",
      "|34          |[{202, 7.387505}, {124, 6.5198226}, {62, 6.5031896}, {224, 6.1364746}, {63, 5.3859353}] |\n",
      "|39          |[{190, 5.3203335}, {100, 5.1127577}, {73, 4.99922}, {11, 4.895789}, {66, 4.473934}]     |\n",
      "|49          |[{1, 4.9049163}, {66, 4.8588023}, {15, 4.0961485}, {186, 4.049073}, {170, 4.0475645}]   |\n",
      "|53          |[{119, 5.536145}, {157, 5.3831096}, {138, 4.999773}, {171, 4.999723}, {34, 4.929371}]   |\n",
      "|55          |[{230, 5.176034}, {10, 4.985132}, {32, 4.9481435}, {60, 4.7947736}, {127, 4.7149386}]   |\n",
      "|59          |[{180, 5.383549}, {205, 5.233645}, {38, 5.1458397}, {2, 5.132043}, {152, 5.1289496}]    |\n",
      "|65          |[{186, 5.463473}, {73, 4.999294}, {30, 4.9475627}, {66, 4.3653545}, {92, 4.165928}]     |\n",
      "|78          |[{204, 6.498814}, {170, 5.676508}, {84, 5.084824}, {172, 5.0210915}, {17, 4.998153}]    |\n",
      "|84          |[{17, 4.9927287}, {21, 4.971992}, {184, 4.7759914}, {186, 4.629635}, {119, 4.448801}]   |\n",
      "|85          |[{3, 4.9980536}, {4, 4.9785113}, {102, 4.235616}, {40, 3.9930315}, {120, 3.8005}]       |\n",
      "|87          |[{65, 6.7067356}, {71, 5.4103346}, {19, 5.3094835}, {140, 5.1508408}, {187, 5.0805817}] |\n",
      "|100         |[{17, 5.002296}, {15, 4.969362}, {1, 4.682392}, {246, 4.634034}, {186, 4.5548897}]      |\n",
      "|108         |[{160, 5.3221493}, {12, 5.0274706}, {11, 4.97879}, {90, 4.9534683}, {238, 4.942311}]    |\n",
      "|114         |[{89, 5.7131195}, {1, 5.2243576}, {29, 5.1432314}, {11, 5.0056624}, {9, 4.9642}]        |\n",
      "|130         |[{28, 5.029625}, {15, 4.9617915}, {53, 4.8999605}, {9, 4.601592}, {66, 4.5891614}]      |\n",
      "+------------+----------------------------------------------------------------------------------------+\n",
      "only showing top 20 rows\n",
      "\n"
     ]
    },
    {
     "name": "stderr",
     "output_type": "stream",
     "text": [
      "25/04/30 12:43:20 WARN DAGScheduler: Broadcasting large task binary with size 10.4 MiB\n",
      "                                                                                \r"
     ]
    }
   ],
   "source": [
    "# Create an ALS (Alternating Least Squares) model\n",
    "als = ALS(maxIter=10, regParam=0.01, userCol=\"app_index\", itemCol=\"author_index\", ratingCol=\"Rating\", coldStartStrategy=\"drop\")\n",
    "\n",
    "# Fit the model to the data\n",
    "model = als.fit(new_pair)\n",
    "\n",
    "# Generate recommendations for all items\n",
    "app_recommendations = model.recommendForAllItems(5)  # Number of recommendations per item\n",
    "\n",
    "# Display the recommendations\n",
    "app_recommendations.show(truncate=False)"
   ]
  },
  {
   "cell_type": "code",
   "execution_count": 25,
   "id": "02ec6f4e-3526-475d-b3cf-490583bb77b8",
   "metadata": {},
   "outputs": [
    {
     "name": "stderr",
     "output_type": "stream",
     "text": [
      "                                                                                \r"
     ]
    },
    {
     "name": "stdout",
     "output_type": "stream",
     "text": [
      "+---------+--------------------+\n",
      "|app_index|            app_name|\n",
      "+---------+--------------------+\n",
      "|      0.0|PLAYERUNKNOWN'S B...|\n",
      "|      1.0|Tom Clancy's Rain...|\n",
      "|      2.0|  Grand Theft Auto V|\n",
      "|      3.0|       Rocket League|\n",
      "|      4.0|            Terraria|\n",
      "|      5.0|                Rust|\n",
      "|      6.0|         Garry's Mod|\n",
      "|      7.0|    Dead by Daylight|\n",
      "|      8.0|Monster Hunter: W...|\n",
      "|      9.0|ARK: Survival Evo...|\n",
      "|     10.0|Euro Truck Simula...|\n",
      "|     11.0|The Elder Scrolls...|\n",
      "|     12.0|            PAYDAY 2|\n",
      "|     13.0|   Hearts of Iron IV|\n",
      "|     14.0|              Arma 3|\n",
      "|     15.0|Sid Meier's Civil...|\n",
      "|     16.0|Europa Universali...|\n",
      "|     17.0|Total War: WARHAM...|\n",
      "|     18.0|           Fallout 4|\n",
      "|     19.0|The Binding of Is...|\n",
      "+---------+--------------------+\n",
      "only showing top 20 rows\n",
      "\n"
     ]
    }
   ],
   "source": [
    "games.show()"
   ]
  },
  {
   "cell_type": "markdown",
   "id": "c8c5bf6a-a945-411a-809c-773e6b0ddc14",
   "metadata": {},
   "source": [
    "### save model"
   ]
  },
  {
   "cell_type": "code",
   "execution_count": 27,
   "id": "a7835044-208b-4332-aacf-ee1d67d44f87",
   "metadata": {},
   "outputs": [
    {
     "name": "stderr",
     "output_type": "stream",
     "text": [
      "25/04/30 12:43:23 WARN DAGScheduler: Broadcasting large task binary with size 10.5 MiB\n",
      "25/04/30 12:43:24 WARN DAGScheduler: Broadcasting large task binary with size 10.5 MiB\n",
      "                                                                                \r"
     ]
    }
   ],
   "source": [
    "# Save your ALS trained model\n",
    "model.save(\"/user/tejashree/project/models/recommendation/als_game_recommendation_model\")\n"
   ]
  },
  {
   "cell_type": "code",
   "execution_count": 28,
   "id": "7e24a50c-8133-4176-b9f9-75f695586327",
   "metadata": {},
   "outputs": [],
   "source": [
    "from pyspark.ml.recommendation import ALSModel\n",
    "model = ALSModel.load(\"/user/tejashree/project/models/recommendation/als_game_recommendation_model\")\n"
   ]
  },
  {
   "cell_type": "markdown",
   "id": "ec663185-1b57-41b3-bd35-53f2345aab20",
   "metadata": {},
   "source": [
    "### save recomendations"
   ]
  },
  {
   "cell_type": "code",
   "execution_count": 39,
   "id": "096bc063-d73e-4d52-9ca2-53f06558c892",
   "metadata": {},
   "outputs": [
    {
     "name": "stderr",
     "output_type": "stream",
     "text": [
      "                                                                                \r"
     ]
    }
   ],
   "source": [
    "app_recommendations = model.recommendForAllItems(5)\n",
    "app_recommendations.write.mode(\"overwrite\").parquet(\"/user/tejashree/project/outputs/app_recommendations.parquet\")"
   ]
  },
  {
   "cell_type": "markdown",
   "id": "437bd923-50e9-45cb-a420-9d57014198c2",
   "metadata": {},
   "source": [
    " ### saving app_index → app_name mapping,"
   ]
  },
  {
   "cell_type": "code",
   "execution_count": 42,
   "id": "d2c0b686-2095-4b4c-83dd-7ed2d5cfe918",
   "metadata": {},
   "outputs": [
    {
     "name": "stderr",
     "output_type": "stream",
     "text": [
      "                                                                                \r"
     ]
    }
   ],
   "source": [
    "games.write.mode(\"overwrite\").parquet(\"/user/tejashree/project/data/mappings/games_mapping.parquet\")\n"
   ]
  },
  {
   "cell_type": "markdown",
   "id": "ee8e1b92-018c-4dd0-89a0-3e2c78bef7ee",
   "metadata": {},
   "source": [
    "### author_index → author_steamid mapping,"
   ]
  },
  {
   "cell_type": "code",
   "execution_count": 49,
   "id": "7c8285ac-fc71-4dc9-bede-79b0e62dede3",
   "metadata": {},
   "outputs": [
    {
     "name": "stderr",
     "output_type": "stream",
     "text": [
      "25/04/30 12:45:25 WARN DAGScheduler: Broadcasting large task binary with size 10.3 MiB\n",
      "25/04/30 12:45:26 WARN DAGScheduler: Broadcasting large task binary with size 15.2 MiB\n",
      "                                                                                \r"
     ]
    }
   ],
   "source": [
    "# Save mapping table: author_steamid ↔ author_index\n",
    "author_mapping = new_pair.select(\"author_steamid\", \"author_index\").distinct()\n",
    "author_mapping.write.mode(\"overwrite\").parquet(\"/user/tejashree/project/data/mappings/author_mapping.parquet\")\n"
   ]
  },
  {
   "cell_type": "code",
   "execution_count": 51,
   "id": "bf1fbd66-c630-46a6-9965-929abf23760c",
   "metadata": {},
   "outputs": [
    {
     "name": "stderr",
     "output_type": "stream",
     "text": [
      "25/04/30 12:45:30 WARN DAGScheduler: Broadcasting large task binary with size 10.3 MiB\n",
      "25/04/30 12:45:30 WARN DAGScheduler: Broadcasting large task binary with size 10.3 MiB\n",
      "25/04/30 12:45:30 WARN DAGScheduler: Broadcasting large task binary with size 10.3 MiB\n",
      "25/04/30 12:45:31 WARN DAGScheduler: Broadcasting large task binary with size 10.3 MiB\n",
      "25/04/30 12:45:31 WARN DAGScheduler: Broadcasting large task binary with size 10.3 MiB\n",
      "25/04/30 12:45:31 WARN DAGScheduler: Broadcasting large task binary with size 10.3 MiB\n",
      "25/04/30 12:45:32 WARN DAGScheduler: Broadcasting large task binary with size 10.3 MiB\n",
      "25/04/30 12:45:32 WARN DAGScheduler: Broadcasting large task binary with size 10.3 MiB\n",
      "25/04/30 12:45:33 WARN DAGScheduler: Broadcasting large task binary with size 10.3 MiB\n",
      "25/04/30 12:45:33 WARN DAGScheduler: Broadcasting large task binary with size 10.3 MiB\n",
      "25/04/30 12:45:33 WARN DAGScheduler: Broadcasting large task binary with size 10.3 MiB\n",
      "25/04/30 12:45:34 WARN DAGScheduler: Broadcasting large task binary with size 10.3 MiB\n",
      "25/04/30 12:45:34 WARN DAGScheduler: Broadcasting large task binary with size 10.3 MiB\n",
      "25/04/30 12:45:34 WARN DAGScheduler: Broadcasting large task binary with size 10.3 MiB\n",
      "25/04/30 12:45:35 WARN DAGScheduler: Broadcasting large task binary with size 10.3 MiB\n",
      "25/04/30 12:45:35 WARN DAGScheduler: Broadcasting large task binary with size 10.3 MiB\n",
      "25/04/30 12:45:36 WARN DAGScheduler: Broadcasting large task binary with size 10.3 MiB\n",
      "25/04/30 12:45:36 WARN DAGScheduler: Broadcasting large task binary with size 10.3 MiB\n",
      "25/04/30 12:45:36 WARN DAGScheduler: Broadcasting large task binary with size 10.3 MiB\n",
      "25/04/30 12:45:37 WARN DAGScheduler: Broadcasting large task binary with size 10.3 MiB\n",
      "25/04/30 12:45:37 WARN DAGScheduler: Broadcasting large task binary with size 10.3 MiB\n",
      "25/04/30 12:45:37 WARN DAGScheduler: Broadcasting large task binary with size 10.3 MiB\n",
      "25/04/30 12:45:38 WARN DAGScheduler: Broadcasting large task binary with size 10.3 MiB\n",
      "25/04/30 12:45:38 WARN DAGScheduler: Broadcasting large task binary with size 10.3 MiB\n",
      "25/04/30 12:45:38 WARN DAGScheduler: Broadcasting large task binary with size 10.3 MiB\n",
      "25/04/30 12:45:39 WARN DAGScheduler: Broadcasting large task binary with size 10.3 MiB\n",
      "25/04/30 12:45:39 WARN DAGScheduler: Broadcasting large task binary with size 10.3 MiB\n",
      "25/04/30 12:45:40 WARN DAGScheduler: Broadcasting large task binary with size 10.3 MiB\n",
      "25/04/30 12:45:40 WARN DAGScheduler: Broadcasting large task binary with size 10.3 MiB\n",
      "25/04/30 12:45:41 WARN DAGScheduler: Broadcasting large task binary with size 10.3 MiB\n",
      "25/04/30 12:45:41 WARN DAGScheduler: Broadcasting large task binary with size 10.3 MiB\n",
      "25/04/30 12:45:42 WARN DAGScheduler: Broadcasting large task binary with size 4.7 MiB\n",
      "25/04/30 12:45:43 WARN DAGScheduler: Broadcasting large task binary with size 10.4 MiB\n",
      "[Stage 480:>                                                        (0 + 7) / 7]\r"
     ]
    },
    {
     "name": "stdout",
     "output_type": "stream",
     "text": [
      "✅ RMSE of your ALS model = 0.0047\n"
     ]
    },
    {
     "name": "stderr",
     "output_type": "stream",
     "text": [
      "25/04/30 12:45:43 WARN DAGScheduler: Broadcasting large task binary with size 10.4 MiB\n",
      "                                                                                \r"
     ]
    }
   ],
   "source": [
    "from pyspark.ml.evaluation import RegressionEvaluator\n",
    "\n",
    "# Step 1: After you fit your model on `new_pair`\n",
    "model = als.fit(new_pair)\n",
    "\n",
    "# Step 2: Predict back on your input data (new_pair)\n",
    "predictions = model.transform(new_pair)\n",
    "\n",
    "# Step 3: Create an evaluator\n",
    "evaluator = RegressionEvaluator(\n",
    "    metricName=\"rmse\",\n",
    "    labelCol=\"Rating\",\n",
    "    predictionCol=\"prediction\"\n",
    ")\n",
    "\n",
    "# Step 4: Calculate RMSE\n",
    "rmse = evaluator.evaluate(predictions)\n",
    "print(f\"✅ RMSE of your ALS model = {rmse:.4f}\")\n"
   ]
  },
  {
   "cell_type": "code",
   "execution_count": null,
   "id": "bfa9510f-b3c8-460b-b7c5-e58f580c4688",
   "metadata": {},
   "outputs": [],
   "source": []
  }
 ],
 "metadata": {
  "kernelspec": {
   "display_name": "Python 3 (ipykernel)",
   "language": "python",
   "name": "python3"
  },
  "language_info": {
   "codemirror_mode": {
    "name": "ipython",
    "version": 3
   },
   "file_extension": ".py",
   "mimetype": "text/x-python",
   "name": "python",
   "nbconvert_exporter": "python",
   "pygments_lexer": "ipython3",
   "version": "3.12.4"
  }
 },
 "nbformat": 4,
 "nbformat_minor": 5
}
