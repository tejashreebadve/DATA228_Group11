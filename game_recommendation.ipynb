{
 "cells": [
  {
   "cell_type": "markdown",
   "id": "162a5612-fc5f-4dd8-99d2-40e5d8ac4f3e",
   "metadata": {},
   "source": [
    "### Implementation steps\n",
    "Load cleaned Steam reviews data from HDFS into Spark.\n",
    "\n",
    "Focus only on selected important columns (app_id, app_name, author_steamid, etc.).\n",
    "\n",
    "Remove outliers from author_playtime_forever.\n",
    "\n",
    "Filter serious users (long playtime, valid Steam IDs).\n",
    "\n",
    "Map user IDs and game IDs to small integer indices.\n",
    "\n",
    "Train an ALS recommendation model (Collaborative Filtering).\n",
    "\n",
    "Recommend games for games (item-item recommendations).\n",
    "\n"
   ]
  },
  {
   "cell_type": "markdown",
   "id": "3d30e027-ea34-4768-94ba-a3c5bd421d5c",
   "metadata": {},
   "source": [
    "Your Goal\tStatus\n",
    "Find serious players who played more than one game\n",
    "Filter by high playtime (above average)\n",
    "Focus on real valid users (Steam IDs)\t\n",
    "Map users and games to integer indices (for ALS)\t\n",
    "Recommend 5 games that serious players are likely to like\n"
   ]
  },
  {
   "cell_type": "code",
   "execution_count": 3,
   "id": "14b0b19c-8709-4947-a813-255645ddf431",
   "metadata": {},
   "outputs": [],
   "source": [
    "from pyspark.sql import SparkSession\n",
    "from pyspark.sql.functions import *\n",
    "from pyspark.sql.types import *\n",
    "from pyspark.sql.functions import from_unixtime\n",
    "from pyspark.ml.recommendation import ALS\n",
    "from pyspark.ml.feature import StringIndexer, IndexToString\n",
    "import matplotlib.pyplot as plt\n",
    "import pandas as pd\n",
    "import seaborn as sns\n",
    "from scipy import stats\n",
    "from pyspark.sql.functions import col, sum as _sum"
   ]
  },
  {
   "cell_type": "code",
   "execution_count": 4,
   "id": "81c09174-e198-4cef-a139-4d2864b6ecfa",
   "metadata": {},
   "outputs": [
    {
     "name": "stderr",
     "output_type": "stream",
     "text": [
      "Setting default log level to \"WARN\".\n",
      "To adjust logging level use sc.setLogLevel(newLevel). For SparkR, use setLogLevel(newLevel).\n",
      "25/04/28 20:30:53 WARN NativeCodeLoader: Unable to load native-hadoop library for your platform... using builtin-java classes where applicable\n",
      "25/04/28 20:30:53 WARN Utils: Service 'SparkUI' could not bind on port 4040. Attempting port 4041.\n"
     ]
    }
   ],
   "source": [
    "from pyspark.sql import SparkSession\n",
    "\n",
    "spark = SparkSession.builder \\\n",
    "    .appName(\"SteamReviewsHDFS\") \\\n",
    "    .config(\"spark.hadoop.fs.defaultFS\", \"hdfs://localhost:9000\") \\\n",
    "    .config(\"spark.driver.memory\", \"4g\") \\\n",
    "    .config(\"spark.executor.memory\", \"4g\") \\\n",
    "    .config(\"spark.sql.shuffle.partitions\", \"100\")\\\n",
    "    .config(\"spark.sql.execution.arrow.pyspark.enabled\", \"true\") \\\n",
    "    .getOrCreate()\n"
   ]
  },
  {
   "cell_type": "code",
   "execution_count": 5,
   "id": "f481c580-94d9-475c-b82c-0f8cd59932b1",
   "metadata": {},
   "outputs": [],
   "source": [
    "df = spark.read.parquet(\"/user/tejashree/project/cleaned_steam_reviews.parquet\")"
   ]
  },
  {
   "cell_type": "markdown",
   "id": "b29df4df-a09c-4f20-930b-ec8488ada45c",
   "metadata": {},
   "source": [
    "#### Are there any pairs of games that are played by the same players, i.e., if player A plays game X, then there is a good chance they play game Y also? Analyze any pattern\n",
    "\n",
    "- Using the `data_rec` data frame, we can extract the review authors who have given reviews for more than one game.\n",
    "- We will use the `author_playtime_forever` column to filter the gamers with a play time more than average so as to decrease the amassing of games by a single author.\n",
    "- We will consider five games that are common among these reviewers and recommend them to other players who would fall in the same category."
   ]
  },
  {
   "cell_type": "markdown",
   "id": "c6567ce6-18ec-48ac-a6f1-7e2dc4b179bf",
   "metadata": {},
   "source": [
    "Using the data_rec DataFrame, we first identify review authors who have reviewed more than one game. To ensure that these are serious players (and not users who just briefly tried a game), we filter based on the author_playtime_forever column — keeping only those who have spent more than the average playtime across all users. Then, for these active players, we analyze the games they have commonly played and recommended. Based on this behavior, we recommend five games that are frequently associated with such serious players to other users who exhibit similar engagement patterns."
   ]
  },
  {
   "cell_type": "code",
   "execution_count": 8,
   "id": "16b83627-ad84-446c-84f5-76781f54d92e",
   "metadata": {},
   "outputs": [],
   "source": [
    "col_rec = [\"app_id\", \"app_name\", \"review_id\", \"language\", \"author_steamid\", \"timestamp_created\" ,\"author_playtime_forever\",\"recommended\"]"
   ]
  },
  {
   "cell_type": "code",
   "execution_count": 9,
   "id": "bffbbf5a-2fb4-4d10-87e3-84629d550d28",
   "metadata": {},
   "outputs": [],
   "source": [
    "data_rec = df.select(*col_rec)"
   ]
  },
  {
   "cell_type": "code",
   "execution_count": 10,
   "id": "cabebab3-7b4b-49c4-ac2c-45db6f34bb10",
   "metadata": {},
   "outputs": [
    {
     "name": "stderr",
     "output_type": "stream",
     "text": [
      "                                                                                \r"
     ]
    }
   ],
   "source": [
    "def remove_outliers(df, column):\n",
    "    q1, q3 = df.approxQuantile(column, [0.25, 0.75], 0.01)\n",
    "    iqr = q3 - q1\n",
    "    lower_limit = q1 - 2 * iqr\n",
    "    upper_limit = q3 + 2 * iqr\n",
    "    return df.filter((col(column) >= lower_limit) & (col(column) <= upper_limit))\n",
    "data_rec = remove_outliers(data_rec, \"author_playtime_forever\")\n",
    "mean_playtime = data_rec.agg(mean(\"author_playtime_forever\").alias(\"Mean\")).collect()[0][\"Mean\"]"
   ]
  },
  {
   "cell_type": "code",
   "execution_count": 11,
   "id": "c0d9aa3b-f286-4662-9010-b2374aaef4ec",
   "metadata": {},
   "outputs": [
    {
     "data": {
      "text/plain": [
       "2.1252337349570114"
      ]
     },
     "execution_count": 11,
     "metadata": {},
     "output_type": "execute_result"
    }
   ],
   "source": [
    "mean_playtime/3600 # average play time in hours"
   ]
  },
  {
   "cell_type": "markdown",
   "id": "754f37f6-d3f4-4c86-a1e7-f5f957f56d47",
   "metadata": {},
   "source": [
    "This code filters the dataset to retain only serious users who have played each game for at least five times the average playtime, groups them by their Steam ID, keeps only those users who have reviewed more than one such game, ensures the user IDs are valid by checking they are above a specific threshold (76560000000000000), and finally orders these users by the number of games they have seriously engaged with in descending order."
   ]
  },
  {
   "cell_type": "code",
   "execution_count": 13,
   "id": "77f59c89-7a5f-4687-9812-bcf70778e03c",
   "metadata": {},
   "outputs": [
    {
     "name": "stderr",
     "output_type": "stream",
     "text": [
      "                                                                                \r"
     ]
    },
    {
     "name": "stdout",
     "output_type": "stream",
     "text": [
      "+-----------------+-----+\n",
      "|   author_steamid|count|\n",
      "+-----------------+-----+\n",
      "|76561199003745475|   11|\n",
      "|76561198008966571|    7|\n",
      "|76561198107639116|    6|\n",
      "|76561198876426843|    5|\n",
      "|76561198303461537|    5|\n",
      "|76561198998112614|    5|\n",
      "|76561198847533327|    5|\n",
      "|76561198253481314|    5|\n",
      "|76561198384612405|    4|\n",
      "|76561198291222351|    4|\n",
      "|76561198196563587|    4|\n",
      "|76561198368118101|    4|\n",
      "|76561198373495048|    4|\n",
      "|76561198262809392|    4|\n",
      "|76561198008376294|    4|\n",
      "|76561198244556704|    4|\n",
      "|76561198152295267|    4|\n",
      "|76561198120553051|    4|\n",
      "|76561198147205760|    4|\n",
      "|76561198313573755|    4|\n",
      "+-----------------+-----+\n",
      "only showing top 20 rows\n",
      "\n"
     ]
    }
   ],
   "source": [
    "pair_games = data_rec.filter(col(\"author_playtime_forever\")>=5*mean_playtime).groupBy(\"author_steamid\").count()\n",
    "pair_games = pair_games.filter((pair_games[\"count\"]>1)&(pair_games[\"author_steamid\"]>=76560000000000000)).orderBy(pair_games[\"count\"].desc())\n",
    "pair_games.show()"
   ]
  },
  {
   "cell_type": "code",
   "execution_count": 14,
   "id": "a76e5991-b87c-48aa-aad4-9bc54fe67527",
   "metadata": {},
   "outputs": [
    {
     "data": {
      "text/plain": [
       "3415"
      ]
     },
     "execution_count": 14,
     "metadata": {},
     "output_type": "execute_result"
    }
   ],
   "source": [
    "pair_games.count()"
   ]
  },
  {
   "cell_type": "code",
   "execution_count": 15,
   "id": "c445a953-d1b1-4d12-9b31-827e1a3c1ab4",
   "metadata": {},
   "outputs": [
    {
     "name": "stdout",
     "output_type": "stream",
     "text": [
      "+-----------------+------+--------------------+-----------+\n",
      "|   author_steamid|app_id|            app_name|recommended|\n",
      "+-----------------+------+--------------------+-----------+\n",
      "|76561198106605585|578080|PLAYERUNKNOWN'S B...|      false|\n",
      "|76561198825325306|578080|PLAYERUNKNOWN'S B...|      false|\n",
      "|76561198807124221|578080|PLAYERUNKNOWN'S B...|      false|\n",
      "|76561198364490662|578080|PLAYERUNKNOWN'S B...|       true|\n",
      "|76561198139947090|578080|PLAYERUNKNOWN'S B...|      false|\n",
      "|76561198006176001|578080|PLAYERUNKNOWN'S B...|      false|\n",
      "|76561198833888989|578080|PLAYERUNKNOWN'S B...|       true|\n",
      "|76561198060538461|578080|PLAYERUNKNOWN'S B...|      false|\n",
      "|76561198243019194|578080|PLAYERUNKNOWN'S B...|      false|\n",
      "|76561198382383005|578080|PLAYERUNKNOWN'S B...|       true|\n",
      "|76561198368000612|578080|PLAYERUNKNOWN'S B...|      false|\n",
      "|76561198066304531|578080|PLAYERUNKNOWN'S B...|      false|\n",
      "|76561198423969868|578080|PLAYERUNKNOWN'S B...|      false|\n",
      "|76561198428351076|578080|PLAYERUNKNOWN'S B...|      false|\n",
      "|76561198016459401|578080|PLAYERUNKNOWN'S B...|      false|\n",
      "|76561198101176606|578080|PLAYERUNKNOWN'S B...|      false|\n",
      "|76561198853596175|578080|PLAYERUNKNOWN'S B...|      false|\n",
      "|76561198838562958|578080|PLAYERUNKNOWN'S B...|       true|\n",
      "|76561198310049804|578080|PLAYERUNKNOWN'S B...|      false|\n",
      "|76561198815263959|578080|PLAYERUNKNOWN'S B...|       true|\n",
      "+-----------------+------+--------------------+-----------+\n",
      "only showing top 20 rows\n",
      "\n"
     ]
    }
   ],
   "source": [
    "new_pair_games = data_rec.filter(col(\"author_playtime_forever\")>=5*mean_playtime)\n",
    "new_pair_games = new_pair_games.filter(new_pair_games[\"author_steamid\"]>=76560000000000000).select(\"author_steamid\",\"app_id\", \"app_name\",\"recommended\")\n",
    "new_pair_games.show()"
   ]
  },
  {
   "cell_type": "code",
   "execution_count": 16,
   "id": "15996704-b7c6-4d2e-9616-76106350a30e",
   "metadata": {},
   "outputs": [
    {
     "data": {
      "text/plain": [
       "311158"
      ]
     },
     "execution_count": 16,
     "metadata": {},
     "output_type": "execute_result"
    }
   ],
   "source": [
    "new_pair_games.count()"
   ]
  },
  {
   "cell_type": "code",
   "execution_count": 17,
   "id": "9b234c65-d03d-4ec3-87f8-6b43058f6759",
   "metadata": {},
   "outputs": [
    {
     "name": "stderr",
     "output_type": "stream",
     "text": [
      "                                                                                \r"
     ]
    }
   ],
   "source": [
    "# Convert author_steamid and app_id to indices\n",
    "author_indexer = StringIndexer(inputCol=\"author_steamid\", outputCol=\"author_index\").fit(new_pair_games)\n",
    "app_indexer = StringIndexer(inputCol=\"app_name\", outputCol=\"app_index\").fit(new_pair_games)\n",
    "new_pair_games = new_pair_games.withColumn(\"Rating\", when(col(\"recommended\") == True, 5).otherwise(1))"
   ]
  },
  {
   "cell_type": "code",
   "execution_count": 18,
   "id": "73a42d4b-b1f4-4394-beb8-790835071787",
   "metadata": {},
   "outputs": [
    {
     "name": "stdout",
     "output_type": "stream",
     "text": [
      "+-----------------+------+--------------------+-----------+------+---------+------------+\n",
      "|   author_steamid|app_id|            app_name|recommended|Rating|app_index|author_index|\n",
      "+-----------------+------+--------------------+-----------+------+---------+------------+\n",
      "|76561198106605585|578080|PLAYERUNKNOWN'S B...|      false|     1|      0.0|     98146.0|\n",
      "|76561198825325306|578080|PLAYERUNKNOWN'S B...|      false|     1|      0.0|    275158.0|\n",
      "|76561198807124221|578080|PLAYERUNKNOWN'S B...|      false|     1|      0.0|    269883.0|\n",
      "|76561198364490662|578080|PLAYERUNKNOWN'S B...|       true|     5|      0.0|    227159.0|\n",
      "|76561198139947090|578080|PLAYERUNKNOWN'S B...|      false|     1|      0.0|    124272.0|\n",
      "|76561198006176001|578080|PLAYERUNKNOWN'S B...|      false|     1|      0.0|     20044.0|\n",
      "|76561198833888989|578080|PLAYERUNKNOWN'S B...|       true|     5|      0.0|    277495.0|\n",
      "|76561198060538461|578080|PLAYERUNKNOWN'S B...|      false|     1|      0.0|     58972.0|\n",
      "|76561198243019194|578080|PLAYERUNKNOWN'S B...|      false|     1|      0.0|    171648.0|\n",
      "|76561198382383005|578080|PLAYERUNKNOWN'S B...|       true|     5|      0.0|    234760.0|\n",
      "|76561198368000612|578080|PLAYERUNKNOWN'S B...|      false|     1|      0.0|    228915.0|\n",
      "|76561198066304531|578080|PLAYERUNKNOWN'S B...|      false|     1|      0.0|     63993.0|\n",
      "|76561198423969868|578080|PLAYERUNKNOWN'S B...|      false|     1|      0.0|    253296.0|\n",
      "|76561198428351076|578080|PLAYERUNKNOWN'S B...|      false|     1|      0.0|    255436.0|\n",
      "|76561198016459401|578080|PLAYERUNKNOWN'S B...|      false|     1|      0.0|     26473.0|\n",
      "|76561198101176606|578080|PLAYERUNKNOWN'S B...|      false|     1|      0.0|     94036.0|\n",
      "|76561198853596175|578080|PLAYERUNKNOWN'S B...|      false|     1|      0.0|    283093.0|\n",
      "|76561198838562958|578080|PLAYERUNKNOWN'S B...|       true|     5|      0.0|    278809.0|\n",
      "|76561198310049804|578080|PLAYERUNKNOWN'S B...|      false|     1|      0.0|    201243.0|\n",
      "|76561198815263959|578080|PLAYERUNKNOWN'S B...|       true|     5|      0.0|    272358.0|\n",
      "+-----------------+------+--------------------+-----------+------+---------+------------+\n",
      "only showing top 20 rows\n",
      "\n"
     ]
    },
    {
     "name": "stderr",
     "output_type": "stream",
     "text": [
      "25/04/28 20:31:04 WARN DAGScheduler: Broadcasting large task binary with size 11.7 MiB\n"
     ]
    }
   ],
   "source": [
    "new_pair = author_indexer.transform(app_indexer.transform(new_pair_games))\n",
    "new_pair.show()"
   ]
  },
  {
   "cell_type": "code",
   "execution_count": 19,
   "id": "9b8d488c-628b-400f-a9c2-49e17679f8bd",
   "metadata": {},
   "outputs": [
    {
     "name": "stderr",
     "output_type": "stream",
     "text": [
      "                                                                                \r"
     ]
    },
    {
     "data": {
      "text/plain": [
       "937"
      ]
     },
     "execution_count": 19,
     "metadata": {},
     "output_type": "execute_result"
    }
   ],
   "source": [
    "games = new_pair.select(\"app_index\",\"app_name\").distinct().orderBy(\"app_index\")\n",
    "games.count()"
   ]
  },
  {
   "cell_type": "code",
   "execution_count": 20,
   "id": "bc95865c-e3f2-4b28-b0f2-a8d3c810c1bb",
   "metadata": {},
   "outputs": [
    {
     "name": "stderr",
     "output_type": "stream",
     "text": [
      "25/04/28 20:31:05 WARN DAGScheduler: Broadcasting large task binary with size 11.7 MiB\n",
      "25/04/28 20:31:06 WARN DAGScheduler: Broadcasting large task binary with size 11.7 MiB\n",
      "25/04/28 20:31:08 WARN DAGScheduler: Broadcasting large task binary with size 11.7 MiB\n",
      "25/04/28 20:31:09 WARN DAGScheduler: Broadcasting large task binary with size 11.7 MiB\n",
      "25/04/28 20:31:09 WARN DAGScheduler: Broadcasting large task binary with size 11.7 MiB\n",
      "25/04/28 20:31:11 WARN DAGScheduler: Broadcasting large task binary with size 11.7 MiB\n",
      "25/04/28 20:31:12 WARN DAGScheduler: Broadcasting large task binary with size 11.7 MiB\n",
      "25/04/28 20:31:12 WARN InstanceBuilder: Failed to load implementation from:dev.ludovic.netlib.blas.JNIBLAS\n",
      "25/04/28 20:31:12 WARN DAGScheduler: Broadcasting large task binary with size 11.7 MiB\n",
      "25/04/28 20:31:12 WARN InstanceBuilder: Failed to load implementation from:dev.ludovic.netlib.lapack.JNILAPACK\n",
      "25/04/28 20:31:13 WARN DAGScheduler: Broadcasting large task binary with size 11.7 MiB\n",
      "25/04/28 20:31:13 WARN DAGScheduler: Broadcasting large task binary with size 11.7 MiB\n",
      "25/04/28 20:31:14 WARN DAGScheduler: Broadcasting large task binary with size 11.7 MiB\n",
      "25/04/28 20:31:14 WARN DAGScheduler: Broadcasting large task binary with size 11.7 MiB\n",
      "25/04/28 20:31:15 WARN DAGScheduler: Broadcasting large task binary with size 11.8 MiB\n",
      "25/04/28 20:31:15 WARN DAGScheduler: Broadcasting large task binary with size 11.8 MiB\n",
      "25/04/28 20:31:16 WARN DAGScheduler: Broadcasting large task binary with size 11.8 MiB\n",
      "25/04/28 20:31:16 WARN DAGScheduler: Broadcasting large task binary with size 11.8 MiB\n",
      "25/04/28 20:31:17 WARN DAGScheduler: Broadcasting large task binary with size 11.8 MiB\n",
      "25/04/28 20:31:17 WARN DAGScheduler: Broadcasting large task binary with size 11.8 MiB\n",
      "25/04/28 20:31:17 WARN DAGScheduler: Broadcasting large task binary with size 11.8 MiB\n",
      "25/04/28 20:31:18 WARN DAGScheduler: Broadcasting large task binary with size 11.8 MiB\n",
      "25/04/28 20:31:19 WARN DAGScheduler: Broadcasting large task binary with size 11.8 MiB\n",
      "25/04/28 20:31:19 WARN DAGScheduler: Broadcasting large task binary with size 11.8 MiB\n",
      "25/04/28 20:31:20 WARN DAGScheduler: Broadcasting large task binary with size 11.8 MiB\n",
      "25/04/28 20:31:20 WARN DAGScheduler: Broadcasting large task binary with size 11.8 MiB\n",
      "25/04/28 20:31:21 WARN DAGScheduler: Broadcasting large task binary with size 11.8 MiB\n",
      "25/04/28 20:31:21 WARN DAGScheduler: Broadcasting large task binary with size 11.8 MiB\n",
      "25/04/28 20:31:21 WARN DAGScheduler: Broadcasting large task binary with size 11.8 MiB\n",
      "25/04/28 20:31:22 WARN DAGScheduler: Broadcasting large task binary with size 11.8 MiB\n",
      "25/04/28 20:31:23 WARN DAGScheduler: Broadcasting large task binary with size 11.8 MiB\n",
      "25/04/28 20:31:32 WARN DAGScheduler: Broadcasting large task binary with size 11.8 MiB\n"
     ]
    },
    {
     "name": "stdout",
     "output_type": "stream",
     "text": [
      "+------------+-----------------------------------------------------------------------------------------+\n",
      "|author_index|recommendations                                                                          |\n",
      "+------------+-----------------------------------------------------------------------------------------+\n",
      "|4           |[{143, 7.0673294}, {904, 6.562283}, {139, 6.4849224}, {127, 6.4391174}, {866, 6.286461}] |\n",
      "|7           |[{37, 7.0302258}, {866, 6.9079695}, {43, 6.4405684}, {174, 6.328453}, {666, 6.2992015}]  |\n",
      "|8           |[{639, 5.943613}, {401, 5.861968}, {876, 5.8265657}, {277, 5.613238}, {603, 5.570956}]   |\n",
      "|23          |[{171, 6.799896}, {66, 6.796947}, {159, 6.7675366}, {3, 6.7417817}, {750, 6.7164574}]    |\n",
      "|31          |[{384, 7.4822216}, {532, 7.1989446}, {105, 7.009874}, {765, 6.9626865}, {835, 6.428036}] |\n",
      "|34          |[{193, 8.024941}, {291, 7.986845}, {490, 7.761163}, {221, 7.6659217}, {87, 7.471557}]    |\n",
      "|39          |[{430, 6.0836554}, {325, 5.641981}, {277, 5.4363813}, {37, 5.3832107}, {912, 5.3070173}] |\n",
      "|49          |[{18, 4.9578285}, {5, 4.946715}, {746, 4.7273736}, {229, 4.529711}, {700, 4.3524985}]    |\n",
      "|53          |[{193, 6.87251}, {332, 6.675535}, {379, 6.657175}, {857, 6.5416436}, {669, 6.3792214}]   |\n",
      "|55          |[{511, 7.1217494}, {495, 6.9848433}, {159, 6.5207806}, {278, 6.4827876}, {299, 6.438356}]|\n",
      "|59          |[{629, 6.303817}, {766, 6.235297}, {151, 6.041529}, {70, 5.877817}, {889, 5.7586417}]    |\n",
      "|65          |[{492, 6.8366346}, {733, 6.2622905}, {251, 5.8345847}, {369, 5.8315334}, {43, 5.6682696}]|\n",
      "|78          |[{525, 7.5346775}, {777, 6.902122}, {475, 6.8223147}, {507, 6.751778}, {135, 6.724617}]  |\n",
      "|84          |[{389, 5.342599}, {774, 5.1434846}, {44, 5.0052276}, {149, 4.999465}, {6, 4.9686794}]    |\n",
      "|85          |[{522, 6.994078}, {261, 6.402279}, {402, 6.3934393}, {444, 5.994061}, {303, 5.773997}]   |\n",
      "|87          |[{1, 4.913758}, {838, 3.8650293}, {141, 3.8640547}, {511, 3.4774299}, {149, 3.4707403}]  |\n",
      "|100         |[{325, 5.05493}, {33, 5.0073123}, {10, 4.986885}, {30, 4.962905}, {663, 4.7638288}]      |\n",
      "|108         |[{661, 6.6159987}, {245, 6.151309}, {304, 6.122888}, {711, 5.989694}, {235, 5.9074597}]  |\n",
      "|114         |[{153, 5.1682425}, {914, 5.1289296}, {728, 5.096488}, {592, 5.0074887}, {163, 4.999592}] |\n",
      "|130         |[{142, 4.9993663}, {123, 4.9987874}, {787, 4.253113}, {337, 4.096814}, {188, 4.0691}]    |\n",
      "+------------+-----------------------------------------------------------------------------------------+\n",
      "only showing top 20 rows\n",
      "\n"
     ]
    },
    {
     "name": "stderr",
     "output_type": "stream",
     "text": [
      "                                                                                \r"
     ]
    }
   ],
   "source": [
    "# Create an ALS (Alternating Least Squares) model\n",
    "als = ALS(maxIter=10, regParam=0.01, userCol=\"app_index\", itemCol=\"author_index\", ratingCol=\"Rating\", coldStartStrategy=\"drop\")\n",
    "\n",
    "# Fit the model to the data\n",
    "model = als.fit(new_pair)\n",
    "\n",
    "# Generate recommendations for all items\n",
    "app_recommendations = model.recommendForAllItems(5)  # Number of recommendations per item\n",
    "\n",
    "# Display the recommendations\n",
    "app_recommendations.show(truncate=False)"
   ]
  },
  {
   "cell_type": "code",
   "execution_count": 21,
   "id": "02ec6f4e-3526-475d-b3cf-490583bb77b8",
   "metadata": {},
   "outputs": [
    {
     "name": "stdout",
     "output_type": "stream",
     "text": [
      "+---------+--------------------+\n",
      "|app_index|            app_name|\n",
      "+---------+--------------------+\n",
      "|      0.0|PLAYERUNKNOWN'S B...|\n",
      "|      1.0|Tom Clancy's Rain...|\n",
      "|      2.0|  Grand Theft Auto V|\n",
      "|      3.0|       Rocket League|\n",
      "|      4.0|                Rust|\n",
      "|      5.0|            Terraria|\n",
      "|      6.0|         Garry's Mod|\n",
      "|      7.0|    Dead by Daylight|\n",
      "|      8.0|ARK: Survival Evo...|\n",
      "|      9.0|Monster Hunter: W...|\n",
      "|     10.0|Euro Truck Simula...|\n",
      "|     11.0|              Arma 3|\n",
      "|     12.0|   Hearts of Iron IV|\n",
      "|     13.0|            PAYDAY 2|\n",
      "|     14.0|The Elder Scrolls...|\n",
      "|     15.0|Sid Meier's Civil...|\n",
      "|     16.0|Europa Universali...|\n",
      "|     17.0|Total War: WARHAM...|\n",
      "|     18.0|           Fallout 4|\n",
      "|     19.0|The Binding of Is...|\n",
      "+---------+--------------------+\n",
      "only showing top 20 rows\n",
      "\n"
     ]
    }
   ],
   "source": [
    "games.show()"
   ]
  },
  {
   "cell_type": "markdown",
   "id": "c8c5bf6a-a945-411a-809c-773e6b0ddc14",
   "metadata": {},
   "source": [
    "### save model"
   ]
  },
  {
   "cell_type": "code",
   "execution_count": 29,
   "id": "a7835044-208b-4332-aacf-ee1d67d44f87",
   "metadata": {},
   "outputs": [
    {
     "name": "stderr",
     "output_type": "stream",
     "text": [
      "25/04/28 21:08:34 WARN DAGScheduler: Broadcasting large task binary with size 12.0 MiB\n",
      "25/04/28 21:08:35 WARN DAGScheduler: Broadcasting large task binary with size 12.0 MiB\n",
      "                                                                                \r"
     ]
    }
   ],
   "source": [
    "# Save your ALS trained model\n",
    "model.save(\"/user/tejashree/project/als_game_recommendation_model\")\n"
   ]
  },
  {
   "cell_type": "code",
   "execution_count": 31,
   "id": "7e24a50c-8133-4176-b9f9-75f695586327",
   "metadata": {},
   "outputs": [],
   "source": [
    "from pyspark.ml.recommendation import ALSModel\n",
    "model = ALSModel.load(\"/user/tejashree/project/als_game_recommendation_model\")\n"
   ]
  },
  {
   "cell_type": "markdown",
   "id": "ec663185-1b57-41b3-bd35-53f2345aab20",
   "metadata": {},
   "source": [
    "### save recomendations"
   ]
  },
  {
   "cell_type": "code",
   "execution_count": 37,
   "id": "096bc063-d73e-4d52-9ca2-53f06558c892",
   "metadata": {},
   "outputs": [
    {
     "name": "stderr",
     "output_type": "stream",
     "text": [
      "                                                                                \r"
     ]
    }
   ],
   "source": [
    "user_recommendations = model.recommendForAllItems(5)\n",
    "user_recommendations.write.mode(\"overwrite\").parquet(\"/user/tejashree/project/user_recommendations.parquet\")"
   ]
  },
  {
   "cell_type": "markdown",
   "id": "437bd923-50e9-45cb-a420-9d57014198c2",
   "metadata": {},
   "source": [
    " ### saving app_index → app_name mapping,"
   ]
  },
  {
   "cell_type": "code",
   "execution_count": null,
   "id": "d2c0b686-2095-4b4c-83dd-7ed2d5cfe918",
   "metadata": {},
   "outputs": [],
   "source": [
    "games.write.mode(\"overwrite\").parquet(\"/user/tejashree/project/games_mapping.parquet\")\n"
   ]
  },
  {
   "cell_type": "code",
   "execution_count": 41,
   "id": "431c0a77-1231-4630-b6d3-5e6bad9c5b8f",
   "metadata": {},
   "outputs": [
    {
     "name": "stdout",
     "output_type": "stream",
     "text": [
      "+------------+-----------------------------------------------------------------------------------------+\n",
      "|author_index|recommendations                                                                          |\n",
      "+------------+-----------------------------------------------------------------------------------------+\n",
      "|0           |[{183, 8.556689}, {33, 8.345333}, {155, 8.06116}, {828, 7.814534}, {575, 7.7418513}]     |\n",
      "|9           |[{370, 7.958337}, {159, 7.5476995}, {70, 7.4782033}, {99, 7.337401}, {160, 7.2315965}]   |\n",
      "|17          |[{835, 6.309818}, {59, 6.2674575}, {83, 6.1001024}, {595, 5.861573}, {22, 5.749616}]     |\n",
      "|18          |[{704, 7.339795}, {216, 6.922491}, {861, 6.8088093}, {571, 6.5223966}, {105, 6.390658}]  |\n",
      "|30          |[{2, 4.924485}, {160, 4.398764}, {766, 4.2458377}, {151, 3.957089}, {470, 3.8709142}]    |\n",
      "|35          |[{327, 6.3794274}, {744, 6.3401575}, {403, 5.994085}, {569, 5.860409}, {909, 5.843494}]  |\n",
      "|36          |[{539, 6.624758}, {143, 6.2727175}, {301, 6.236388}, {575, 5.991487}, {29, 5.980832}]    |\n",
      "|37          |[{667, 5.60237}, {384, 5.5101757}, {126, 5.44112}, {407, 5.3378158}, {566, 5.305169}]    |\n",
      "|46          |[{595, 6.2729697}, {387, 5.9824085}, {83, 5.8822002}, {297, 5.5105023}, {633, 5.2122226}]|\n",
      "|61          |[{5, 4.9020324}, {448, 4.0092793}, {449, 3.7609942}, {83, 3.734005}, {487, 3.7147677}]   |\n",
      "|66          |[{708, 7.3666973}, {829, 6.9854608}, {183, 6.749852}, {181, 6.3201685}, {30, 6.2143993}] |\n",
      "|67          |[{732, 5.7387805}, {763, 5.4839907}, {802, 5.481286}, {398, 5.46301}, {901, 5.3933187}]  |\n",
      "|72          |[{571, 6.5980687}, {347, 6.2671914}, {370, 6.230814}, {85, 6.125257}, {381, 6.1029744}]  |\n",
      "|74          |[{927, 4.934994}, {27, 4.8447127}, {373, 4.461731}, {639, 4.2320366}, {192, 4.13073}]    |\n",
      "|88          |[{143, 7.002164}, {743, 6.6760507}, {539, 6.4606485}, {503, 6.0007615}, {59, 5.925205}]  |\n",
      "|89          |[{182, 8.063943}, {717, 7.692456}, {237, 6.8101006}, {148, 6.5296106}, {891, 6.486573}]  |\n",
      "|99          |[{672, 7.1110992}, {100, 6.5277843}, {32, 6.420376}, {134, 6.2156234}, {844, 6.143045}]  |\n",
      "|104         |[{78, 5.9894886}, {541, 5.814067}, {748, 5.705142}, {403, 5.6011524}, {401, 5.3696837}]  |\n",
      "|107         |[{297, 5.6595745}, {676, 5.601905}, {743, 5.4630847}, {855, 5.4285793}, {143, 5.3776493}]|\n",
      "|112         |[{25, 4.978182}, {6, 4.9470057}, {258, 4.4664297}, {389, 4.426579}, {35, 4.320224}]      |\n",
      "+------------+-----------------------------------------------------------------------------------------+\n",
      "only showing top 20 rows\n",
      "\n"
     ]
    },
    {
     "ename": "AttributeError",
     "evalue": "'NoneType' object has no attribute 'where'",
     "output_type": "error",
     "traceback": [
      "\u001b[0;31m---------------------------------------------------------------------------\u001b[0m",
      "\u001b[0;31mAttributeError\u001b[0m                            Traceback (most recent call last)",
      "Cell \u001b[0;32mIn[41], line 5\u001b[0m\n\u001b[1;32m      2\u001b[0m recommendations_df \u001b[38;5;241m=\u001b[39m spark\u001b[38;5;241m.\u001b[39mread\u001b[38;5;241m.\u001b[39mparquet(\u001b[38;5;124m\"\u001b[39m\u001b[38;5;124m/user/tejashree/project/user_recommendations.parquet\u001b[39m\u001b[38;5;124m\"\u001b[39m)\n\u001b[1;32m      4\u001b[0m \u001b[38;5;66;03m# 2. Display 20 rows\u001b[39;00m\n\u001b[0;32m----> 5\u001b[0m recommendations_df\u001b[38;5;241m.\u001b[39mshow(\u001b[38;5;241m20\u001b[39m, truncate\u001b[38;5;241m=\u001b[39m\u001b[38;5;28;01mFalse\u001b[39;00m)\u001b[38;5;241m.\u001b[39mwhere(author_index\u001b[38;5;241m==\u001b[39m\u001b[38;5;241m55\u001b[39m)\n",
      "\u001b[0;31mAttributeError\u001b[0m: 'NoneType' object has no attribute 'where'"
     ]
    }
   ],
   "source": [
    "# 1. Read back saved recommendations\n",
    "recommendations_df = spark.read.parquet(\"/user/tejashree/project/user_recommendations.parquet\")\n",
    "\n",
    "# 2. Display 20 rows\n",
    "recommendations_df.show(20, truncate=False).where(author_index==55)\n"
   ]
  },
  {
   "cell_type": "code",
   "execution_count": 43,
   "id": "59ceb6f1-75a4-41a1-b654-145f62a4eff3",
   "metadata": {},
   "outputs": [
    {
     "name": "stdout",
     "output_type": "stream",
     "text": [
      "+------------+-----------------------------------------------------------------------------------------+\n",
      "|author_index|recommendations                                                                          |\n",
      "+------------+-----------------------------------------------------------------------------------------+\n",
      "|55          |[{511, 7.1217494}, {495, 6.9848433}, {159, 6.5207806}, {278, 6.4827876}, {299, 6.438356}]|\n",
      "+------------+-----------------------------------------------------------------------------------------+\n",
      "\n"
     ]
    }
   ],
   "source": [
    "from pyspark.sql.functions import col\n",
    "\n",
    "# First filter, then show\n",
    "recommendations_df.where(col(\"author_index\") == 55).show(20, truncate=False)\n"
   ]
  },
  {
   "cell_type": "code",
   "execution_count": 47,
   "id": "bf1fbd66-c630-46a6-9965-929abf23760c",
   "metadata": {},
   "outputs": [
    {
     "name": "stderr",
     "output_type": "stream",
     "text": [
      "25/04/28 21:23:09 WARN DAGScheduler: Broadcasting large task binary with size 11.7 MiB\n",
      "25/04/28 21:23:09 WARN DAGScheduler: Broadcasting large task binary with size 11.7 MiB\n",
      "25/04/28 21:23:12 WARN DAGScheduler: Broadcasting large task binary with size 11.7 MiB\n",
      "25/04/28 21:23:13 WARN DAGScheduler: Broadcasting large task binary with size 11.7 MiB\n",
      "25/04/28 21:23:14 WARN DAGScheduler: Broadcasting large task binary with size 11.7 MiB\n",
      "25/04/28 21:23:15 WARN DAGScheduler: Broadcasting large task binary with size 11.7 MiB\n",
      "25/04/28 21:23:16 WARN DAGScheduler: Broadcasting large task binary with size 11.7 MiB\n",
      "25/04/28 21:23:16 WARN DAGScheduler: Broadcasting large task binary with size 11.7 MiB\n",
      "25/04/28 21:23:17 WARN DAGScheduler: Broadcasting large task binary with size 11.7 MiB\n",
      "25/04/28 21:23:17 WARN DAGScheduler: Broadcasting large task binary with size 11.7 MiB\n",
      "25/04/28 21:23:17 WARN DAGScheduler: Broadcasting large task binary with size 11.7 MiB\n",
      "25/04/28 21:23:18 WARN DAGScheduler: Broadcasting large task binary with size 11.7 MiB\n",
      "25/04/28 21:23:18 WARN DAGScheduler: Broadcasting large task binary with size 11.8 MiB\n",
      "25/04/28 21:23:19 WARN DAGScheduler: Broadcasting large task binary with size 11.8 MiB\n",
      "25/04/28 21:23:19 WARN DAGScheduler: Broadcasting large task binary with size 11.8 MiB\n",
      "25/04/28 21:23:20 WARN DAGScheduler: Broadcasting large task binary with size 11.8 MiB\n",
      "25/04/28 21:23:20 WARN DAGScheduler: Broadcasting large task binary with size 11.8 MiB\n",
      "25/04/28 21:23:21 WARN DAGScheduler: Broadcasting large task binary with size 11.8 MiB\n",
      "25/04/28 21:23:21 WARN DAGScheduler: Broadcasting large task binary with size 11.8 MiB\n",
      "25/04/28 21:23:22 WARN DAGScheduler: Broadcasting large task binary with size 11.8 MiB\n",
      "25/04/28 21:23:22 WARN DAGScheduler: Broadcasting large task binary with size 11.8 MiB\n",
      "25/04/28 21:23:22 WARN DAGScheduler: Broadcasting large task binary with size 11.8 MiB\n",
      "25/04/28 21:23:23 WARN DAGScheduler: Broadcasting large task binary with size 11.8 MiB\n",
      "25/04/28 21:23:23 WARN DAGScheduler: Broadcasting large task binary with size 11.8 MiB\n",
      "25/04/28 21:23:24 WARN DAGScheduler: Broadcasting large task binary with size 11.8 MiB\n",
      "25/04/28 21:23:24 WARN DAGScheduler: Broadcasting large task binary with size 11.8 MiB\n",
      "25/04/28 21:23:25 WARN DAGScheduler: Broadcasting large task binary with size 11.8 MiB\n",
      "25/04/28 21:23:25 WARN DAGScheduler: Broadcasting large task binary with size 11.8 MiB\n",
      "25/04/28 21:23:26 WARN DAGScheduler: Broadcasting large task binary with size 11.7 MiB\n",
      "25/04/28 21:23:26 WARN DAGScheduler: Broadcasting large task binary with size 11.8 MiB\n",
      "25/04/28 21:23:26 WARN DAGScheduler: Broadcasting large task binary with size 11.8 MiB\n",
      "25/04/28 21:23:29 WARN DAGScheduler: Broadcasting large task binary with size 5.9 MiB\n",
      "25/04/28 21:23:29 WARN DAGScheduler: Broadcasting large task binary with size 11.8 MiB\n",
      "[Stage 316:>                                                        (0 + 8) / 8]\r"
     ]
    },
    {
     "name": "stdout",
     "output_type": "stream",
     "text": [
      "✅ RMSE of your ALS model = 0.0053\n"
     ]
    },
    {
     "name": "stderr",
     "output_type": "stream",
     "text": [
      "25/04/28 21:23:30 WARN DAGScheduler: Broadcasting large task binary with size 11.8 MiB\n",
      "                                                                                \r"
     ]
    }
   ],
   "source": [
    "from pyspark.ml.evaluation import RegressionEvaluator\n",
    "\n",
    "# Step 1: After you fit your model on `new_pair`\n",
    "model = als.fit(new_pair)\n",
    "\n",
    "# Step 2: Predict back on your input data (new_pair)\n",
    "predictions = model.transform(new_pair)\n",
    "\n",
    "# Step 3: Create an evaluator\n",
    "evaluator = RegressionEvaluator(\n",
    "    metricName=\"rmse\",\n",
    "    labelCol=\"Rating\",\n",
    "    predictionCol=\"prediction\"\n",
    ")\n",
    "\n",
    "# Step 4: Calculate RMSE\n",
    "rmse = evaluator.evaluate(predictions)\n",
    "print(f\"✅ RMSE of your ALS model = {rmse:.4f}\")\n"
   ]
  },
  {
   "cell_type": "code",
   "execution_count": null,
   "id": "bfa9510f-b3c8-460b-b7c5-e58f580c4688",
   "metadata": {},
   "outputs": [],
   "source": []
  }
 ],
 "metadata": {
  "kernelspec": {
   "display_name": "Python 3 (ipykernel)",
   "language": "python",
   "name": "python3"
  },
  "language_info": {
   "codemirror_mode": {
    "name": "ipython",
    "version": 3
   },
   "file_extension": ".py",
   "mimetype": "text/x-python",
   "name": "python",
   "nbconvert_exporter": "python",
   "pygments_lexer": "ipython3",
   "version": "3.12.4"
  }
 },
 "nbformat": 4,
 "nbformat_minor": 5
}
